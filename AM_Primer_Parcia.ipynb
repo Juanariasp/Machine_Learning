{
  "nbformat": 4,
  "nbformat_minor": 0,
  "metadata": {
    "colab": {
      "provenance": []
    },
    "kernelspec": {
      "name": "python3",
      "display_name": "Python 3"
    },
    "language_info": {
      "name": "python"
    }
  },
  "cells": [
    {
      "cell_type": "markdown",
      "metadata": {
        "id": "wVq6EFjAlnJV"
      },
      "source": [
        "<div>\n",
        "<img src=\"https://res-5.cloudinary.com/crunchbase-production/image/upload/c_lpad,h_256,w_256,f_auto,q_auto:eco/v1455514364/pim02bzqvgz0hibsra41.png\" align=\"right\"><FONT FACE=\"times new roman\" SIZE=5>\n",
        "<br>\n",
        "<i><b>Docente:</b></i> Camilo Rodriguez\n",
        "<br>\n",
        "<i><b>Asignatura:</b></i> Aprendizaje de Maquina\n",
        "<br>\n",
        "<i><b>Tema:</b></i> Primer Parcial\n",
        "<br>\n",
        "<i><b>Estudiantes: </b> </i>\n",
        "<li>Juan Esteban Arias</li>\n",
        "<li>Christian David Jiménez</li>\n",
        "</FONT>\n",
        "</div>"
      ]
    },
    {
      "cell_type": "code",
      "source": [
        "import math\n",
        "import numpy as np\n",
        "import pandas as pd\n",
        "import matplotlib.pyplot as plt\n",
        "import plotly.graph_objects as go\n",
        "\n",
        "from sklearn import tree\n",
        "from sklearn.preprocessing import MinMaxScaler\n",
        "from sklearn.model_selection import cross_validate\n",
        "from sklearn.metrics import mean_squared_error, accuracy_score\n",
        "from sklearn.neighbors import KNeighborsClassifier, KNeighborsRegressor\n",
        "from sklearn.tree import DecisionTreeRegressor, DecisionTreeClassifier, plot_tree"
      ],
      "metadata": {
        "id": "eiO8QItvE_bw"
      },
      "execution_count": null,
      "outputs": []
    },
    {
      "cell_type": "code",
      "source": [
        "df = pd.read_csv(\"https://raw.githubusercontent.com/plotly/datasets/master/diabetes.csv\",\n",
        "                 usecols=[\"Glucose\", \"Pregnancies\" , \"BloodPressure\", \"Outcome\"], nrows=30)\n",
        "df = df.reindex(columns=[\"Glucose\", \"Pregnancies\" , \"BloodPressure\", \"Outcome\"])"
      ],
      "metadata": {
        "id": "axyLFV_rJDF-"
      },
      "execution_count": null,
      "outputs": []
    },
    {
      "cell_type": "markdown",
      "source": [
        "<FONT FACE='times new roman'>\n",
        "<h1><b>Parte 1</b></h1>\n",
        "<p align='justify'>\n",
        "<FONT SIZE = 4>\n",
        "Realizar validación cruzada de cv=3 para un árbol de decisión clasificador de max_depth=3:<br><br>\n",
        "En cada CV  encontrar un árbol de decisión de max_depth=3 utilizando entropía. Mostrar cada árbol resultante, evaluar Accuracy en train y Accuracy en validación.\n",
        "En cada proceso de entrenamiento se debe mostrar la entropía para todos los posibles condicionales y cuál se escogió.(8 puntos)\n",
        "</p>"
      ],
      "metadata": {
        "id": "gmcGNpMQWGXb"
      }
    },
    {
      "cell_type": "code",
      "source": [
        "# Funcion de entropia\n",
        "def entropia(proba1,proba2):\n",
        "  if proba1 == 0 or proba2 == 0:\n",
        "    return 0\n",
        "  else:\n",
        "    return -((proba1)*math.log2(proba1)+(proba2*math.log2(proba2)))\n",
        "\n",
        "# Entropia total\n",
        "def entropiaTotal(proba1,entropia1,proba2,entropia2):\n",
        "  return (proba1*entropia1)+(proba2*entropia2)"
      ],
      "metadata": {
        "id": "f_4s6vOyrNSX"
      },
      "execution_count": null,
      "outputs": []
    },
    {
      "cell_type": "code",
      "source": [
        "# Funcion para obtener la entropia de cada condicional\n",
        "def sacar_entropias(df_organizado, columna):\n",
        "\n",
        "  entropias = {}\n",
        "  tamaño = len(df_organizado)\n",
        "  df_organizado = df_organizado.sort_values(by=df_organizado.columns[columna], ascending=True).reset_index(drop=True)\n",
        "\n",
        "  for i in range(1,tamaño):\n",
        "\n",
        "    if df_organizado.iloc[:,columna][i] != df_organizado.iloc[:,columna][i-1]:\n",
        "\n",
        "      valor = (df_organizado.iloc[:,columna][i]+df_organizado.iloc[:,columna][i-1])/2\n",
        "\n",
        "      C0_si = df_organizado[:i][\"Outcome\"].eq(0).sum()\n",
        "      C1_si = df_organizado[:i][\"Outcome\"].eq(1).sum()\n",
        "      C0_no = df_organizado[i:][\"Outcome\"].eq(0).sum()\n",
        "      C1_no = df_organizado[i:][\"Outcome\"].eq(1).sum()\n",
        "\n",
        "      entropia1 = entropia(C0_si/i,C1_si/i)\n",
        "      entropia2 = entropia(C0_no/(tamaño-i), C1_no/(tamaño-i))\n",
        "      entropias[valor] = entropiaTotal(i/tamaño,entropia1,(tamaño-i)/tamaño,entropia2)\n",
        "\n",
        "  return entropias"
      ],
      "metadata": {
        "id": "NlL9SBEMjNiV"
      },
      "execution_count": null,
      "outputs": []
    },
    {
      "cell_type": "markdown",
      "source": [
        "<FONT FACE='times new roman'>\n",
        "<h1><b>Experimento 1 (CV1)</b></h1>\n",
        "<p align='justify'>\n",
        "<FONT SIZE = 4>\n",
        "En este experimento se coge el grupo 1 y grupo 2 como valores de entrenamiento, y el grupo 3 para los valores de prueba\n",
        "</p>"
      ],
      "metadata": {
        "id": "NuT0rKmD1plW"
      }
    },
    {
      "cell_type": "markdown",
      "source": [
        "<FONT FACE='times new roman'>\n",
        "<h2><b>Primer nivel del arbol</b></h2>\n",
        "<p align='justify'>\n",
        "<FONT SIZE = 4>\n",
        "Para encontrar el condicional que minimice la entropía, debemos realizar el proceso utilizando las tres variables del dataframe. En total, se deben realizar 19 condicionales por variable en el primer nivel.\n",
        "</p>\n"
      ],
      "metadata": {
        "id": "aLPkgND8h_6h"
      }
    },
    {
      "cell_type": "code",
      "source": [
        "# Segmentamos los datos en df_cv1 para el primer nivel del arbol\n",
        "df_cv1 = df[:20]"
      ],
      "metadata": {
        "id": "tX4TQA5t1puX"
      },
      "execution_count": null,
      "outputs": []
    },
    {
      "cell_type": "code",
      "source": [
        "# Sacamos los valores de entropia para la variable BloodPressure\n",
        "entropias = sacar_entropias(df_cv1,2)\n",
        "for valor, entropiaT in entropias.items():\n",
        "  print(f\"BloodPressure <= {valor}: {entropiaT}\")\n",
        "\n",
        "# Se obtiene el menor valor de todas las entropias\n",
        "print(f\"\\nEl menor valor de entropia es: {min(entropias.values())}\")"
      ],
      "metadata": {
        "colab": {
          "base_uri": "https://localhost:8080/"
        },
        "id": "WuEshMoZtG0g",
        "outputId": "a5f59e55-30a9-489c-ad0d-5a3f630e9b0d"
      },
      "execution_count": null,
      "outputs": [
        {
          "output_type": "stream",
          "name": "stdout",
          "text": [
            "BloodPressure <= 15.0: 0.9264662506490406\n",
            "BloodPressure <= 35.0: 0.8806282660164275\n",
            "BloodPressure <= 45.0: 0.916830586027646\n",
            "BloodPressure <= 55.0: 0.9314595241545343\n",
            "BloodPressure <= 62.0: 0.9336889212857886\n",
            "BloodPressure <= 65.0: 0.9268959920681902\n",
            "BloodPressure <= 68.0: 0.9109272420695401\n",
            "BloodPressure <= 71.0: 0.9333462928548724\n",
            "BloodPressure <= 73.0: 0.9236494137546574\n",
            "BloodPressure <= 77.0: 0.916830586027646\n",
            "BloodPressure <= 82.0: 0.9339116497041016\n",
            "BloodPressure <= 88.0: 0.9264662506490406\n",
            "BloodPressure <= 94.0: 0.901979414618551\n",
            "\n",
            "El menor valor de entropia es: 0.8806282660164275\n"
          ]
        }
      ]
    },
    {
      "cell_type": "code",
      "source": [
        "# Sacamos los valores de entropia para la variable Pregnancies\n",
        "entropias = sacar_entropias(df_cv1,1)\n",
        "for valor, entropiaT in entropias.items():\n",
        "  print(f\"Pregnancies <= {valor}: {entropiaT}\")\n",
        "\n",
        "# Se obtiene el menor valor de todas las entropias\n",
        "print(f\"\\nEl menor valor de entropia es: {min(entropias.values())}\")"
      ],
      "metadata": {
        "colab": {
          "base_uri": "https://localhost:8080/"
        },
        "id": "YJbPY9jpwArz",
        "outputId": "1ee1d6e2-4368-4027-fc71-c5c7c04b1dfd"
      },
      "execution_count": null,
      "outputs": [
        {
          "output_type": "stream",
          "name": "stdout",
          "text": [
            "Pregnancies <= 0.5: 0.8676708883274061\n",
            "Pregnancies <= 1.5: 0.9236494137546574\n",
            "Pregnancies <= 2.5: 0.9327511016026797\n",
            "Pregnancies <= 3.5: 0.9333462928548724\n",
            "Pregnancies <= 4.5: 0.9261207468426806\n",
            "Pregnancies <= 5.5: 0.9124325037743448\n",
            "Pregnancies <= 6.5: 0.9268959920681902\n",
            "Pregnancies <= 7.5: 0.9314595241545343\n",
            "Pregnancies <= 9.0: 0.8806282660164275\n",
            "\n",
            "El menor valor de entropia es: 0.8676708883274061\n"
          ]
        }
      ]
    },
    {
      "cell_type": "code",
      "source": [
        "# Sacamos los valores de entropia para la variable Glucosa\n",
        "entropias = sacar_entropias(df_cv1,0)\n",
        "for valor, entropiaT in entropias.items():\n",
        "  print(f\"Glucosa <= {valor}: {entropiaT}\")\n",
        "\n",
        "# Se obtiene el menor valor de todas las entropias\n",
        "print(f\"\\nEl menor valor de entropia es: {min(entropias.values())}\")"
      ],
      "metadata": {
        "id": "CoUnKk3rjhYu",
        "colab": {
          "base_uri": "https://localhost:8080/"
        },
        "outputId": "25f2d8bd-8b04-4987-ecb8-254d7095dedb"
      },
      "execution_count": null,
      "outputs": [
        {
          "output_type": "stream",
          "name": "stdout",
          "text": [
            "Glucosa <= 81.5: 0.901979414618551\n",
            "Glucosa <= 87.0: 0.9264662506490406\n",
            "Glucosa <= 94.5: 0.8806282660164275\n",
            "Glucosa <= 101.5: 0.916830586027646\n",
            "Glucosa <= 105.0: 0.8702182050695426\n",
            "Glucosa <= 108.5: 0.9041843979966417\n",
            "Glucosa <= 112.5: 0.8514072418518432\n",
            "Glucosa <= 115.5: 0.822205366528673\n",
            "Glucosa <= 117.0: 0.7199730940219748\n",
            "Glucosa <= 121.5: 0.7731828669613667\n",
            "Glucosa <= 131.0: 0.8174257772798386\n",
            "Glucosa <= 138.0: 0.8543083163590162\n",
            "Glucosa <= 143.5: 0.7\n",
            "Glucosa <= 157.0: 0.7475937239862274\n",
            "Glucosa <= 167.0: 0.790959526630798\n",
            "Glucosa <= 175.5: 0.8308051448989459\n",
            "Glucosa <= 186.0: 0.8676708883274061\n",
            "Glucosa <= 193.0: 0.901979414618551\n",
            "\n",
            "El menor valor de entropia es: 0.7\n"
          ]
        }
      ]
    },
    {
      "cell_type": "markdown",
      "source": [
        "<p align='justify'>\n",
        "<FONT FACE='times new roman' SIZE = 4>\n",
        "El primer nivel del árbol tendrá el condicional \"Glucose <= 143.5\" el cual tuvo una entropía de 0.7.\n",
        "</p>"
      ],
      "metadata": {
        "id": "JtvuifeEHuNq"
      }
    },
    {
      "cell_type": "markdown",
      "source": [
        "![image.png](data:image/png;base64,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)"
      ],
      "metadata": {
        "id": "pEQBOs2miQiu"
      }
    },
    {
      "cell_type": "markdown",
      "source": [
        "<FONT FACE='times new roman'>\n",
        "<h2><b>Segundo nivel del arbol</b></h2>\n",
        "<p align='justify'>\n",
        "<FONT SIZE = 4>\n",
        "Una vez obtenemos el mejor condicional para el primer nivel del árbol, seleccionamos los primeros 14 datos del dataframe para realizar los demás condicionales.\n",
        "</p>"
      ],
      "metadata": {
        "id": "UXX5oC4Z0DMM"
      }
    },
    {
      "cell_type": "code",
      "source": [
        "# Creamos el dataframe para el segundo nivel del arbol, a partir de df_cv1\n",
        "df_cv1_2 = df_cv1.sort_values(by=\"Glucose\", ascending=True)[:14]"
      ],
      "metadata": {
        "id": "WeZcyJ5340WN"
      },
      "execution_count": null,
      "outputs": []
    },
    {
      "cell_type": "code",
      "source": [
        "# Sacamos los valores de entropia para BloodPressure\n",
        "entropias = sacar_entropias(df_cv1_2,2)\n",
        "for valor, entropiaT in entropias.items():\n",
        "  print(f\"BloodPressure <= {valor}: {entropiaT}\")\n",
        "\n",
        "# Se obtiene el menor valor de todas las entropias\n",
        "print(f\"\\nEl menor valor de entropia es: {min(entropias.values())}\")"
      ],
      "metadata": {
        "colab": {
          "base_uri": "https://localhost:8080/"
        },
        "id": "1l58B7HA42q8",
        "outputId": "83640b80-c6c0-450c-cec9-3c19278da27b"
      },
      "execution_count": null,
      "outputs": [
        {
          "output_type": "stream",
          "name": "stdout",
          "text": [
            "BloodPressure <= 15.0: 1.0\n",
            "BloodPressure <= 35.0: 0.9778014163149993\n",
            "BloodPressure <= 45.0: 1.0\n",
            "BloodPressure <= 58.0: 0.9838883936298103\n",
            "BloodPressure <= 68.0: 0.9852281360342515\n",
            "BloodPressure <= 72.0: 1.0\n",
            "BloodPressure <= 77.0: 1.0\n",
            "BloodPressure <= 82.0: 0.9778014163149993\n",
            "BloodPressure <= 88.0: 1.0\n",
            "BloodPressure <= 94.0: 0.924604062650288\n",
            "\n",
            "El menor valor de entropia es: 0.924604062650288\n"
          ]
        }
      ]
    },
    {
      "cell_type": "code",
      "source": [
        "# Sacamos los valores de entropia para Glucose\n",
        "entropias = sacar_entropias(df_cv1_2,0)\n",
        "for valor, entropiaT in entropias.items():\n",
        "  print(f\"Glucose <= {valor}: {entropiaT}\")\n",
        "\n",
        "# Se obtiene el menor valor de todas las entropias\n",
        "print(f\"\\nEl menor valor de entropia es: {min(entropias.values())}\")"
      ],
      "metadata": {
        "colab": {
          "base_uri": "https://localhost:8080/"
        },
        "id": "ByRtzSji4zU2",
        "outputId": "67d7bc1e-4347-44fb-c423-5430db2aa391"
      },
      "execution_count": null,
      "outputs": [
        {
          "output_type": "stream",
          "name": "stdout",
          "text": [
            "Glucose <= 81.5: 0.924604062650288\n",
            "Glucose <= 87.0: 1.0\n",
            "Glucose <= 94.5: 0.9778014163149993\n",
            "Glucose <= 101.5: 1.0\n",
            "Glucose <= 105.0: 0.9838883936298103\n",
            "Glucose <= 108.5: 1.0\n",
            "Glucose <= 112.5: 0.9852281360342515\n",
            "Glucose <= 115.5: 0.9838883936298103\n",
            "Glucose <= 117.0: 0.9253298887416583\n",
            "Glucose <= 121.5: 0.9778014163149993\n",
            "Glucose <= 131.0: 1.0\n",
            "Glucose <= 138.0: 0.924604062650288\n",
            "\n",
            "El menor valor de entropia es: 0.924604062650288\n"
          ]
        }
      ]
    },
    {
      "cell_type": "code",
      "source": [
        "# Sacamos los valores de entropia para df_cv1_2\n",
        "entropias = sacar_entropias(df_cv1_2,1)\n",
        "for valor, entropiaT in entropias.items():\n",
        "  print(f\"Pregnancies <= {valor}: {entropiaT}\")\n",
        "\n",
        "# Se obtiene el menor valor de todas las entropias\n",
        "print(f\"\\nEl menor valor de entropia es: {min(entropias.values())}\")"
      ],
      "metadata": {
        "id": "rYo212eG5rg6",
        "colab": {
          "base_uri": "https://localhost:8080/"
        },
        "outputId": "87c22826-3fef-4858-dc1e-3093a3ecbba5"
      },
      "execution_count": null,
      "outputs": [
        {
          "output_type": "stream",
          "name": "stdout",
          "text": [
            "Pregnancies <= 0.5: 0.839887505700988\n",
            "Pregnancies <= 2.0: 1.0\n",
            "Pregnancies <= 3.5: 0.9852281360342515\n",
            "Pregnancies <= 4.5: 1.0\n",
            "Pregnancies <= 6.0: 0.9838883936298103\n",
            "Pregnancies <= 7.5: 0.9778014163149993\n",
            "Pregnancies <= 9.0: 0.839887505700988\n",
            "\n",
            "El menor valor de entropia es: 0.839887505700988\n"
          ]
        }
      ]
    },
    {
      "cell_type": "markdown",
      "source": [
        "<p align='justify'>\n",
        "<FONT FACE='times new roman' SIZE = 4>\n",
        "El segundo nivel del árbol tendrá el condicional \"Pregnancies <= 0.5\" el cual tuvo una entropía de 0.83988.\n",
        "</p>"
      ],
      "metadata": {
        "id": "blxjugg8IfwO"
      }
    },
    {
      "cell_type": "markdown",
      "source": [
        "![image.png](data:image/png;base64,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)"
      ],
      "metadata": {
        "id": "DC43pdBXQ98y"
      }
    },
    {
      "cell_type": "markdown",
      "source": [
        "<FONT FACE='times new roman'>\n",
        "<h2><b>Tercer nivel del arbol</b></h2>\n",
        "<p align='justify'>\n",
        "<FONT SIZE = 4>\n",
        "Para el último nivel del árbol, utilizamos los 12 datos del dataframe df_cv1_2 para realizar los últimos condicionales.\n",
        "</p>"
      ],
      "metadata": {
        "id": "fj-24VXr9DJN"
      }
    },
    {
      "cell_type": "code",
      "source": [
        "# Creamos el dataframe para el tercer nivel del arbol, a partir de df_cv1_2\n",
        "df_cv1_3 = df_cv1_2.sort_values(by=\"Pregnancies\", ascending=True)[2:]"
      ],
      "metadata": {
        "id": "C1gj55QU95sD"
      },
      "execution_count": null,
      "outputs": []
    },
    {
      "cell_type": "code",
      "source": [
        "# Sacamos los valores de entropia para BloodPressure\n",
        "entropias = sacar_entropias(df_cv1_3,2)\n",
        "for valor, entropiaT in entropias.items():\n",
        "  print(f\"BloodPressure <= {valor}: {entropiaT}\")\n",
        "\n",
        "# Se obtiene el menor valor de todas las entropias\n",
        "print(f\"\\nEl menor valor de entropia es: {min(entropias.values())}\")"
      ],
      "metadata": {
        "colab": {
          "base_uri": "https://localhost:8080/"
        },
        "id": "1Bb9_4O4-Ouv",
        "outputId": "c41f3b7d-0ff1-4694-f079-4621e7e0fb9c"
      },
      "execution_count": null,
      "outputs": [
        {
          "output_type": "stream",
          "name": "stdout",
          "text": [
            "BloodPressure <= 15.0: 0.9757921620455572\n",
            "BloodPressure <= 40.0: 0.9728810033922891\n",
            "BloodPressure <= 58.0: 0.9696226686166434\n",
            "BloodPressure <= 68.0: 0.9591479170272448\n",
            "BloodPressure <= 72.0: 0.979279160376092\n",
            "BloodPressure <= 77.0: 0.9728810033922891\n",
            "BloodPressure <= 86.0: 0.9757921620455572\n",
            "BloodPressure <= 94.0: 0.8668552792172534\n",
            "\n",
            "El menor valor de entropia es: 0.8668552792172534\n"
          ]
        }
      ]
    },
    {
      "cell_type": "code",
      "source": [
        "# Sacamos los valores de entropia para Glucose\n",
        "entropias = sacar_entropias(df_cv1_3,0)\n",
        "for valor, entropiaT in entropias.items():\n",
        "  print(f\"Glucose <= {valor}: {entropiaT}\")\n",
        "\n",
        "# Se obtiene el menor valor de todas las entropias\n",
        "print(f\"\\nEl menor valor de entropia es: {min(entropias.values())}\")"
      ],
      "metadata": {
        "colab": {
          "base_uri": "https://localhost:8080/"
        },
        "id": "WEGS0sw8-PKX",
        "outputId": "7cd018ae-89ef-4e80-d7cf-9049a0f8d754"
      },
      "execution_count": null,
      "outputs": [
        {
          "output_type": "stream",
          "name": "stdout",
          "text": [
            "Glucose <= 81.5: 0.8668552792172534\n",
            "Glucose <= 87.0: 0.9757921620455572\n",
            "Glucose <= 94.5: 0.9728810033922891\n",
            "Glucose <= 101.5: 0.9696226686166434\n",
            "Glucose <= 105.0: 0.979279160376092\n",
            "Glucose <= 108.5: 0.9591479170272448\n",
            "Glucose <= 112.5: 0.979279160376092\n",
            "Glucose <= 115.5: 0.9728810033922891\n",
            "Glucose <= 120.5: 0.9757921620455572\n",
            "Glucose <= 132.0: 0.9111943605205434\n",
            "\n",
            "El menor valor de entropia es: 0.8668552792172534\n"
          ]
        }
      ]
    },
    {
      "cell_type": "code",
      "source": [
        "# Sacamos los valores de entropia para Pregnancies\n",
        "entropias = sacar_entropias(df_cv1_3,1)\n",
        "for valor, entropiaT in entropias.items():\n",
        "  print(f\"Pregnancies <= {valor}: {entropiaT}\")\n",
        "\n",
        "# Se obtiene el menor valor de todas las entropias\n",
        "print(f\"\\nEl menor valor de entropia es: {min(entropias.values())}\")"
      ],
      "metadata": {
        "colab": {
          "base_uri": "https://localhost:8080/"
        },
        "id": "essCALZm8yq3",
        "outputId": "8077f3b1-b0df-48fc-b08f-c2f2ec422bb2"
      },
      "execution_count": null,
      "outputs": [
        {
          "output_type": "stream",
          "name": "stdout",
          "text": [
            "Pregnancies <= 2.0: 0.9370927081530442\n",
            "Pregnancies <= 3.5: 0.979279160376092\n",
            "Pregnancies <= 4.5: 0.9591479170272448\n",
            "Pregnancies <= 6.0: 0.9080497460199801\n",
            "Pregnancies <= 7.5: 0.9728810033922891\n",
            "Pregnancies <= 9.0: 0.8333333333333334\n",
            "\n",
            "El menor valor de entropia es: 0.8333333333333334\n"
          ]
        }
      ]
    },
    {
      "cell_type": "markdown",
      "source": [
        "<p align='justify'>\n",
        "<FONT FACE='times new roman' SIZE = 4>\n",
        "El tercer nivel del árbol tendrá el condicional \"Pregnancies <= 9.0\" el cual tuvo una entropía de 0.8333333.\n",
        "</p>"
      ],
      "metadata": {
        "id": "uy_URvrzIvD4"
      }
    },
    {
      "cell_type": "markdown",
      "source": [
        "![image.png](data:image/png;base64,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)"
      ],
      "metadata": {
        "id": "U0wK-6ao-yE_"
      }
    },
    {
      "cell_type": "code",
      "source": [
        "def accuracy_1(df_acc):\n",
        "  accuracy = 0\n",
        "  df_acc = df_acc.reset_index(drop=True)\n",
        "  for i in range(len(df_acc)):\n",
        "    if df_acc.iloc[:,0][i] <= 143.5:\n",
        "      if df_acc.iloc[:,1][i] <= 0.5 and df_acc.iloc[:,3][i] == 1:\n",
        "        accuracy+=1\n",
        "      elif df_acc.iloc[:,1][i] <= 9 and df_acc.iloc[:,3][i] == 0:\n",
        "          accuracy+=1\n",
        "      elif df_acc.iloc[:,3][i] == 0:\n",
        "        accuracy+=1\n",
        "    elif df_acc.iloc[:,3][i] == 1:\n",
        "      accuracy+=1\n",
        "  return f\"Accuracy -> {(accuracy/len(df_acc))}\"\n",
        "print(f\"Train -> {accuracy_1(df[:20])}\")\n",
        "print(f\"Test -> {accuracy_1(df[20:])}\")"
      ],
      "metadata": {
        "colab": {
          "base_uri": "https://localhost:8080/"
        },
        "id": "Jb6cznynr7Hk",
        "outputId": "b16983f0-bf3c-40e8-a32c-aad5be100f2f"
      },
      "execution_count": null,
      "outputs": [
        {
          "output_type": "stream",
          "name": "stdout",
          "text": [
            "Train -> Accuracy -> 0.75\n",
            "Test -> Accuracy -> 0.6\n"
          ]
        }
      ]
    },
    {
      "cell_type": "markdown",
      "source": [
        "<FONT FACE='times new roman'>\n",
        "<h1><b>Experimento 2 (CV2)</b></h1>\n",
        "<p align='justify'>\n",
        "<FONT SIZE = 4>\n",
        "En este experimento se coge el grupo 2 y grupo 3 como valores de entrenamiento, y el grupo 1 para los valores de prueba.\n",
        "</p>\n"
      ],
      "metadata": {
        "id": "vYVUekbj2MWe"
      }
    },
    {
      "cell_type": "markdown",
      "source": [
        "<FONT FACE='times new roman'>\n",
        "<h2><b>Primer nivel del arbol</b></h2>\n",
        "<p align='justify'>\n",
        "<FONT SIZE = 4>\n",
        "Para encontrar el condicional que minimice la entropía, debemos realizar el proceso utilizando las tres variables del dataframe. En total, se deben realizar 19 condicionales por variable en el primer nivel.\n",
        "</p>"
      ],
      "metadata": {
        "id": "M4oG2wC__X8E"
      }
    },
    {
      "cell_type": "code",
      "source": [
        "# Segmentamos los datos en df_cv2 para el segundo experimento\n",
        "df_cv2 = df[10:]"
      ],
      "metadata": {
        "id": "ON9xQJIh-9ce"
      },
      "execution_count": null,
      "outputs": []
    },
    {
      "cell_type": "code",
      "source": [
        "# Sacamos los valores de entropia para Pregnancies\n",
        "entropias = sacar_entropias(df_cv2, 1)\n",
        "for valor, entropiaT in entropias.items():\n",
        "  print(f\"Pregnancies <= {valor}: {entropiaT}\")\n",
        "\n",
        "# Se obtiene el menor valor de todas las entropias\n",
        "print(f\"\\nEl menor valor de entropia es: {min(entropias.values())}\")"
      ],
      "metadata": {
        "colab": {
          "base_uri": "https://localhost:8080/"
        },
        "id": "VDll0C1t_EWM",
        "outputId": "a261cd3e-9d68-4812-d4e2-29c3000190a0"
      },
      "execution_count": null,
      "outputs": [
        {
          "output_type": "stream",
          "name": "stdout",
          "text": [
            "Pregnancies <= 0.5: 0.9328437475208927\n",
            "Pregnancies <= 2.0: 0.9709505944546686\n",
            "Pregnancies <= 3.5: 0.9582001710694417\n",
            "Pregnancies <= 4.5: 0.9236494137546574\n",
            "Pregnancies <= 6.0: 0.9109272420695401\n",
            "Pregnancies <= 7.5: 0.9696336406818573\n",
            "Pregnancies <= 8.5: 0.965148445440323\n",
            "Pregnancies <= 9.5: 0.9709505944546686\n",
            "Pregnancies <= 10.5: 0.9676708883274061\n",
            "Pregnancies <= 12.0: 0.901979414618551\n",
            "\n",
            "El menor valor de entropia es: 0.901979414618551\n"
          ]
        }
      ]
    },
    {
      "cell_type": "code",
      "source": [
        "# Sacamos los valores de entropia para BloodPressure\n",
        "entropias = sacar_entropias(df_cv2, 2)\n",
        "for valor, entropiaT in entropias.items():\n",
        "  print(f\"BloodPressure <= {valor}: {entropiaT}\")\n",
        "\n",
        "# Se obtiene el menor valor de todas las entropias\n",
        "print(f\"\\nEl menor valor de entropia es: {min(entropias.values())}\")"
      ],
      "metadata": {
        "colab": {
          "base_uri": "https://localhost:8080/"
        },
        "id": "0brCLPnT_D99",
        "outputId": "29dd3ad0-b1a4-4816-a7cd-9ffb4e3db6d4"
      },
      "execution_count": null,
      "outputs": [
        {
          "output_type": "stream",
          "name": "stdout",
          "text": [
            "BloodPressure <= 15.0: 0.9328437475208927\n",
            "BloodPressure <= 45.0: 0.9676708883274061\n",
            "BloodPressure <= 63.0: 0.9685495200071192\n",
            "BloodPressure <= 68.0: 0.963547202339972\n",
            "BloodPressure <= 71.0: 0.965148445440323\n",
            "BloodPressure <= 73.0: 0.9493150428535224\n",
            "BloodPressure <= 75.0: 0.8906086442412053\n",
            "BloodPressure <= 78.0: 0.8464393446710154\n",
            "BloodPressure <= 81.0: 0.8685404758454658\n",
            "BloodPressure <= 83.0: 0.9236494137546574\n",
            "BloodPressure <= 86.0: 0.9314595241545343\n",
            "BloodPressure <= 89.0: 0.963547202339972\n",
            "BloodPressure <= 91.0: 0.9339116497041016\n",
            "BloodPressure <= 93.0: 0.9328437475208927\n",
            "\n",
            "El menor valor de entropia es: 0.8464393446710154\n"
          ]
        }
      ]
    },
    {
      "cell_type": "code",
      "source": [
        "# Sacamos los valores de entropia para Glucosa\n",
        "entropias = sacar_entropias(df_cv2, 0)\n",
        "for valor, entropiaT in entropias.items():\n",
        "  print(f\"Glucosa <= {valor}: {entropiaT}\")\n",
        "\n",
        "# Se obtiene el menor valor de todas las entropias\n",
        "print(f\"\\nEl menor valor de entropia es: {min(entropias.values())}\")"
      ],
      "metadata": {
        "id": "2rn0MEXUxMl3",
        "colab": {
          "base_uri": "https://localhost:8080/"
        },
        "outputId": "6943d31d-888c-4093-aece-1fd15e76ecbe"
      },
      "execution_count": null,
      "outputs": [
        {
          "output_type": "stream",
          "name": "stdout",
          "text": [
            "Glucosa <= 98.0: 0.901979414618551\n",
            "Glucosa <= 99.5: 0.8264662506490407\n",
            "Glucosa <= 101.5: 0.9339116497041016\n",
            "Glucosa <= 105.0: 0.8790862109194725\n",
            "Glucosa <= 108.5: 0.9314595241545343\n",
            "Glucosa <= 112.5: 0.8796731482129885\n",
            "Glucosa <= 116.0: 0.9236494137546574\n",
            "Glucosa <= 117.5: 0.8685404758454658\n",
            "Glucosa <= 118.5: 0.9109272420695401\n",
            "Glucosa <= 122.0: 0.9406454496153464\n",
            "Glucosa <= 125.5: 0.9599497416368465\n",
            "Glucosa <= 132.5: 0.9245112497836532\n",
            "Glucosa <= 141.0: 0.8543083163590162\n",
            "Glucosa <= 144.0: 0.8950067264945062\n",
            "Glucosa <= 146.0: 0.7475937239862274\n",
            "Glucosa <= 156.5: 0.8\n",
            "Glucosa <= 167.0: 0.8478771644137478\n",
            "Glucosa <= 178.5: 0.8919684538544\n",
            "Glucosa <= 192.5: 0.9328437475208927\n",
            "\n",
            "El menor valor de entropia es: 0.7475937239862274\n"
          ]
        }
      ]
    },
    {
      "cell_type": "markdown",
      "source": [
        "<p align='justify'>\n",
        "<FONT FACE='times new roman' SIZE = 4>\n",
        "El primer nivel del árbol tendrá el condicional \"Glucosa <= 146.0\" el cual tuvo una entropía de 0.747593.\n",
        "</p>"
      ],
      "metadata": {
        "id": "TbUX4hVAJezY"
      }
    },
    {
      "cell_type": "markdown",
      "source": [
        "![image.png](data:image/png;base64,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)"
      ],
      "metadata": {
        "id": "uSgp2BTwEQTH"
      }
    },
    {
      "cell_type": "markdown",
      "source": [
        "<FONT FACE='times new roman'>\n",
        "<h2><b>Segundo nivel del arbol</b></h2>\n",
        "<p align='justify'>\n",
        "<FONT SIZE = 4>\n",
        "Una vez obtenemos el mejor condicional para el primer nivel del árbol, seleccionamos los primeros 15 datos del dataframe para realizar los demás condicionales.\n",
        "</p>"
      ],
      "metadata": {
        "id": "zf0xjxpu_5Ai"
      }
    },
    {
      "cell_type": "code",
      "source": [
        "# Creamos el dataframe para el segundo nivel del arbol, a partir de df_cv2\n",
        "df_cv2_2 = df_cv2.sort_values(by=\"Glucose\", ascending=True)[:15]"
      ],
      "metadata": {
        "id": "1rEDXvriAFuw"
      },
      "execution_count": null,
      "outputs": []
    },
    {
      "cell_type": "code",
      "source": [
        "# Sacamos los valores de entropia para Pregnancies\n",
        "entropias = sacar_entropias(df_cv2_2, 1)\n",
        "for valor, entropiaT in entropias.items():\n",
        "  print(f\"Pregnancies <= {valor}: {entropiaT}\")\n",
        "\n",
        "# Se obtiene el menor valor de todas las entropias\n",
        "print(f\"\\nEl menor valor de entropia es: {min(entropias.values())}\")"
      ],
      "metadata": {
        "colab": {
          "base_uri": "https://localhost:8080/"
        },
        "id": "XbDuk0_YAJZP",
        "outputId": "f5f95f73-7795-432f-a3f0-7dae64171609"
      },
      "execution_count": null,
      "outputs": [
        {
          "output_type": "stream",
          "name": "stdout",
          "text": [
            "Pregnancies <= 0.5: 0.9195462602986347\n",
            "Pregnancies <= 2.0: 0.9956221550831013\n",
            "Pregnancies <= 3.5: 0.9903168648182228\n",
            "Pregnancies <= 4.5: 0.9619639695247291\n",
            "Pregnancies <= 6.0: 0.9118210668910758\n",
            "Pregnancies <= 7.5: 0.9946456359029333\n",
            "Pregnancies <= 8.5: 0.9709505944546685\n",
            "Pregnancies <= 9.5: 0.9956221550831013\n",
            "Pregnancies <= 10.5: 0.9962971251402688\n",
            "Pregnancies <= 12.0: 0.9333333333333333\n",
            "\n",
            "El menor valor de entropia es: 0.9118210668910758\n"
          ]
        }
      ]
    },
    {
      "cell_type": "code",
      "source": [
        "# Sacamos los valores de entropia para BloodPressure\n",
        "entropias = sacar_entropias(df_cv2_2, 2)\n",
        "for valor, entropiaT in entropias.items():\n",
        "  print(f\"BloodPressure <= {valor}: {entropiaT}\")\n",
        "\n",
        "# Se obtiene el menor valor de todas las entropias\n",
        "print(f\"\\nEl menor valor de entropia es: {min(entropias.values())}\")"
      ],
      "metadata": {
        "colab": {
          "base_uri": "https://localhost:8080/"
        },
        "id": "VfYrWn3HAIbB",
        "outputId": "62d69333-06a0-4b11-d129-9687816d9472"
      },
      "execution_count": null,
      "outputs": [
        {
          "output_type": "stream",
          "name": "stdout",
          "text": [
            "BloodPressure <= 15.0: 0.9195462602986347\n",
            "BloodPressure <= 48.0: 0.9962971251402688\n",
            "BloodPressure <= 68.0: 0.9836591668108979\n",
            "BloodPressure <= 72.0: 0.9709505944546685\n",
            "BloodPressure <= 77.0: 0.9182958340544896\n",
            "BloodPressure <= 81.0: 0.9118210668910758\n",
            "BloodPressure <= 83.0: 0.9619639695247291\n",
            "BloodPressure <= 86.0: 0.9452963216055368\n",
            "BloodPressure <= 90.0: 0.9836591668108979\n",
            "BloodPressure <= 93.0: 0.9195462602986347\n",
            "\n",
            "El menor valor de entropia es: 0.9118210668910758\n"
          ]
        }
      ]
    },
    {
      "cell_type": "code",
      "source": [
        "# Sacamos los valores de entropia para Glucosa\n",
        "entropias = sacar_entropias(df_cv2_2, 0)\n",
        "for valor, entropiaT in entropias.items():\n",
        "  print(f\"Glucosa <= {valor}: {entropiaT}\")\n",
        "\n",
        "# Se obtiene el menor valor de todas las entropias\n",
        "print(f\"\\nEl menor valor de entropia es: {min(entropias.values())}\")"
      ],
      "metadata": {
        "colab": {
          "base_uri": "https://localhost:8080/"
        },
        "id": "1kszs_Y9Eamc",
        "outputId": "47455ce7-4f7d-4f34-9def-3f53ffe648e1"
      },
      "execution_count": null,
      "outputs": [
        {
          "output_type": "stream",
          "name": "stdout",
          "text": [
            "Glucosa <= 98.0: 0.9333333333333333\n",
            "Glucosa <= 99.5: 0.8629637918069355\n",
            "Glucosa <= 101.5: 0.9836591668108979\n",
            "Glucosa <= 105.0: 0.9452963216055368\n",
            "Glucosa <= 108.5: 0.9903168648182228\n",
            "Glucosa <= 112.5: 0.9619639695247291\n",
            "Glucosa <= 116.0: 0.9931064634826507\n",
            "Glucosa <= 117.5: 0.9688045983759654\n",
            "Glucosa <= 118.5: 0.9946456359029333\n",
            "Glucosa <= 122.0: 0.9903168648182228\n",
            "Glucosa <= 125.5: 0.9452963216055368\n",
            "Glucosa <= 132.5: 0.9836591668108979\n",
            "Glucosa <= 141.0: 0.9962971251402688\n",
            "Glucosa <= 144.0: 0.9333333333333333\n",
            "\n",
            "El menor valor de entropia es: 0.8629637918069355\n"
          ]
        }
      ]
    },
    {
      "cell_type": "markdown",
      "source": [
        "<p align='justify'>\n",
        "<FONT FACE='times new roman' SIZE = 4>\n",
        "El segundo nivel del árbol tendrá el condicional \"Glucosa <= 99.5\" el cual tuvo una entropía de 0.86296379.\n",
        "</p>"
      ],
      "metadata": {
        "id": "usXAZwRkJ1gW"
      }
    },
    {
      "cell_type": "markdown",
      "source": [
        "![image.png](data:image/png;base64,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)"
      ],
      "metadata": {
        "id": "pc8wS-_9GASL"
      }
    },
    {
      "cell_type": "markdown",
      "source": [
        "<FONT FACE='times new roman'>\n",
        "<h2><b>Tercer nivel del arbol</b></h2>\n",
        "<p align='justify'>\n",
        "<FONT SIZE = 4>\n",
        "Para el último nivel del árbol, utilizamos los 13 datos del dataframe df_cv1_2 para realizar los últimos condicionales.\n",
        "</p>"
      ],
      "metadata": {
        "id": "3QLqXqly_iv6"
      }
    },
    {
      "cell_type": "code",
      "source": [
        "# Creamos el dataframe para el tercer nivel del arbol, a partir de df_cv2_2\n",
        "df_cv2_3 = df_cv2_2[2:]"
      ],
      "metadata": {
        "id": "EJAedZZZAvzz"
      },
      "execution_count": null,
      "outputs": []
    },
    {
      "cell_type": "code",
      "source": [
        "# Sacamos los valores de entropia para Glucose\n",
        "entropias = sacar_entropias(df_cv2_3, 0)\n",
        "for valor, entropiaT in entropias.items():\n",
        "  print(f\"Glucose <= {valor}: {entropiaT}\")\n",
        "\n",
        "# Se obtiene el menor valor de todas las entropias\n",
        "print(f\"\\nEl menor valor de entropia es: {min(entropias.values())}\")"
      ],
      "metadata": {
        "colab": {
          "base_uri": "https://localhost:8080/"
        },
        "id": "_sauBmceBDMo",
        "outputId": "6c47257a-6326-49a9-aa11-6834ddc14c2c"
      },
      "execution_count": null,
      "outputs": [
        {
          "output_type": "stream",
          "name": "stdout",
          "text": [
            "Glucose <= 101.5: 0.9230769230769231\n",
            "Glucose <= 105.0: 0.9949486404805016\n",
            "Glucose <= 108.5: 0.981145192474113\n",
            "Glucose <= 112.5: 0.9938218875803077\n",
            "Glucose <= 116.0: 0.9888271517133341\n",
            "Glucose <= 117.5: 0.9920459194030585\n",
            "Glucose <= 118.5: 0.9920459194030585\n",
            "Glucose <= 122.0: 0.9607865381286972\n",
            "Glucose <= 125.5: 0.8853673080251491\n",
            "Glucose <= 132.5: 0.9587994959007812\n",
            "Glucose <= 141.0: 0.9949486404805016\n",
            "Glucose <= 144.0: 0.9044942369087565\n",
            "\n",
            "El menor valor de entropia es: 0.8853673080251491\n"
          ]
        }
      ]
    },
    {
      "cell_type": "code",
      "source": [
        "# Sacamos los valores de entropia para Pregnancies\n",
        "entropias = sacar_entropias(df_cv2_3, 1)\n",
        "for valor, entropiaT in entropias.items():\n",
        "  print(f\"Pregnancies <= {valor}: {entropiaT}\")\n",
        "\n",
        "# Se obtiene el menor valor de todas las entropias\n",
        "print(f\"\\nEl menor valor de entropia es: {min(entropias.values())}\")"
      ],
      "metadata": {
        "colab": {
          "base_uri": "https://localhost:8080/"
        },
        "id": "iQ_WtXwvBCvn",
        "outputId": "35b2c111-a2f5-4a54-c754-c3be5c71fb0c"
      },
      "execution_count": null,
      "outputs": [
        {
          "output_type": "stream",
          "name": "stdout",
          "text": [
            "Pregnancies <= 0.5: 0.9230769230769231\n",
            "Pregnancies <= 2.0: 0.981145192474113\n",
            "Pregnancies <= 3.5: 0.9938218875803077\n",
            "Pregnancies <= 4.5: 0.9607865381286972\n",
            "Pregnancies <= 6.0: 0.8885860757148734\n",
            "Pregnancies <= 8.0: 0.9888271517133341\n",
            "Pregnancies <= 9.5: 0.9938218875803077\n",
            "Pregnancies <= 10.5: 0.9949486404805016\n",
            "Pregnancies <= 12.0: 0.9044942369087565\n",
            "\n",
            "El menor valor de entropia es: 0.8885860757148734\n"
          ]
        }
      ]
    },
    {
      "cell_type": "code",
      "source": [
        "# Sacamos los valores de entropia para BloodPressure\n",
        "entropias = sacar_entropias(df_cv2_3, 2)\n",
        "for valor, entropiaT in entropias.items():\n",
        "  print(f\"BloodPressure <= {valor}: {entropiaT}\")\n",
        "\n",
        "# Se obtiene el menor valor de todas las entropias\n",
        "print(f\"\\nEl menor valor de entropia es: {min(entropias.values())}\")"
      ],
      "metadata": {
        "colab": {
          "base_uri": "https://localhost:8080/"
        },
        "id": "5g5rI6JvG8wS",
        "outputId": "d8eadd3d-efd2-4ab7-ba1b-5572c76ac1a1"
      },
      "execution_count": null,
      "outputs": [
        {
          "output_type": "stream",
          "name": "stdout",
          "text": [
            "BloodPressure <= 15.0: 0.9230769230769231\n",
            "BloodPressure <= 50.0: 0.9949486404805016\n",
            "BloodPressure <= 72.0: 0.9357536181831178\n",
            "BloodPressure <= 77.0: 0.8650086536797332\n",
            "BloodPressure <= 81.0: 0.8885860757148734\n",
            "BloodPressure <= 83.0: 0.9607865381286972\n",
            "BloodPressure <= 86.0: 0.8853673080251491\n",
            "BloodPressure <= 90.0: 0.9587994959007812\n",
            "BloodPressure <= 93.0: 0.9230769230769231\n",
            "\n",
            "El menor valor de entropia es: 0.8650086536797332\n"
          ]
        }
      ]
    },
    {
      "cell_type": "markdown",
      "source": [
        "<p align='justify'>\n",
        "<FONT FACE='times new roman' SIZE = 4>\n",
        "El tercer nivel del árbol tendrá el condicional \"BloodPressure <= 77.0\" el cual tuvo una entropía de 0.865008.\n",
        "</p>"
      ],
      "metadata": {
        "id": "1-K86QgOKpkw"
      }
    },
    {
      "cell_type": "markdown",
      "source": [
        "![image.png](data:image/png;base64,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)"
      ],
      "metadata": {
        "id": "qbijDHmuG4aE"
      }
    },
    {
      "cell_type": "code",
      "source": [
        "def accuracy_2(df_acc):\n",
        "  accuracy = 0\n",
        "  df_acc = df_acc.reset_index(drop=True)\n",
        "  for i in range(len(df_acc)):\n",
        "    if df_acc.iloc[:,0][i] <= 146:\n",
        "        if df_acc.iloc[:,0][i] <= 99.5:\n",
        "          if df_acc.iloc[:,3][i] == 0:\n",
        "            accuracy+=1\n",
        "        else:\n",
        "          if df_acc.iloc[:,2][i] <= 77:\n",
        "            if df_acc.iloc[:,3][i] == 1:\n",
        "              accuracy+=1\n",
        "          else:\n",
        "            if df_acc.iloc[:,3][i] == 0:\n",
        "              accuracy+=1\n",
        "    elif df_acc.iloc[:,3][i] == 1:\n",
        "      accuracy+=1\n",
        "  return f\"Accuracy -> {(accuracy/len(df_acc))}\"\n",
        "\n",
        "print(f\"Train -> {accuracy_2(df[10:])}\" )\n",
        "print(f\"Test -> {accuracy_2(df[:10])}\")"
      ],
      "metadata": {
        "colab": {
          "base_uri": "https://localhost:8080/"
        },
        "id": "JFgm5qLtrRw1",
        "outputId": "564fc436-9169-4acc-f840-60e1071d7312"
      },
      "execution_count": null,
      "outputs": [
        {
          "output_type": "stream",
          "name": "stdout",
          "text": [
            "Train -> Accuracy -> 0.8\n",
            "Test -> Accuracy -> 0.6\n"
          ]
        }
      ]
    },
    {
      "cell_type": "markdown",
      "source": [
        "<FONT FACE='times new roman'>\n",
        "<h1><b>Experimento 3 (CV3)</b></h1>\n",
        "<p align='justify'>\n",
        "<FONT SIZE = 4>\n",
        "En este experimento se coge el grupo 1 y grupo 3 como valores de entrenamiento, y el grupo 2 para los valores de prueba.\n",
        "</p>"
      ],
      "metadata": {
        "id": "CfH8rGKD2XLY"
      }
    },
    {
      "cell_type": "markdown",
      "source": [
        "<FONT FACE='times new roman'>\n",
        "<h2><b>Primer nivel del arbol</b></h2>\n",
        "<p align='justify'>\n",
        "<FONT SIZE = 4>\n",
        "Para encontrar el condicional que minimice la entropía, debemos realizar el proceso utilizando las tres variables del dataframe. En total, se deben realizar 19 condicionales por variable en el primer nivel.\n",
        "</p>"
      ],
      "metadata": {
        "id": "dPbiRBmp_bq8"
      }
    },
    {
      "cell_type": "code",
      "source": [
        "# Segmentamos y organizamos los datos en df_cv3 para el tercer experimento\n",
        "df_cv3 = pd.concat([df[:10],df[20:]])"
      ],
      "metadata": {
        "id": "IdqPEzQMB4nW"
      },
      "execution_count": null,
      "outputs": []
    },
    {
      "cell_type": "code",
      "source": [
        "# Sacamos los valores de entropia para BloodPressure\n",
        "entropias = sacar_entropias(df_cv3, 2)\n",
        "for valor, entropiaT in entropias.items():\n",
        "  print(f\"BloodPressure <= {valor}: {entropiaT}\")\n",
        "\n",
        "# Se obtiene el menor valor de todas las entropias\n",
        "print(f\"\\nEl menor valor de entropia es: {min(entropias.values())}\")"
      ],
      "metadata": {
        "colab": {
          "base_uri": "https://localhost:8080/"
        },
        "id": "CDeBRz_4CAby",
        "outputId": "2731807c-1e93-4435-94d6-6184857f3b58"
      },
      "execution_count": null,
      "outputs": [
        {
          "output_type": "stream",
          "name": "stdout",
          "text": [
            "BloodPressure <= 20.0: 0.9328437475208927\n",
            "BloodPressure <= 45.0: 0.9919684538544\n",
            "BloodPressure <= 57.0: 0.9856215395219212\n",
            "BloodPressure <= 65.0: 0.9622556248918266\n",
            "BloodPressure <= 68.0: 0.9696336406818573\n",
            "BloodPressure <= 71.0: 0.9927008432395261\n",
            "BloodPressure <= 73.0: 0.9854752972273343\n",
            "BloodPressure <= 75.0: 0.9927008432395261\n",
            "BloodPressure <= 78.0: 0.9879212539906916\n",
            "BloodPressure <= 81.0: 0.9696336406818573\n",
            "BloodPressure <= 83.0: 0.989659695223976\n",
            "BloodPressure <= 86.0: 0.9903313725998946\n",
            "BloodPressure <= 89.0: 0.9622556248918266\n",
            "BloodPressure <= 91.0: 0.9856215395219212\n",
            "BloodPressure <= 93.0: 0.9\n",
            "BloodPressure <= 95.0: 0.9481008396786845\n",
            "\n",
            "El menor valor de entropia es: 0.9\n"
          ]
        }
      ]
    },
    {
      "cell_type": "code",
      "source": [
        "# Sacamos los valores de entropia para Pregnancies\n",
        "entropias = sacar_entropias(df_cv3, 1)\n",
        "for valor, entropiaT in entropias.items():\n",
        "  print(f\"Pregnancies <= {valor}: {entropiaT}\")\n",
        "\n",
        "# Se obtiene el menor valor de todas las entropias\n",
        "print(f\"\\nEl menor valor de entropia es: {min(entropias.values())}\")"
      ],
      "metadata": {
        "colab": {
          "base_uri": "https://localhost:8080/"
        },
        "id": "9PxPQm8BCAMX",
        "outputId": "290996b7-30bf-42cc-c5da-666cbc6dbebe"
      },
      "execution_count": null,
      "outputs": [
        {
          "output_type": "stream",
          "name": "stdout",
          "text": [
            "Pregnancies <= 0.5: 0.9481008396786845\n",
            "Pregnancies <= 1.5: 0.9258028272317986\n",
            "Pregnancies <= 2.5: 0.9709505944546686\n",
            "Pregnancies <= 4.0: 0.9696336406818573\n",
            "Pregnancies <= 5.5: 0.8781761404668604\n",
            "Pregnancies <= 6.5: 0.9261207468426806\n",
            "Pregnancies <= 7.5: 0.981773601169986\n",
            "Pregnancies <= 8.5: 0.9903313725998946\n",
            "Pregnancies <= 9.5: 0.990959526630798\n",
            "Pregnancies <= 10.5: 0.9919684538544\n",
            "Pregnancies <= 12.0: 0.9328437475208927\n",
            "\n",
            "El menor valor de entropia es: 0.8781761404668604\n"
          ]
        }
      ]
    },
    {
      "cell_type": "code",
      "source": [
        "# Sacamos los valores de entropia para df_cv3\n",
        "entropias = sacar_entropias(df_cv3, 0)\n",
        "for valor, entropiaT in entropias.items():\n",
        "  print(f\"Glucosa <= {valor}: {entropiaT}\")\n",
        "\n",
        "# Se obtiene el menor valor de todas las entropias\n",
        "print(f\"\\nEl menor valor de entropia es: {min(entropias.values())}\")"
      ],
      "metadata": {
        "id": "FIPiyw6k3Gpw",
        "colab": {
          "base_uri": "https://localhost:8080/"
        },
        "outputId": "a1e2cf55-f0a2-4d70-82ea-275f54bf30c7"
      },
      "execution_count": null,
      "outputs": [
        {
          "output_type": "stream",
          "name": "stdout",
          "text": [
            "Glucosa <= 81.5: 0.9481008396786845\n",
            "Glucosa <= 87.0: 0.9919684538544\n",
            "Glucosa <= 93.0: 0.9685495200071192\n",
            "Glucosa <= 98.0: 0.9258028272317986\n",
            "Glucosa <= 107.0: 0.8692038992627078\n",
            "Glucosa <= 115.5: 0.7991911244911479\n",
            "Glucosa <= 116.5: 0.7136628667436699\n",
            "Glucosa <= 118.0: 0.607439230268851\n",
            "Glucosa <= 122.0: 0.720113167530352\n",
            "Glucosa <= 125.5: 0.8640051954592312\n",
            "Glucosa <= 131.5: 0.7684032777125323\n",
            "Glucosa <= 140.0: 0.8318892655736839\n",
            "Glucosa <= 144.0: 0.8846664217184823\n",
            "Glucosa <= 146.0: 0.7282129458410014\n",
            "Glucosa <= 147.5: 0.790959526630798\n",
            "Glucosa <= 165.5: 0.8478771644137478\n",
            "Glucosa <= 189.5: 0.9\n",
            "Glucosa <= 196.5: 0.9481008396786845\n",
            "\n",
            "El menor valor de entropia es: 0.607439230268851\n"
          ]
        }
      ]
    },
    {
      "cell_type": "markdown",
      "source": [
        "<p align='justify'>\n",
        "<FONT FACE='times new roman' SIZE = 4>\n",
        "El primer nivel del árbol tendrá el condicional \"Glucosa <= 118.0\" el cual tuvo una entropía de 0.60743.\n",
        "</p>"
      ],
      "metadata": {
        "id": "KMV5cI3SLnmT"
      }
    },
    {
      "cell_type": "markdown",
      "source": [
        "![image.png](data:image/png;base64,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)"
      ],
      "metadata": {
        "id": "yw4OcN0jNbyq"
      }
    },
    {
      "cell_type": "markdown",
      "source": [
        "<FONT FACE='times new roman'>\n",
        "<h2><b>Segundo nivel del arbol</b></h2>\n",
        "<p align='justify'>\n",
        "<FONT SIZE = 4>\n",
        "Una vez obtenemos el mejor condicional para el primer nivel del árbol, separamos los primeros 8 datos del dataframe y los 12 datos restantes para generar las dos ramas del segundo nivel. En este caso, se debe repetir este proceso para ambas partes del árbol, ya que no se ha obtenido una estructura completamente organizada con un valor de entropía igual a 0.\n",
        "</p>"
      ],
      "metadata": {
        "id": "unu228zmCUfP"
      }
    },
    {
      "cell_type": "code",
      "source": [
        "# Creamos el dataframe para el segundo nivel del arbol, a partir de df_cv3\n",
        "df_cv3_2 = df_cv3.sort_values(by=\"Glucose\", ascending=True)[:8]"
      ],
      "metadata": {
        "id": "4Ej8C6qzEF7b"
      },
      "execution_count": null,
      "outputs": []
    },
    {
      "cell_type": "code",
      "source": [
        "# Sacamos los valores de entropia para Pregnancies (primera parte del nivel)\n",
        "entropias = sacar_entropias(df_cv3_2, 1)\n",
        "for valor, entropiaT in entropias.items():\n",
        "  print(f\"Pregnancies <= {valor}: {entropiaT}\")\n",
        "\n",
        "# Se obtiene el menor valor de todas las entropias\n",
        "print(f\"\\nEl menor valor de entropia es: {min(entropias.values())}\")"
      ],
      "metadata": {
        "colab": {
          "base_uri": "https://localhost:8080/"
        },
        "id": "C7hn8iZnEa2R",
        "outputId": "00d54c03-88fb-48ec-be23-3bb2e1a9cd28"
      },
      "execution_count": null,
      "outputs": [
        {
          "output_type": "stream",
          "name": "stdout",
          "text": [
            "Pregnancies <= 2.0: 0.4512050593046014\n",
            "Pregnancies <= 4.0: 0.4056390622295664\n",
            "Pregnancies <= 6.5: 0.4875168162362656\n",
            "Pregnancies <= 9.0: 0.5177136812595365\n",
            "\n",
            "El menor valor de entropia es: 0.4056390622295664\n"
          ]
        }
      ]
    },
    {
      "cell_type": "code",
      "source": [
        "# Sacamos los valores de entropia para BloodPressure (primera parte del nivel)\n",
        "entropias = sacar_entropias(df_cv3_2, 2)\n",
        "for valor, entropiaT in entropias.items():\n",
        "  print(f\"BloodPressure <= {valor}: {entropiaT}\")\n",
        "\n",
        "# Se obtiene el menor valor de todas las entropias\n",
        "print(f\"\\nEl menor valor de entropia es: {min(entropias.values())}\")"
      ],
      "metadata": {
        "colab": {
          "base_uri": "https://localhost:8080/"
        },
        "id": "xUMIy9p1EaYY",
        "outputId": "f5deac33-7405-4529-dcfb-f779e9fed6fc"
      },
      "execution_count": null,
      "outputs": [
        {
          "output_type": "stream",
          "name": "stdout",
          "text": [
            "BloodPressure <= 25.0: 0.5177136812595365\n",
            "BloodPressure <= 58.0: 0.25\n",
            "BloodPressure <= 70.0: 0.4512050593046014\n",
            "BloodPressure <= 79.0: 0.4875168162362656\n",
            "BloodPressure <= 88.0: 0.5177136812595365\n",
            "\n",
            "El menor valor de entropia es: 0.25\n"
          ]
        }
      ]
    },
    {
      "cell_type": "code",
      "source": [
        "# Sacamos los valores de entropia para Glucose (primera parte del nivel)\n",
        "entropias = sacar_entropias(df_cv3_2, 0)\n",
        "for valor, entropiaT in entropias.items():\n",
        "  print(f\"Glucose <= {valor}: {entropiaT}\")\n",
        "\n",
        "# Se obtiene el menor valor de todas las entropias\n",
        "print(f\"\\nEl menor valor de entropia es: {min(entropias.values())}\")"
      ],
      "metadata": {
        "colab": {
          "base_uri": "https://localhost:8080/"
        },
        "id": "VpVnvPMeNzef",
        "outputId": "96cb6889-570a-44c4-d82a-ab42278f0d95"
      },
      "execution_count": null,
      "outputs": [
        {
          "output_type": "stream",
          "name": "stdout",
          "text": [
            "Glucose <= 81.5: 0.0\n",
            "Glucose <= 87.0: 0.25\n",
            "Glucose <= 93.0: 0.3443609377704336\n",
            "Glucose <= 98.0: 0.4056390622295664\n",
            "Glucose <= 107.0: 0.4512050593046014\n",
            "Glucose <= 115.5: 0.4875168162362656\n",
            "Glucose <= 116.5: 0.5177136812595365\n",
            "\n",
            "El menor valor de entropia es: 0.0\n"
          ]
        }
      ]
    },
    {
      "cell_type": "markdown",
      "source": [
        "<p align='justify'>\n",
        "<FONT FACE='times new roman' SIZE = 4>\n",
        "El segundo nivel del árbol tendrá el condicional \"Glucosa <= 0.0\" el cual tuvo una entropía de 0.0.\n",
        "</p>"
      ],
      "metadata": {
        "id": "0AUTVaW4Lx0V"
      }
    },
    {
      "cell_type": "markdown",
      "source": [
        "![image.png](data:image/png;base64,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)"
      ],
      "metadata": {
        "id": "ixBertDgPysl"
      }
    },
    {
      "cell_type": "code",
      "source": [
        "# Creamos el dataframe para el segundo nivel del arbol, a partir de df_cv3\n",
        "df_cv3_2 = df_cv3.sort_values(by=\"Glucose\", ascending=True)[8:]"
      ],
      "metadata": {
        "id": "x4LoJqXEFMrf"
      },
      "execution_count": null,
      "outputs": []
    },
    {
      "cell_type": "code",
      "source": [
        "# Sacamos los valores de entropia para BloodPressure (segunda parte del nivel)\n",
        "entropias = sacar_entropias(df_cv3_2,2)\n",
        "for valor, entropiaT in entropias.items():\n",
        "  print(f\"BloodPressure <= {valor}: {entropiaT}\")\n",
        "\n",
        "# Se obtiene el menor valor de todas las entropias\n",
        "print(f\"\\nEl menor valor de entropia es: {min(entropias.values())}\")"
      ],
      "metadata": {
        "colab": {
          "base_uri": "https://localhost:8080/"
        },
        "id": "wkjAoRLrFeff",
        "outputId": "da88528c-10e1-42d0-8f71-19dd8c85236a"
      },
      "execution_count": null,
      "outputs": [
        {
          "output_type": "stream",
          "name": "stdout",
          "text": [
            "BloodPressure <= 52.0: 0.6270352326691215\n",
            "BloodPressure <= 67.0: 0.6016067457394686\n",
            "BloodPressure <= 71.0: 0.5408520829727552\n",
            "BloodPressure <= 74.0: 0.5034869983305348\n",
            "BloodPressure <= 78.0: 0.4591479170272448\n",
            "BloodPressure <= 81.0: 0.4045627476894453\n",
            "BloodPressure <= 85.0: 0.6328023369527752\n",
            "BloodPressure <= 89.0: 0.5731533798814652\n",
            "BloodPressure <= 92.0: 0.6016067457394686\n",
            "BloodPressure <= 95.0: 0.6270352326691215\n",
            "\n",
            "El menor valor de entropia es: 0.4045627476894453\n"
          ]
        }
      ]
    },
    {
      "cell_type": "code",
      "source": [
        "# Sacamos los valores de entropia para Glucose (segunda parte del nivel)\n",
        "entropias = sacar_entropias(df_cv3_2,0)\n",
        "for valor, entropiaT in entropias.items():\n",
        "  print(f\"Glucose <= {valor}: {entropiaT}\")\n",
        "\n",
        "# Se obtiene el menor valor de todas las entropias\n",
        "print(f\"\\nEl menor valor de entropia es: {min(entropias.values())}\")"
      ],
      "metadata": {
        "colab": {
          "base_uri": "https://localhost:8080/"
        },
        "id": "UUUQ4lryFeMq",
        "outputId": "003b3e09-9ca9-4596-98ca-f957c3752a04"
      },
      "execution_count": null,
      "outputs": [
        {
          "output_type": "stream",
          "name": "stdout",
          "text": [
            "Glucose <= 122.0: 0.6270352326691215\n",
            "Glucose <= 125.5: 0.5731533798814652\n",
            "Glucose <= 131.5: 0.6328023369527752\n",
            "Glucose <= 140.0: 0.6459458270427587\n",
            "Glucose <= 144.0: 0.6500224216483541\n",
            "Glucose <= 146.0: 0.5034869983305348\n",
            "Glucose <= 147.5: 0.5408520829727552\n",
            "Glucose <= 165.5: 0.5731533798814652\n",
            "Glucose <= 189.5: 0.6016067457394686\n",
            "Glucose <= 196.5: 0.6270352326691215\n",
            "\n",
            "El menor valor de entropia es: 0.5034869983305348\n"
          ]
        }
      ]
    },
    {
      "cell_type": "code",
      "source": [
        "# Sacamos los valores de entropia para Pregnancies (segunda parte del nivel)\n",
        "entropias = sacar_entropias(df_cv3_2,1)\n",
        "for valor, entropiaT in entropias.items():\n",
        "  print(f\"Pregnancies <= {valor}: {entropiaT}\")\n",
        "\n",
        "# Se obtiene el menor valor de todas las entropias\n",
        "print(f\"\\nEl menor valor de entropia es: {min(entropias.values())}\")"
      ],
      "metadata": {
        "colab": {
          "base_uri": "https://localhost:8080/"
        },
        "id": "LbA4229ROZvz",
        "outputId": "f9fc0eeb-cda4-4e71-f2c4-544c1e62d66d"
      },
      "execution_count": null,
      "outputs": [
        {
          "output_type": "stream",
          "name": "stdout",
          "text": [
            "Pregnancies <= 1.0: 0.6270352326691215\n",
            "Pregnancies <= 2.5: 0.6016067457394686\n",
            "Pregnancies <= 4.5: 0.6070177095953567\n",
            "Pregnancies <= 6.5: 0.6328023369527752\n",
            "Pregnancies <= 7.5: 0.6500224216483541\n",
            "Pregnancies <= 8.5: 0.6328023369527752\n",
            "Pregnancies <= 9.5: 0.6070177095953567\n",
            "Pregnancies <= 10.5: 0.5574963279910677\n",
            "Pregnancies <= 12.0: 0.4028722380113873\n",
            "\n",
            "El menor valor de entropia es: 0.4028722380113873\n"
          ]
        }
      ]
    },
    {
      "cell_type": "markdown",
      "source": [
        "<p align='justify'>\n",
        "<FONT FACE='times new roman' SIZE = 4>\n",
        "El segundo nivel del árbol tendrá el condicional \"Pregnancies <= 12.0\" el cual tuvo una entropía de 0.40287.\n",
        "</p>"
      ],
      "metadata": {
        "id": "HcI_zcRdL6dX"
      }
    },
    {
      "cell_type": "markdown",
      "source": [
        "![image.png](data:image/png;base64,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)"
      ],
      "metadata": {
        "id": "ftc9K2psNgXh"
      }
    },
    {
      "cell_type": "markdown",
      "source": [
        "<FONT FACE='times new roman'>\n",
        "<h2><b>Tercer nivel del arbol</b></h2>\n",
        "<p align='justify'>\n",
        "<FONT SIZE = 4>\n",
        "Para el último nivel del árbol, utilizamos los 11 datos del dataframe df_cv1_2 para realizar los últimos condicionales.\n",
        "</p>"
      ],
      "metadata": {
        "id": "ASptu6vE_kIj"
      }
    },
    {
      "cell_type": "code",
      "source": [
        "# Creamos el dataframe para el segundo nivel del arbol, a partir de df_cv3_2\n",
        "df_cv3_3 = df_cv3_2.sort_values(by=\"Pregnancies\", ascending=True)[:11]"
      ],
      "metadata": {
        "id": "feAlhLfqGRNm"
      },
      "execution_count": null,
      "outputs": []
    },
    {
      "cell_type": "code",
      "source": [
        "# Sacamos los valores de entropia para BloodPressure\n",
        "entropias = sacar_entropias(df_cv3_3, 2)\n",
        "for valor, entropiaT in entropias.items():\n",
        "  print(f\"BloodPressure <= {valor}: {entropiaT}\")\n",
        "\n",
        "# Se obtiene el menor valor de todas las entropias\n",
        "print(f\"\\nEl menor valor de entropia es: {min(entropias.values())}\")"
      ],
      "metadata": {
        "colab": {
          "base_uri": "https://localhost:8080/"
        },
        "id": "FM4xa3BoGU1a",
        "outputId": "8142839e-25ad-404f-f16f-00a340bdb10c"
      },
      "execution_count": null,
      "outputs": [
        {
          "output_type": "stream",
          "name": "stdout",
          "text": [
            "BloodPressure <= 52.0: 0.4263596305357102\n",
            "BloodPressure <= 67.0: 0.411756819361892\n",
            "BloodPressure <= 71.0: 0.37651904091602656\n",
            "BloodPressure <= 74.0: 0.3545576845354659\n",
            "BloodPressure <= 78.0: 0.32814913403971013\n",
            "BloodPressure <= 84.0: 0.2950102270760483\n",
            "BloodPressure <= 89.0: 0.39531959505425196\n",
            "BloodPressure <= 92.0: 0.411756819361892\n",
            "BloodPressure <= 95.0: 0.4263596305357102\n",
            "\n",
            "El menor valor de entropia es: 0.2950102270760483\n"
          ]
        }
      ]
    },
    {
      "cell_type": "code",
      "source": [
        "# Sacamos los valores de entropia para Glucose\n",
        "entropias = sacar_entropias(df_cv3_3, 0)\n",
        "for valor, entropiaT in entropias.items():\n",
        "  print(f\"Glucose <= {valor}: {entropiaT}\")\n",
        "\n",
        "# Se obtiene el menor valor de todas las entropias\n",
        "print(f\"\\nEl menor valor de entropia es: {min(entropias.values())}\")"
      ],
      "metadata": {
        "colab": {
          "base_uri": "https://localhost:8080/"
        },
        "id": "C8iIY7goGUmF",
        "outputId": "56590ea1-74c9-46ab-8656-8e12e72f75d6"
      },
      "execution_count": null,
      "outputs": [
        {
          "output_type": "stream",
          "name": "stdout",
          "text": [
            "Glucose <= 122.0: 0.4263596305357102\n",
            "Glucose <= 125.5: 0.39531959505425196\n",
            "Glucose <= 131.5: 0.2950102270760483\n",
            "Glucose <= 140.0: 0.32814913403971013\n",
            "Glucose <= 145.0: 0.3545576845354659\n",
            "Glucose <= 147.5: 0.37651904091602656\n",
            "Glucose <= 165.5: 0.39531959505425196\n",
            "Glucose <= 189.5: 0.411756819361892\n",
            "Glucose <= 196.5: 0.4263596305357102\n",
            "\n",
            "El menor valor de entropia es: 0.2950102270760483\n"
          ]
        }
      ]
    },
    {
      "cell_type": "code",
      "source": [
        "# Sacamos los valores de entropia para Pregnancies\n",
        "entropias = sacar_entropias(df_cv3_3, 1)\n",
        "for valor, entropiaT in entropias.items():\n",
        "  print(f\"Pregnancies <= {valor}: {entropiaT}\")\n",
        "\n",
        "# Se obtiene el menor valor de todas las entropias\n",
        "print(f\"\\nEl menor valor de entropia es: {min(entropias.values())}\")"
      ],
      "metadata": {
        "colab": {
          "base_uri": "https://localhost:8080/"
        },
        "id": "QLdbpAujPGcC",
        "outputId": "71e1aff6-fd9e-40f1-cada-d4cd39edb1c5"
      },
      "execution_count": null,
      "outputs": [
        {
          "output_type": "stream",
          "name": "stdout",
          "text": [
            "Pregnancies <= 1.0: 0.4263596305357102\n",
            "Pregnancies <= 2.5: 0.411756819361892\n",
            "Pregnancies <= 4.5: 0.2504443183784971\n",
            "Pregnancies <= 6.5: 0.2950102270760483\n",
            "Pregnancies <= 7.5: 0.3545576845354659\n",
            "Pregnancies <= 8.5: 0.39531959505425196\n",
            "Pregnancies <= 9.5: 0.411756819361892\n",
            "Pregnancies <= 10.5: 0.4263596305357102\n",
            "\n",
            "El menor valor de entropia es: 0.2504443183784971\n"
          ]
        }
      ]
    },
    {
      "cell_type": "markdown",
      "source": [
        "<p align='justify'>\n",
        "<FONT FACE='times new roman' SIZE = 4>\n",
        "El segundo nivel del árbol tendrá el condicional \"Pregnancies <= 4.5\" el cual tuvo una entropía de 0.250444.\n",
        "</p>"
      ],
      "metadata": {
        "id": "iFk-wg6IMLui"
      }
    },
    {
      "cell_type": "markdown",
      "source": [
        "![image.png](data:image/png;base64,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)"
      ],
      "metadata": {
        "id": "N-XPL5a7NjnT"
      }
    },
    {
      "cell_type": "code",
      "source": [
        "def accuracy_3(df_acc):\n",
        "  accuracy = 0\n",
        "  df_acc = df_acc.reset_index(drop=True)\n",
        "  for i in range(len(df_acc)):\n",
        "    if df_acc.iloc[:,0][i] <= 118:\n",
        "        if df_acc.iloc[:,0][i] <= 81.5 and df_acc.iloc[:,3][i] == 1:\n",
        "          accuracy+=1\n",
        "        elif df_acc.iloc[:,3][i] == 0:\n",
        "          accuracy+=1\n",
        "    else:\n",
        "      if df_acc.iloc[:,1][i] <= 12:\n",
        "        if df_acc.iloc[:,3][i] == 1:\n",
        "          accuracy+=1\n",
        "      else:\n",
        "        if df_acc.iloc[:,3][i] == 0:\n",
        "          accuracy+=1\n",
        "\n",
        "  return f\"Accuracy -> {(accuracy/len(df_acc))}\"\n",
        "\n",
        "print(f\"Train -> {accuracy_3(pd.concat([df[:10],df[20:]]))}\" )\n",
        "print(f\"Test -> {accuracy_3(df[10:20])}\")"
      ],
      "metadata": {
        "colab": {
          "base_uri": "https://localhost:8080/"
        },
        "id": "RYZXUo4bDgn3",
        "outputId": "8497828c-941d-45ca-e228-120ea03c327b"
      },
      "execution_count": null,
      "outputs": [
        {
          "output_type": "stream",
          "name": "stdout",
          "text": [
            "Train -> Accuracy -> 0.95\n",
            "Test -> Accuracy -> 0.5\n"
          ]
        }
      ]
    },
    {
      "cell_type": "markdown",
      "source": [
        "<FONT FACE='times new roman'>\n",
        "<h1><b>Punto B</b></h1>\n",
        "<p align='justify'>\n",
        "<FONT SIZE = 4>\n",
        "Corroborar los resultados usando Sklearn (2 puntos)\n",
        "</p>\n"
      ],
      "metadata": {
        "id": "44IcjRVIVOak"
      }
    },
    {
      "cell_type": "markdown",
      "source": [
        "<p align='justify'>\n",
        "<FONT FACE='times new roman' SIZE = 4>\n",
        "Este código utiliza la biblioteca scikit-learn de Python para definir un objeto KFold que divide los datos en tres partes y luego utiliza esta división para realizar la validación cruzada. Se utiliza un clasificador de árbol de decisión con el criterio de \"entropía\" y una profundidad máxima de 3 para predecir la clase de los datos. Se utiliza la métrica de precisión para evaluar el rendimiento del clasificador.\n",
        "</p>\n"
      ],
      "metadata": {
        "id": "EZ1JumCccF_a"
      }
    },
    {
      "cell_type": "code",
      "source": [
        "from sklearn.model_selection import KFold\n",
        "kf_cv = KFold(n_splits=3, shuffle=False)\n",
        "r = cross_validate(DecisionTreeClassifier(criterion=\"entropy\", max_depth=3),\n",
        "                   df[[\"Glucose\",\"Pregnancies\",\"BloodPressure\"]],df[\"Outcome\"], cv=kf_cv.split(df),\n",
        "                   return_estimator=True,\n",
        "                   scoring=[\"accuracy\"],\n",
        "                   return_train_score=True,\n",
        "                   )\n",
        "r"
      ],
      "metadata": {
        "colab": {
          "base_uri": "https://localhost:8080/"
        },
        "id": "pP_9ijyXY8qv",
        "outputId": "c5b4459d-edbb-4f52-bdc6-23faa3fd4d59"
      },
      "execution_count": null,
      "outputs": [
        {
          "output_type": "execute_result",
          "data": {
            "text/plain": [
              "{'fit_time': array([0.01096511, 0.00389075, 0.00362206]),\n",
              " 'score_time': array([0.00328398, 0.00307775, 0.00272751]),\n",
              " 'estimator': [DecisionTreeClassifier(criterion='entropy', max_depth=3),\n",
              "  DecisionTreeClassifier(criterion='entropy', max_depth=3),\n",
              "  DecisionTreeClassifier(criterion='entropy', max_depth=3)],\n",
              " 'test_accuracy': array([0.6, 0.5, 0.6]),\n",
              " 'train_accuracy': array([0.8 , 0.95, 0.75])}"
            ]
          },
          "metadata": {},
          "execution_count": 50
        }
      ]
    },
    {
      "cell_type": "code",
      "source": [
        "# Arbol 1 generado por cross validation\n",
        "plt.figure(figsize=(14,10))\n",
        "plot_tree(r['estimator'][0],feature_names=[\"Glucose\",\"Pregnancies\",\"BloodPressure\"],class_names=[\"0\",\"1\"],filled=True)\n",
        "plt.title(f\"Arbol cv1\", fontsize=20)\n",
        "plt.show()"
      ],
      "metadata": {
        "colab": {
          "base_uri": "https://localhost:8080/",
          "height": 596
        },
        "id": "IE61ysu3YxSF",
        "outputId": "8aaecf6c-300b-4509-b67d-8d2368e34363"
      },
      "execution_count": null,
      "outputs": [
        {
          "output_type": "display_data",
          "data": {
            "text/plain": [
              "<Figure size 1008x720 with 1 Axes>"
            ],
            "image/png": "[encoded data removed]"
          },
          "metadata": {
            "needs_background": "light"
          }
        }
      ]
    },
    {
      "cell_type": "code",
      "source": [
        "# Arbol 2 generado por cross validation\n",
        "plt.figure(figsize=(14,10))\n",
        "plot_tree(r['estimator'][1],feature_names=[\"Glucose\",\"Pregnancies\",\"BloodPressure\"],class_names=[\"0\",\"1\"],filled=True)\n",
        "plt.title(f\"Arbol cv2\", fontsize=20)\n",
        "plt.show()"
      ],
      "metadata": {
        "colab": {
          "base_uri": "https://localhost:8080/",
          "height": 596
        },
        "id": "i_Z5nTuKY73e",
        "outputId": "02c01a6e-ea45-4401-eaac-8258c0e0a323"
      },
      "execution_count": null,
      "outputs": [
        {
          "output_type": "display_data",
          "data": {
            "text/plain": [
              "<Figure size 1008x720 with 1 Axes>"
            ],
            "image/png": "[encoded data removed]"
          },
          "metadata": {
            "needs_background": "light"
          }
        }
      ]
    },
    {
      "cell_type": "code",
      "source": [
        "# Arbol 3 generado por cross validation\n",
        "plt.figure(figsize=(14,10))\n",
        "plot_tree(r['estimator'][2],feature_names=[\"Glucose\",\"Pregnancies\",\"BloodPressure\"],class_names=[\"0\",\"1\"],filled=True)\n",
        "plt.title(f\"Arbol cv3\", fontsize=20)\n",
        "plt.show()"
      ],
      "metadata": {
        "colab": {
          "base_uri": "https://localhost:8080/",
          "height": 596
        },
        "id": "B0rZLsNWY9-N",
        "outputId": "4dc458a2-56a4-46da-8e8f-cd14559b3049"
      },
      "execution_count": null,
      "outputs": [
        {
          "output_type": "display_data",
          "data": {
            "text/plain": [
              "<Figure size 1008x720 with 1 Axes>"
            ],
            "image/png": "[encoded data removed]"
          },
          "metadata": {
            "needs_background": "light"
          }
        }
      ]
    },
    {
      "cell_type": "markdown",
      "source": [
        "<FONT FACE='times new roman'>\n",
        "<h1><b>Punto C</b></h1>\n",
        "<p align='justify'>\n",
        "<FONT SIZE = 4>\n",
        "Dibujar la frontera de decisión a mano o en el notebook para el árbol de la primera cv.(No se pueden usar bibliotecas que realizan automáticamente este proceso).(5 puntos)\n",
        "</p>"
      ],
      "metadata": {
        "id": "ApesW5TIWVI0"
      }
    },
    {
      "cell_type": "code",
      "source": [
        "#Se dividen los datos a través de la variable Outcome.\n",
        "df = df.reindex(columns=[\"Pregnancies\", \"Glucose\" , \"BloodPressure\", \"Outcome\"])\n",
        "dfSI = []\n",
        "dfNO =[]\n",
        "for i in df[:20].values:\n",
        "  if(i[3]==0):\n",
        "    dfNO.append(i)\n",
        "  else:\n",
        "    dfSI.append(i)"
      ],
      "metadata": {
        "id": "AgJH-zzrg67X"
      },
      "execution_count": null,
      "outputs": []
    },
    {
      "cell_type": "code",
      "source": [
        "dfSI = pd.DataFrame(dfSI, columns=[\"Pregnancies\",\"Glucose\",\"BloodPressure\",\"Outcome\"])\n",
        "dfNO = pd.DataFrame(dfNO, columns=[\"Pregnancies\",\"Glucose\",\"BloodPressure\",\"Outcome\"])"
      ],
      "metadata": {
        "id": "rWfwlceWg7gq"
      },
      "execution_count": null,
      "outputs": []
    },
    {
      "cell_type": "code",
      "source": [
        "import plotly.graph_objects as go\n",
        "import plotly.express as px\n",
        "\n",
        "fig = go.Figure()\n",
        "\n",
        "# Crear el grafico\n",
        "fig.update_layout( scene=dict(xaxis_title='Pregnancies',\n",
        "                             yaxis_title='Glucose',\n",
        "                             zaxis_title='BloodPressure'),\n",
        "                  width=1000,\n",
        "                  height=500,\n",
        "                  margin=dict(r=0, t=0, b=0,l=0),\n",
        "                  template='plotly_dark'\n",
        "                  )\n",
        "\n",
        "#Graficar los puntos positivos\n",
        "fig.add_trace(go.Scatter3d(x=dfSI['Pregnancies'], y=dfSI['Glucose'], z=dfSI['BloodPressure'],mode='markers', marker=dict(size=7), name='Clase Positiva'))\n",
        "\n",
        "#Graficar los puntos negativos\n",
        "fig.add_trace(go.Scatter3d(x=dfNO['Pregnancies'], y=dfNO['Glucose'], z=dfNO['BloodPressure'],mode='markers', marker=dict(size=7), name='Clase Negativa'))\n",
        "\n",
        "#Funcion para graficar el plano CV = 1\n",
        "Xp1, Zp1 = np.meshgrid(dfSI['Pregnancies'], dfSI['BloodPressure'])\n",
        "Yp1 = np.full((20,20),143.5)\n",
        "\n",
        "fig.add_trace(go.Surface(z=Zp1, x=Xp1, y=Yp1, colorscale=\"Gray\"))\n",
        "\n",
        "#Funcion para graficar el plano CV = 2\n",
        "Xp1, Zp1 = np.meshgrid(dfSI['Glucose'], dfSI['BloodPressure'])\n",
        "Yp1 = np.full((20,20),0.5)\n",
        "\n",
        "fig.add_trace(go.Surface(z=Zp1, x=Yp1, y=Xp1, colorscale=\"Gray\"))\n",
        "\n",
        "#Funcion para graficar el plano CV = 3\n",
        "Xp1, Zp1 = np.meshgrid(dfSI['Glucose'], dfSI['BloodPressure'])\n",
        "Yp1 = np.full((20,20),9)\n",
        "\n",
        "fig.add_trace(go.Surface(z=Zp1, x=Yp1, y=Xp1, colorscale=\"Gray\"))\n",
        "\n",
        "# Mostrar la figura\n",
        "fig.show()"
      ],
      "metadata": {
        "colab": {
          "base_uri": "https://localhost:8080/",
          "height": 517
        },
        "id": "UkKlfKZZg9HO",
        "outputId": "948f424f-48b3-4d44-87dc-bcb75106a777"
      },
      "execution_count": null,
      "outputs": [
        {
          "output_type": "display_data",
          "data": {
            "text/html": [
              "<html>\n",
              "<head><meta charset=\"utf-8\" /></head>\n",
              "<body>\n",
              "    <div>            <script src=\"https://cdnjs.cloudflare.com/ajax/libs/mathjax/2.7.5/MathJax.js?config=TeX-AMS-MML_SVG\"></script><script type=\"text/javascript\">if (window.MathJax) {MathJax.Hub.Config({SVG: {font: \"STIX-Web\"}});}</script>                <script type=\"text/javascript\">window.PlotlyConfig = {MathJaxConfig: 'local'};</script>\n",
              "        <script src=\"https://cdn.plot.ly/plotly-2.8.3.min.js\"></script>                <div id=\"84a8ace6-1108-47cb-b29d-8a7582b7751e\" class=\"plotly-graph-div\" style=\"height:500px; width:1000px;\"></div>            <script type=\"text/javascript\">                                    window.PLOTLYENV=window.PLOTLYENV || {};                                    if (document.getElementById(\"84a8ace6-1108-47cb-b29d-8a7582b7751e\")) {                    Plotly.newPlot(                        \"84a8ace6-1108-47cb-b29d-8a7582b7751e\",                        [{\"marker\":{\"size\":7},\"mode\":\"markers\",\"name\":\"Clase Positiva\",\"x\":[6,8,0,3,2,8,10,1,5,7,0,7,1],\"y\":[148,183,137,78,197,125,168,189,166,100,118,107,115],\"z\":[72,64,40,50,70,96,74,60,72,0,84,74,70],\"type\":\"scatter3d\"},{\"marker\":{\"size\":7},\"mode\":\"markers\",\"name\":\"Clase Negativa\",\"x\":[1,1,5,10,4,10,1],\"y\":[85,89,116,115,110,139,103],\"z\":[66,66,74,0,92,80,30],\"type\":\"scatter3d\"},{\"colorscale\":[[0.0,\"rgb(0, 0, 0)\"],[0.09090909090909091,\"rgb(16, 16, 16)\"],[0.18181818181818182,\"rgb(38, 38, 38)\"],[0.2727272727272727,\"rgb(59, 59, 59)\"],[0.36363636363636365,\"rgb(81, 80, 80)\"],[0.45454545454545453,\"rgb(102, 101, 101)\"],[0.5454545454545454,\"rgb(124, 123, 122)\"],[0.6363636363636364,\"rgb(146, 146, 145)\"],[0.7272727272727273,\"rgb(171, 171, 170)\"],[0.8181818181818182,\"rgb(197, 197, 195)\"],[0.9090909090909091,\"rgb(224, 224, 223)\"],[1.0,\"rgb(254, 254, 253)\"]],\"x\":[[6,8,0,3,2,8,10,1,5,7,0,7,1],[6,8,0,3,2,8,10,1,5,7,0,7,1],[6,8,0,3,2,8,10,1,5,7,0,7,1],[6,8,0,3,2,8,10,1,5,7,0,7,1],[6,8,0,3,2,8,10,1,5,7,0,7,1],[6,8,0,3,2,8,10,1,5,7,0,7,1],[6,8,0,3,2,8,10,1,5,7,0,7,1],[6,8,0,3,2,8,10,1,5,7,0,7,1],[6,8,0,3,2,8,10,1,5,7,0,7,1],[6,8,0,3,2,8,10,1,5,7,0,7,1],[6,8,0,3,2,8,10,1,5,7,0,7,1],[6,8,0,3,2,8,10,1,5,7,0,7,1],[6,8,0,3,2,8,10,1,5,7,0,7,1]],\"y\":[[143.5,143.5,143.5,143.5,143.5,143.5,143.5,143.5,143.5,143.5,143.5,143.5,143.5,143.5,143.5,143.5,143.5,143.5,143.5,143.5],[143.5,143.5,143.5,143.5,143.5,143.5,143.5,143.5,143.5,143.5,143.5,143.5,143.5,143.5,143.5,143.5,143.5,143.5,143.5,143.5],[143.5,143.5,143.5,143.5,143.5,143.5,143.5,143.5,143.5,143.5,143.5,143.5,143.5,143.5,143.5,143.5,143.5,143.5,143.5,143.5],[143.5,143.5,143.5,143.5,143.5,143.5,143.5,143.5,143.5,143.5,143.5,143.5,143.5,143.5,143.5,143.5,143.5,143.5,143.5,143.5],[143.5,143.5,143.5,143.5,143.5,143.5,143.5,143.5,143.5,143.5,143.5,143.5,143.5,143.5,143.5,143.5,143.5,143.5,143.5,143.5],[143.5,143.5,143.5,143.5,143.5,143.5,143.5,143.5,143.5,143.5,143.5,143.5,143.5,143.5,143.5,143.5,143.5,143.5,143.5,143.5],[143.5,143.5,143.5,143.5,143.5,143.5,143.5,143.5,143.5,143.5,143.5,143.5,143.5,143.5,143.5,143.5,143.5,143.5,143.5,143.5],[143.5,143.5,143.5,143.5,143.5,143.5,143.5,143.5,143.5,143.5,143.5,143.5,143.5,143.5,143.5,143.5,143.5,143.5,143.5,143.5],[143.5,143.5,143.5,143.5,143.5,143.5,143.5,143.5,143.5,143.5,143.5,143.5,143.5,143.5,143.5,143.5,143.5,143.5,143.5,143.5],[143.5,143.5,143.5,143.5,143.5,143.5,143.5,143.5,143.5,143.5,143.5,143.5,143.5,143.5,143.5,143.5,143.5,143.5,143.5,143.5],[143.5,143.5,143.5,143.5,143.5,143.5,143.5,143.5,143.5,143.5,143.5,143.5,143.5,143.5,143.5,143.5,143.5,143.5,143.5,143.5],[143.5,143.5,143.5,143.5,143.5,143.5,143.5,143.5,143.5,143.5,143.5,143.5,143.5,143.5,143.5,143.5,143.5,143.5,143.5,143.5],[143.5,143.5,143.5,143.5,143.5,143.5,143.5,143.5,143.5,143.5,143.5,143.5,143.5,143.5,143.5,143.5,143.5,143.5,143.5,143.5],[143.5,143.5,143.5,143.5,143.5,143.5,143.5,143.5,143.5,143.5,143.5,143.5,143.5,143.5,143.5,143.5,143.5,143.5,143.5,143.5],[143.5,143.5,143.5,143.5,143.5,143.5,143.5,143.5,143.5,143.5,143.5,143.5,143.5,143.5,143.5,143.5,143.5,143.5,143.5,143.5],[143.5,143.5,143.5,143.5,143.5,143.5,143.5,143.5,143.5,143.5,143.5,143.5,143.5,143.5,143.5,143.5,143.5,143.5,143.5,143.5],[143.5,143.5,143.5,143.5,143.5,143.5,143.5,143.5,143.5,143.5,143.5,143.5,143.5,143.5,143.5,143.5,143.5,143.5,143.5,143.5],[143.5,143.5,143.5,143.5,143.5,143.5,143.5,143.5,143.5,143.5,143.5,143.5,143.5,143.5,143.5,143.5,143.5,143.5,143.5,143.5],[143.5,143.5,143.5,143.5,143.5,143.5,143.5,143.5,143.5,143.5,143.5,143.5,143.5,143.5,143.5,143.5,143.5,143.5,143.5,143.5],[143.5,143.5,143.5,143.5,143.5,143.5,143.5,143.5,143.5,143.5,143.5,143.5,143.5,143.5,143.5,143.5,143.5,143.5,143.5,143.5]],\"z\":[[72,72,72,72,72,72,72,72,72,72,72,72,72],[64,64,64,64,64,64,64,64,64,64,64,64,64],[40,40,40,40,40,40,40,40,40,40,40,40,40],[50,50,50,50,50,50,50,50,50,50,50,50,50],[70,70,70,70,70,70,70,70,70,70,70,70,70],[96,96,96,96,96,96,96,96,96,96,96,96,96],[74,74,74,74,74,74,74,74,74,74,74,74,74],[60,60,60,60,60,60,60,60,60,60,60,60,60],[72,72,72,72,72,72,72,72,72,72,72,72,72],[0,0,0,0,0,0,0,0,0,0,0,0,0],[84,84,84,84,84,84,84,84,84,84,84,84,84],[74,74,74,74,74,74,74,74,74,74,74,74,74],[70,70,70,70,70,70,70,70,70,70,70,70,70]],\"type\":\"surface\"},{\"colorscale\":[[0.0,\"rgb(0, 0, 0)\"],[0.09090909090909091,\"rgb(16, 16, 16)\"],[0.18181818181818182,\"rgb(38, 38, 38)\"],[0.2727272727272727,\"rgb(59, 59, 59)\"],[0.36363636363636365,\"rgb(81, 80, 80)\"],[0.45454545454545453,\"rgb(102, 101, 101)\"],[0.5454545454545454,\"rgb(124, 123, 122)\"],[0.6363636363636364,\"rgb(146, 146, 145)\"],[0.7272727272727273,\"rgb(171, 171, 170)\"],[0.8181818181818182,\"rgb(197, 197, 195)\"],[0.9090909090909091,\"rgb(224, 224, 223)\"],[1.0,\"rgb(254, 254, 253)\"]],\"x\":[[0.5,0.5,0.5,0.5,0.5,0.5,0.5,0.5,0.5,0.5,0.5,0.5,0.5,0.5,0.5,0.5,0.5,0.5,0.5,0.5],[0.5,0.5,0.5,0.5,0.5,0.5,0.5,0.5,0.5,0.5,0.5,0.5,0.5,0.5,0.5,0.5,0.5,0.5,0.5,0.5],[0.5,0.5,0.5,0.5,0.5,0.5,0.5,0.5,0.5,0.5,0.5,0.5,0.5,0.5,0.5,0.5,0.5,0.5,0.5,0.5],[0.5,0.5,0.5,0.5,0.5,0.5,0.5,0.5,0.5,0.5,0.5,0.5,0.5,0.5,0.5,0.5,0.5,0.5,0.5,0.5],[0.5,0.5,0.5,0.5,0.5,0.5,0.5,0.5,0.5,0.5,0.5,0.5,0.5,0.5,0.5,0.5,0.5,0.5,0.5,0.5],[0.5,0.5,0.5,0.5,0.5,0.5,0.5,0.5,0.5,0.5,0.5,0.5,0.5,0.5,0.5,0.5,0.5,0.5,0.5,0.5],[0.5,0.5,0.5,0.5,0.5,0.5,0.5,0.5,0.5,0.5,0.5,0.5,0.5,0.5,0.5,0.5,0.5,0.5,0.5,0.5],[0.5,0.5,0.5,0.5,0.5,0.5,0.5,0.5,0.5,0.5,0.5,0.5,0.5,0.5,0.5,0.5,0.5,0.5,0.5,0.5],[0.5,0.5,0.5,0.5,0.5,0.5,0.5,0.5,0.5,0.5,0.5,0.5,0.5,0.5,0.5,0.5,0.5,0.5,0.5,0.5],[0.5,0.5,0.5,0.5,0.5,0.5,0.5,0.5,0.5,0.5,0.5,0.5,0.5,0.5,0.5,0.5,0.5,0.5,0.5,0.5],[0.5,0.5,0.5,0.5,0.5,0.5,0.5,0.5,0.5,0.5,0.5,0.5,0.5,0.5,0.5,0.5,0.5,0.5,0.5,0.5],[0.5,0.5,0.5,0.5,0.5,0.5,0.5,0.5,0.5,0.5,0.5,0.5,0.5,0.5,0.5,0.5,0.5,0.5,0.5,0.5],[0.5,0.5,0.5,0.5,0.5,0.5,0.5,0.5,0.5,0.5,0.5,0.5,0.5,0.5,0.5,0.5,0.5,0.5,0.5,0.5],[0.5,0.5,0.5,0.5,0.5,0.5,0.5,0.5,0.5,0.5,0.5,0.5,0.5,0.5,0.5,0.5,0.5,0.5,0.5,0.5],[0.5,0.5,0.5,0.5,0.5,0.5,0.5,0.5,0.5,0.5,0.5,0.5,0.5,0.5,0.5,0.5,0.5,0.5,0.5,0.5],[0.5,0.5,0.5,0.5,0.5,0.5,0.5,0.5,0.5,0.5,0.5,0.5,0.5,0.5,0.5,0.5,0.5,0.5,0.5,0.5],[0.5,0.5,0.5,0.5,0.5,0.5,0.5,0.5,0.5,0.5,0.5,0.5,0.5,0.5,0.5,0.5,0.5,0.5,0.5,0.5],[0.5,0.5,0.5,0.5,0.5,0.5,0.5,0.5,0.5,0.5,0.5,0.5,0.5,0.5,0.5,0.5,0.5,0.5,0.5,0.5],[0.5,0.5,0.5,0.5,0.5,0.5,0.5,0.5,0.5,0.5,0.5,0.5,0.5,0.5,0.5,0.5,0.5,0.5,0.5,0.5],[0.5,0.5,0.5,0.5,0.5,0.5,0.5,0.5,0.5,0.5,0.5,0.5,0.5,0.5,0.5,0.5,0.5,0.5,0.5,0.5]],\"y\":[[148,183,137,78,197,125,168,189,166,100,118,107,115],[148,183,137,78,197,125,168,189,166,100,118,107,115],[148,183,137,78,197,125,168,189,166,100,118,107,115],[148,183,137,78,197,125,168,189,166,100,118,107,115],[148,183,137,78,197,125,168,189,166,100,118,107,115],[148,183,137,78,197,125,168,189,166,100,118,107,115],[148,183,137,78,197,125,168,189,166,100,118,107,115],[148,183,137,78,197,125,168,189,166,100,118,107,115],[148,183,137,78,197,125,168,189,166,100,118,107,115],[148,183,137,78,197,125,168,189,166,100,118,107,115],[148,183,137,78,197,125,168,189,166,100,118,107,115],[148,183,137,78,197,125,168,189,166,100,118,107,115],[148,183,137,78,197,125,168,189,166,100,118,107,115]],\"z\":[[72,72,72,72,72,72,72,72,72,72,72,72,72],[64,64,64,64,64,64,64,64,64,64,64,64,64],[40,40,40,40,40,40,40,40,40,40,40,40,40],[50,50,50,50,50,50,50,50,50,50,50,50,50],[70,70,70,70,70,70,70,70,70,70,70,70,70],[96,96,96,96,96,96,96,96,96,96,96,96,96],[74,74,74,74,74,74,74,74,74,74,74,74,74],[60,60,60,60,60,60,60,60,60,60,60,60,60],[72,72,72,72,72,72,72,72,72,72,72,72,72],[0,0,0,0,0,0,0,0,0,0,0,0,0],[84,84,84,84,84,84,84,84,84,84,84,84,84],[74,74,74,74,74,74,74,74,74,74,74,74,74],[70,70,70,70,70,70,70,70,70,70,70,70,70]],\"type\":\"surface\"},{\"colorscale\":[[0.0,\"rgb(0, 0, 0)\"],[0.09090909090909091,\"rgb(16, 16, 16)\"],[0.18181818181818182,\"rgb(38, 38, 38)\"],[0.2727272727272727,\"rgb(59, 59, 59)\"],[0.36363636363636365,\"rgb(81, 80, 80)\"],[0.45454545454545453,\"rgb(102, 101, 101)\"],[0.5454545454545454,\"rgb(124, 123, 122)\"],[0.6363636363636364,\"rgb(146, 146, 145)\"],[0.7272727272727273,\"rgb(171, 171, 170)\"],[0.8181818181818182,\"rgb(197, 197, 195)\"],[0.9090909090909091,\"rgb(224, 224, 223)\"],[1.0,\"rgb(254, 254, 253)\"]],\"x\":[[9,9,9,9,9,9,9,9,9,9,9,9,9,9,9,9,9,9,9,9],[9,9,9,9,9,9,9,9,9,9,9,9,9,9,9,9,9,9,9,9],[9,9,9,9,9,9,9,9,9,9,9,9,9,9,9,9,9,9,9,9],[9,9,9,9,9,9,9,9,9,9,9,9,9,9,9,9,9,9,9,9],[9,9,9,9,9,9,9,9,9,9,9,9,9,9,9,9,9,9,9,9],[9,9,9,9,9,9,9,9,9,9,9,9,9,9,9,9,9,9,9,9],[9,9,9,9,9,9,9,9,9,9,9,9,9,9,9,9,9,9,9,9],[9,9,9,9,9,9,9,9,9,9,9,9,9,9,9,9,9,9,9,9],[9,9,9,9,9,9,9,9,9,9,9,9,9,9,9,9,9,9,9,9],[9,9,9,9,9,9,9,9,9,9,9,9,9,9,9,9,9,9,9,9],[9,9,9,9,9,9,9,9,9,9,9,9,9,9,9,9,9,9,9,9],[9,9,9,9,9,9,9,9,9,9,9,9,9,9,9,9,9,9,9,9],[9,9,9,9,9,9,9,9,9,9,9,9,9,9,9,9,9,9,9,9],[9,9,9,9,9,9,9,9,9,9,9,9,9,9,9,9,9,9,9,9],[9,9,9,9,9,9,9,9,9,9,9,9,9,9,9,9,9,9,9,9],[9,9,9,9,9,9,9,9,9,9,9,9,9,9,9,9,9,9,9,9],[9,9,9,9,9,9,9,9,9,9,9,9,9,9,9,9,9,9,9,9],[9,9,9,9,9,9,9,9,9,9,9,9,9,9,9,9,9,9,9,9],[9,9,9,9,9,9,9,9,9,9,9,9,9,9,9,9,9,9,9,9],[9,9,9,9,9,9,9,9,9,9,9,9,9,9,9,9,9,9,9,9]],\"y\":[[148,183,137,78,197,125,168,189,166,100,118,107,115],[148,183,137,78,197,125,168,189,166,100,118,107,115],[148,183,137,78,197,125,168,189,166,100,118,107,115],[148,183,137,78,197,125,168,189,166,100,118,107,115],[148,183,137,78,197,125,168,189,166,100,118,107,115],[148,183,137,78,197,125,168,189,166,100,118,107,115],[148,183,137,78,197,125,168,189,166,100,118,107,115],[148,183,137,78,197,125,168,189,166,100,118,107,115],[148,183,137,78,197,125,168,189,166,100,118,107,115],[148,183,137,78,197,125,168,189,166,100,118,107,115],[148,183,137,78,197,125,168,189,166,100,118,107,115],[148,183,137,78,197,125,168,189,166,100,118,107,115],[148,183,137,78,197,125,168,189,166,100,118,107,115]],\"z\":[[72,72,72,72,72,72,72,72,72,72,72,72,72],[64,64,64,64,64,64,64,64,64,64,64,64,64],[40,40,40,40,40,40,40,40,40,40,40,40,40],[50,50,50,50,50,50,50,50,50,50,50,50,50],[70,70,70,70,70,70,70,70,70,70,70,70,70],[96,96,96,96,96,96,96,96,96,96,96,96,96],[74,74,74,74,74,74,74,74,74,74,74,74,74],[60,60,60,60,60,60,60,60,60,60,60,60,60],[72,72,72,72,72,72,72,72,72,72,72,72,72],[0,0,0,0,0,0,0,0,0,0,0,0,0],[84,84,84,84,84,84,84,84,84,84,84,84,84],[74,74,74,74,74,74,74,74,74,74,74,74,74],[70,70,70,70,70,70,70,70,70,70,70,70,70]],\"type\":\"surface\"}],                        {\"template\":{\"data\":{\"barpolar\":[{\"marker\":{\"line\":{\"color\":\"rgb(17,17,17)\",\"width\":0.5},\"pattern\":{\"fillmode\":\"overlay\",\"size\":10,\"solidity\":0.2}},\"type\":\"barpolar\"}],\"bar\":[{\"error_x\":{\"color\":\"#f2f5fa\"},\"error_y\":{\"color\":\"#f2f5fa\"},\"marker\":{\"line\":{\"color\":\"rgb(17,17,17)\",\"width\":0.5},\"pattern\":{\"fillmode\":\"overlay\",\"size\":10,\"solidity\":0.2}},\"type\":\"bar\"}],\"carpet\":[{\"aaxis\":{\"endlinecolor\":\"#A2B1C6\",\"gridcolor\":\"#506784\",\"linecolor\":\"#506784\",\"minorgridcolor\":\"#506784\",\"startlinecolor\":\"#A2B1C6\"},\"baxis\":{\"endlinecolor\":\"#A2B1C6\",\"gridcolor\":\"#506784\",\"linecolor\":\"#506784\",\"minorgridcolor\":\"#506784\",\"startlinecolor\":\"#A2B1C6\"},\"type\":\"carpet\"}],\"choropleth\":[{\"colorbar\":{\"outlinewidth\":0,\"ticks\":\"\"},\"type\":\"choropleth\"}],\"contourcarpet\":[{\"colorbar\":{\"outlinewidth\":0,\"ticks\":\"\"},\"type\":\"contourcarpet\"}],\"contour\":[{\"colorbar\":{\"outlinewidth\":0,\"ticks\":\"\"},\"colorscale\":[[0.0,\"#0d0887\"],[0.1111111111111111,\"#46039f\"],[0.2222222222222222,\"#7201a8\"],[0.3333333333333333,\"#9c179e\"],[0.4444444444444444,\"#bd3786\"],[0.5555555555555556,\"#d8576b\"],[0.6666666666666666,\"#ed7953\"],[0.7777777777777778,\"#fb9f3a\"],[0.8888888888888888,\"#fdca26\"],[1.0,\"#f0f921\"]],\"type\":\"contour\"}],\"heatmapgl\":[{\"colorbar\":{\"outlinewidth\":0,\"ticks\":\"\"},\"colorscale\":[[0.0,\"#0d0887\"],[0.1111111111111111,\"#46039f\"],[0.2222222222222222,\"#7201a8\"],[0.3333333333333333,\"#9c179e\"],[0.4444444444444444,\"#bd3786\"],[0.5555555555555556,\"#d8576b\"],[0.6666666666666666,\"#ed7953\"],[0.7777777777777778,\"#fb9f3a\"],[0.8888888888888888,\"#fdca26\"],[1.0,\"#f0f921\"]],\"type\":\"heatmapgl\"}],\"heatmap\":[{\"colorbar\":{\"outlinewidth\":0,\"ticks\":\"\"},\"colorscale\":[[0.0,\"#0d0887\"],[0.1111111111111111,\"#46039f\"],[0.2222222222222222,\"#7201a8\"],[0.3333333333333333,\"#9c179e\"],[0.4444444444444444,\"#bd3786\"],[0.5555555555555556,\"#d8576b\"],[0.6666666666666666,\"#ed7953\"],[0.7777777777777778,\"#fb9f3a\"],[0.8888888888888888,\"#fdca26\"],[1.0,\"#f0f921\"]],\"type\":\"heatmap\"}],\"histogram2dcontour\":[{\"colorbar\":{\"outlinewidth\":0,\"ticks\":\"\"},\"colorscale\":[[0.0,\"#0d0887\"],[0.1111111111111111,\"#46039f\"],[0.2222222222222222,\"#7201a8\"],[0.3333333333333333,\"#9c179e\"],[0.4444444444444444,\"#bd3786\"],[0.5555555555555556,\"#d8576b\"],[0.6666666666666666,\"#ed7953\"],[0.7777777777777778,\"#fb9f3a\"],[0.8888888888888888,\"#fdca26\"],[1.0,\"#f0f921\"]],\"type\":\"histogram2dcontour\"}],\"histogram2d\":[{\"colorbar\":{\"outlinewidth\":0,\"ticks\":\"\"},\"colorscale\":[[0.0,\"#0d0887\"],[0.1111111111111111,\"#46039f\"],[0.2222222222222222,\"#7201a8\"],[0.3333333333333333,\"#9c179e\"],[0.4444444444444444,\"#bd3786\"],[0.5555555555555556,\"#d8576b\"],[0.6666666666666666,\"#ed7953\"],[0.7777777777777778,\"#fb9f3a\"],[0.8888888888888888,\"#fdca26\"],[1.0,\"#f0f921\"]],\"type\":\"histogram2d\"}],\"histogram\":[{\"marker\":{\"pattern\":{\"fillmode\":\"overlay\",\"size\":10,\"solidity\":0.2}},\"type\":\"histogram\"}],\"mesh3d\":[{\"colorbar\":{\"outlinewidth\":0,\"ticks\":\"\"},\"type\":\"mesh3d\"}],\"parcoords\":[{\"line\":{\"colorbar\":{\"outlinewidth\":0,\"ticks\":\"\"}},\"type\":\"parcoords\"}],\"pie\":[{\"automargin\":true,\"type\":\"pie\"}],\"scatter3d\":[{\"line\":{\"colorbar\":{\"outlinewidth\":0,\"ticks\":\"\"}},\"marker\":{\"colorbar\":{\"outlinewidth\":0,\"ticks\":\"\"}},\"type\":\"scatter3d\"}],\"scattercarpet\":[{\"marker\":{\"colorbar\":{\"outlinewidth\":0,\"ticks\":\"\"}},\"type\":\"scattercarpet\"}],\"scattergeo\":[{\"marker\":{\"colorbar\":{\"outlinewidth\":0,\"ticks\":\"\"}},\"type\":\"scattergeo\"}],\"scattergl\":[{\"marker\":{\"line\":{\"color\":\"#283442\"}},\"type\":\"scattergl\"}],\"scattermapbox\":[{\"marker\":{\"colorbar\":{\"outlinewidth\":0,\"ticks\":\"\"}},\"type\":\"scattermapbox\"}],\"scatterpolargl\":[{\"marker\":{\"colorbar\":{\"outlinewidth\":0,\"ticks\":\"\"}},\"type\":\"scatterpolargl\"}],\"scatterpolar\":[{\"marker\":{\"colorbar\":{\"outlinewidth\":0,\"ticks\":\"\"}},\"type\":\"scatterpolar\"}],\"scatter\":[{\"marker\":{\"line\":{\"color\":\"#283442\"}},\"type\":\"scatter\"}],\"scatterternary\":[{\"marker\":{\"colorbar\":{\"outlinewidth\":0,\"ticks\":\"\"}},\"type\":\"scatterternary\"}],\"surface\":[{\"colorbar\":{\"outlinewidth\":0,\"ticks\":\"\"},\"colorscale\":[[0.0,\"#0d0887\"],[0.1111111111111111,\"#46039f\"],[0.2222222222222222,\"#7201a8\"],[0.3333333333333333,\"#9c179e\"],[0.4444444444444444,\"#bd3786\"],[0.5555555555555556,\"#d8576b\"],[0.6666666666666666,\"#ed7953\"],[0.7777777777777778,\"#fb9f3a\"],[0.8888888888888888,\"#fdca26\"],[1.0,\"#f0f921\"]],\"type\":\"surface\"}],\"table\":[{\"cells\":{\"fill\":{\"color\":\"#506784\"},\"line\":{\"color\":\"rgb(17,17,17)\"}},\"header\":{\"fill\":{\"color\":\"#2a3f5f\"},\"line\":{\"color\":\"rgb(17,17,17)\"}},\"type\":\"table\"}]},\"layout\":{\"annotationdefaults\":{\"arrowcolor\":\"#f2f5fa\",\"arrowhead\":0,\"arrowwidth\":1},\"autotypenumbers\":\"strict\",\"coloraxis\":{\"colorbar\":{\"outlinewidth\":0,\"ticks\":\"\"}},\"colorscale\":{\"diverging\":[[0,\"#8e0152\"],[0.1,\"#c51b7d\"],[0.2,\"#de77ae\"],[0.3,\"#f1b6da\"],[0.4,\"#fde0ef\"],[0.5,\"#f7f7f7\"],[0.6,\"#e6f5d0\"],[0.7,\"#b8e186\"],[0.8,\"#7fbc41\"],[0.9,\"#4d9221\"],[1,\"#276419\"]],\"sequential\":[[0.0,\"#0d0887\"],[0.1111111111111111,\"#46039f\"],[0.2222222222222222,\"#7201a8\"],[0.3333333333333333,\"#9c179e\"],[0.4444444444444444,\"#bd3786\"],[0.5555555555555556,\"#d8576b\"],[0.6666666666666666,\"#ed7953\"],[0.7777777777777778,\"#fb9f3a\"],[0.8888888888888888,\"#fdca26\"],[1.0,\"#f0f921\"]],\"sequentialminus\":[[0.0,\"#0d0887\"],[0.1111111111111111,\"#46039f\"],[0.2222222222222222,\"#7201a8\"],[0.3333333333333333,\"#9c179e\"],[0.4444444444444444,\"#bd3786\"],[0.5555555555555556,\"#d8576b\"],[0.6666666666666666,\"#ed7953\"],[0.7777777777777778,\"#fb9f3a\"],[0.8888888888888888,\"#fdca26\"],[1.0,\"#f0f921\"]]},\"colorway\":[\"#636efa\",\"#EF553B\",\"#00cc96\",\"#ab63fa\",\"#FFA15A\",\"#19d3f3\",\"#FF6692\",\"#B6E880\",\"#FF97FF\",\"#FECB52\"],\"font\":{\"color\":\"#f2f5fa\"},\"geo\":{\"bgcolor\":\"rgb(17,17,17)\",\"lakecolor\":\"rgb(17,17,17)\",\"landcolor\":\"rgb(17,17,17)\",\"showlakes\":true,\"showland\":true,\"subunitcolor\":\"#506784\"},\"hoverlabel\":{\"align\":\"left\"},\"hovermode\":\"closest\",\"mapbox\":{\"style\":\"dark\"},\"paper_bgcolor\":\"rgb(17,17,17)\",\"plot_bgcolor\":\"rgb(17,17,17)\",\"polar\":{\"angularaxis\":{\"gridcolor\":\"#506784\",\"linecolor\":\"#506784\",\"ticks\":\"\"},\"bgcolor\":\"rgb(17,17,17)\",\"radialaxis\":{\"gridcolor\":\"#506784\",\"linecolor\":\"#506784\",\"ticks\":\"\"}},\"scene\":{\"xaxis\":{\"backgroundcolor\":\"rgb(17,17,17)\",\"gridcolor\":\"#506784\",\"gridwidth\":2,\"linecolor\":\"#506784\",\"showbackground\":true,\"ticks\":\"\",\"zerolinecolor\":\"#C8D4E3\"},\"yaxis\":{\"backgroundcolor\":\"rgb(17,17,17)\",\"gridcolor\":\"#506784\",\"gridwidth\":2,\"linecolor\":\"#506784\",\"showbackground\":true,\"ticks\":\"\",\"zerolinecolor\":\"#C8D4E3\"},\"zaxis\":{\"backgroundcolor\":\"rgb(17,17,17)\",\"gridcolor\":\"#506784\",\"gridwidth\":2,\"linecolor\":\"#506784\",\"showbackground\":true,\"ticks\":\"\",\"zerolinecolor\":\"#C8D4E3\"}},\"shapedefaults\":{\"line\":{\"color\":\"#f2f5fa\"}},\"sliderdefaults\":{\"bgcolor\":\"#C8D4E3\",\"bordercolor\":\"rgb(17,17,17)\",\"borderwidth\":1,\"tickwidth\":0},\"ternary\":{\"aaxis\":{\"gridcolor\":\"#506784\",\"linecolor\":\"#506784\",\"ticks\":\"\"},\"baxis\":{\"gridcolor\":\"#506784\",\"linecolor\":\"#506784\",\"ticks\":\"\"},\"bgcolor\":\"rgb(17,17,17)\",\"caxis\":{\"gridcolor\":\"#506784\",\"linecolor\":\"#506784\",\"ticks\":\"\"}},\"title\":{\"x\":0.05},\"updatemenudefaults\":{\"bgcolor\":\"#506784\",\"borderwidth\":0},\"xaxis\":{\"automargin\":true,\"gridcolor\":\"#283442\",\"linecolor\":\"#506784\",\"ticks\":\"\",\"title\":{\"standoff\":15},\"zerolinecolor\":\"#283442\",\"zerolinewidth\":2},\"yaxis\":{\"automargin\":true,\"gridcolor\":\"#283442\",\"linecolor\":\"#506784\",\"ticks\":\"\",\"title\":{\"standoff\":15},\"zerolinecolor\":\"#283442\",\"zerolinewidth\":2}}},\"margin\":{\"r\":0,\"t\":0,\"b\":0,\"l\":0},\"scene\":{\"xaxis\":{\"title\":{\"text\":\"Pregnancies\"}},\"yaxis\":{\"title\":{\"text\":\"Glucose\"}},\"zaxis\":{\"title\":{\"text\":\"BloodPressure\"}}},\"width\":1000,\"height\":500},                        {\"responsive\": true}                    ).then(function(){\n",
              "                            \n",
              "var gd = document.getElementById('84a8ace6-1108-47cb-b29d-8a7582b7751e');\n",
              "var x = new MutationObserver(function (mutations, observer) {{\n",
              "        var display = window.getComputedStyle(gd).display;\n",
              "        if (!display || display === 'none') {{\n",
              "            console.log([gd, 'removed!']);\n",
              "            Plotly.purge(gd);\n",
              "            observer.disconnect();\n",
              "        }}\n",
              "}});\n",
              "\n",
              "// Listen for the removal of the full notebook cells\n",
              "var notebookContainer = gd.closest('#notebook-container');\n",
              "if (notebookContainer) {{\n",
              "    x.observe(notebookContainer, {childList: true});\n",
              "}}\n",
              "\n",
              "// Listen for the clearing of the current output cell\n",
              "var outputEl = gd.closest('.output');\n",
              "if (outputEl) {{\n",
              "    x.observe(outputEl, {childList: true});\n",
              "}}\n",
              "\n",
              "                        })                };                            </script>        </div>\n",
              "</body>\n",
              "</html>"
            ]
          },
          "metadata": {}
        }
      ]
    },
    {
      "cell_type": "markdown",
      "source": [
        "<FONT FACE='times new roman'>\n",
        "<h1><b>Punto D</b></h1>\n",
        "<p align='justify'>\n",
        "<FONT SIZE = 4>\n",
        "Realizar a mano los cálculos para un KNN de 3 vecinos y una validación cruzada de cv=3 evaluar Accuracy en train y Accuracy en validación(No olvide escalar primero los datos en cada cv).(8 puntos)\n",
        "</p>"
      ],
      "metadata": {
        "id": "rxQ25lFqWXAu"
      }
    },
    {
      "cell_type": "markdown",
      "source": [
        "**KNN**"
      ],
      "metadata": {
        "id": "pVP5FdPPiDh5"
      }
    },
    {
      "cell_type": "code",
      "source": [
        "kdf = df[['Pregnancies', 'Glucose','BloodPressure','Outcome']]\n",
        "kdf.head()"
      ],
      "metadata": {
        "colab": {
          "base_uri": "https://localhost:8080/",
          "height": 206
        },
        "id": "IF85kf3biArf",
        "outputId": "e8cc7319-e7bd-4fff-cde3-256bfb382610"
      },
      "execution_count": null,
      "outputs": [
        {
          "output_type": "execute_result",
          "data": {
            "text/plain": [
              "   Pregnancies  Glucose  BloodPressure  Outcome\n",
              "0            6      148             72        1\n",
              "1            1       85             66        0\n",
              "2            8      183             64        1\n",
              "3            1       89             66        0\n",
              "4            0      137             40        1"
            ],
            "text/html": [
              "\n",
              "  <div id=\"df-9ece26be-9f35-4d14-8964-e97cd84257f5\">\n",
              "    <div class=\"colab-df-container\">\n",
              "      <div>\n",
              "<style scoped>\n",
              "    .dataframe tbody tr th:only-of-type {\n",
              "        vertical-align: middle;\n",
              "    }\n",
              "\n",
              "    .dataframe tbody tr th {\n",
              "        vertical-align: top;\n",
              "    }\n",
              "\n",
              "    .dataframe thead th {\n",
              "        text-align: right;\n",
              "    }\n",
              "</style>\n",
              "<table border=\"1\" class=\"dataframe\">\n",
              "  <thead>\n",
              "    <tr style=\"text-align: right;\">\n",
              "      <th></th>\n",
              "      <th>Pregnancies</th>\n",
              "      <th>Glucose</th>\n",
              "      <th>BloodPressure</th>\n",
              "      <th>Outcome</th>\n",
              "    </tr>\n",
              "  </thead>\n",
              "  <tbody>\n",
              "    <tr>\n",
              "      <th>0</th>\n",
              "      <td>6</td>\n",
              "      <td>148</td>\n",
              "      <td>72</td>\n",
              "      <td>1</td>\n",
              "    </tr>\n",
              "    <tr>\n",
              "      <th>1</th>\n",
              "      <td>1</td>\n",
              "      <td>85</td>\n",
              "      <td>66</td>\n",
              "      <td>0</td>\n",
              "    </tr>\n",
              "    <tr>\n",
              "      <th>2</th>\n",
              "      <td>8</td>\n",
              "      <td>183</td>\n",
              "      <td>64</td>\n",
              "      <td>1</td>\n",
              "    </tr>\n",
              "    <tr>\n",
              "      <th>3</th>\n",
              "      <td>1</td>\n",
              "      <td>89</td>\n",
              "      <td>66</td>\n",
              "      <td>0</td>\n",
              "    </tr>\n",
              "    <tr>\n",
              "      <th>4</th>\n",
              "      <td>0</td>\n",
              "      <td>137</td>\n",
              "      <td>40</td>\n",
              "      <td>1</td>\n",
              "    </tr>\n",
              "  </tbody>\n",
              "</table>\n",
              "</div>\n",
              "      <button class=\"colab-df-convert\" onclick=\"convertToInteractive('df-9ece26be-9f35-4d14-8964-e97cd84257f5')\"\n",
              "              title=\"Convert this dataframe to an interactive table.\"\n",
              "              style=\"display:none;\">\n",
              "        \n",
              "  <svg xmlns=\"http://www.w3.org/2000/svg\" height=\"24px\"viewBox=\"0 0 24 24\"\n",
              "       width=\"24px\">\n",
              "    <path d=\"M0 0h24v24H0V0z\" fill=\"none\"/>\n",
              "    <path d=\"M18.56 5.44l.94 2.06.94-2.06 2.06-.94-2.06-.94-.94-2.06-.94 2.06-2.06.94zm-11 1L8.5 8.5l.94-2.06 2.06-.94-2.06-.94L8.5 2.5l-.94 2.06-2.06.94zm10 10l.94 2.06.94-2.06 2.06-.94-2.06-.94-.94-2.06-.94 2.06-2.06.94z\"/><path d=\"M17.41 7.96l-1.37-1.37c-.4-.4-.92-.59-1.43-.59-.52 0-1.04.2-1.43.59L10.3 9.45l-7.72 7.72c-.78.78-.78 2.05 0 2.83L4 21.41c.39.39.9.59 1.41.59.51 0 1.02-.2 1.41-.59l7.78-7.78 2.81-2.81c.8-.78.8-2.07 0-2.86zM5.41 20L4 18.59l7.72-7.72 1.47 1.35L5.41 20z\"/>\n",
              "  </svg>\n",
              "      </button>\n",
              "      \n",
              "  <style>\n",
              "    .colab-df-container {\n",
              "      display:flex;\n",
              "      flex-wrap:wrap;\n",
              "      gap: 12px;\n",
              "    }\n",
              "\n",
              "    .colab-df-convert {\n",
              "      background-color: #E8F0FE;\n",
              "      border: none;\n",
              "      border-radius: 50%;\n",
              "      cursor: pointer;\n",
              "      display: none;\n",
              "      fill: #1967D2;\n",
              "      height: 32px;\n",
              "      padding: 0 0 0 0;\n",
              "      width: 32px;\n",
              "    }\n",
              "\n",
              "    .colab-df-convert:hover {\n",
              "      background-color: #E2EBFA;\n",
              "      box-shadow: 0px 1px 2px rgba(60, 64, 67, 0.3), 0px 1px 3px 1px rgba(60, 64, 67, 0.15);\n",
              "      fill: #174EA6;\n",
              "    }\n",
              "\n",
              "    [theme=dark] .colab-df-convert {\n",
              "      background-color: #3B4455;\n",
              "      fill: #D2E3FC;\n",
              "    }\n",
              "\n",
              "    [theme=dark] .colab-df-convert:hover {\n",
              "      background-color: #434B5C;\n",
              "      box-shadow: 0px 1px 3px 1px rgba(0, 0, 0, 0.15);\n",
              "      filter: drop-shadow(0px 1px 2px rgba(0, 0, 0, 0.3));\n",
              "      fill: #FFFFFF;\n",
              "    }\n",
              "  </style>\n",
              "\n",
              "      <script>\n",
              "        const buttonEl =\n",
              "          document.querySelector('#df-9ece26be-9f35-4d14-8964-e97cd84257f5 button.colab-df-convert');\n",
              "        buttonEl.style.display =\n",
              "          google.colab.kernel.accessAllowed ? 'block' : 'none';\n",
              "\n",
              "        async function convertToInteractive(key) {\n",
              "          const element = document.querySelector('#df-9ece26be-9f35-4d14-8964-e97cd84257f5');\n",
              "          const dataTable =\n",
              "            await google.colab.kernel.invokeFunction('convertToInteractive',\n",
              "                                                     [key], {});\n",
              "          if (!dataTable) return;\n",
              "\n",
              "          const docLinkHtml = 'Like what you see? Visit the ' +\n",
              "            '<a target=\"_blank\" href=https://colab.research.google.com/notebooks/data_table.ipynb>data table notebook</a>'\n",
              "            + ' to learn more about interactive tables.';\n",
              "          element.innerHTML = '';\n",
              "          dataTable['output_type'] = 'display_data';\n",
              "          await google.colab.output.renderOutput(dataTable, element);\n",
              "          const docLink = document.createElement('div');\n",
              "          docLink.innerHTML = docLinkHtml;\n",
              "          element.appendChild(docLink);\n",
              "        }\n",
              "      </script>\n",
              "    </div>\n",
              "  </div>\n",
              "  "
            ]
          },
          "metadata": {},
          "execution_count": 61
        }
      ]
    },
    {
      "cell_type": "markdown",
      "source": [
        "**Estandarización:**"
      ],
      "metadata": {
        "id": "_ZmI95KuiK6O"
      }
    },
    {
      "cell_type": "code",
      "source": [
        "#Se define una función para minimos y maximos\n",
        "def estandarizacion(i, min, max):\n",
        "  return (i-min)/(max- min)"
      ],
      "metadata": {
        "id": "zFSEwA1xiRPK"
      },
      "execution_count": null,
      "outputs": []
    },
    {
      "cell_type": "code",
      "source": [
        "#Se recorren los datos\n",
        "def escalado():\n",
        "  matriz=[[]]*3\n",
        "  for j in range(3):\n",
        "    distancias = []\n",
        "    for i in kdf.values:\n",
        "      distancias.append(estandarizacion(i[j], kdf.iloc[:,j].min(), kdf.iloc[:,j].max()))\n",
        "      matriz[j] = distancias\n",
        "  return matriz"
      ],
      "metadata": {
        "id": "3js5VD2XiSsB"
      },
      "execution_count": null,
      "outputs": []
    },
    {
      "cell_type": "markdown",
      "source": [
        "Se muestran el escalado almacenado en un dataframe"
      ],
      "metadata": {
        "id": "4ikVBCxtiVBq"
      }
    },
    {
      "cell_type": "code",
      "source": [
        "titles = ['Pregnancies', 'Glucose','BloodPressure']\n",
        "dfDistances = pd.DataFrame(escalado(), index=titles).transpose()\n",
        "dfDistances.head()"
      ],
      "metadata": {
        "colab": {
          "base_uri": "https://localhost:8080/",
          "height": 206
        },
        "id": "QOk6pRzSiViP",
        "outputId": "c9a067fe-2738-4bcf-8ff2-66165b396554"
      },
      "execution_count": null,
      "outputs": [
        {
          "output_type": "execute_result",
          "data": {
            "text/plain": [
              "   Pregnancies   Glucose  BloodPressure\n",
              "0     0.461538  0.588235       0.750000\n",
              "1     0.076923  0.058824       0.687500\n",
              "2     0.615385  0.882353       0.666667\n",
              "3     0.076923  0.092437       0.687500\n",
              "4     0.000000  0.495798       0.416667"
            ],
            "text/html": [
              "\n",
              "  <div id=\"df-812a980b-00aa-430e-9a26-c64fd360e75d\">\n",
              "    <div class=\"colab-df-container\">\n",
              "      <div>\n",
              "<style scoped>\n",
              "    .dataframe tbody tr th:only-of-type {\n",
              "        vertical-align: middle;\n",
              "    }\n",
              "\n",
              "    .dataframe tbody tr th {\n",
              "        vertical-align: top;\n",
              "    }\n",
              "\n",
              "    .dataframe thead th {\n",
              "        text-align: right;\n",
              "    }\n",
              "</style>\n",
              "<table border=\"1\" class=\"dataframe\">\n",
              "  <thead>\n",
              "    <tr style=\"text-align: right;\">\n",
              "      <th></th>\n",
              "      <th>Pregnancies</th>\n",
              "      <th>Glucose</th>\n",
              "      <th>BloodPressure</th>\n",
              "    </tr>\n",
              "  </thead>\n",
              "  <tbody>\n",
              "    <tr>\n",
              "      <th>0</th>\n",
              "      <td>0.461538</td>\n",
              "      <td>0.588235</td>\n",
              "      <td>0.750000</td>\n",
              "    </tr>\n",
              "    <tr>\n",
              "      <th>1</th>\n",
              "      <td>0.076923</td>\n",
              "      <td>0.058824</td>\n",
              "      <td>0.687500</td>\n",
              "    </tr>\n",
              "    <tr>\n",
              "      <th>2</th>\n",
              "      <td>0.615385</td>\n",
              "      <td>0.882353</td>\n",
              "      <td>0.666667</td>\n",
              "    </tr>\n",
              "    <tr>\n",
              "      <th>3</th>\n",
              "      <td>0.076923</td>\n",
              "      <td>0.092437</td>\n",
              "      <td>0.687500</td>\n",
              "    </tr>\n",
              "    <tr>\n",
              "      <th>4</th>\n",
              "      <td>0.000000</td>\n",
              "      <td>0.495798</td>\n",
              "      <td>0.416667</td>\n",
              "    </tr>\n",
              "  </tbody>\n",
              "</table>\n",
              "</div>\n",
              "      <button class=\"colab-df-convert\" onclick=\"convertToInteractive('df-812a980b-00aa-430e-9a26-c64fd360e75d')\"\n",
              "              title=\"Convert this dataframe to an interactive table.\"\n",
              "              style=\"display:none;\">\n",
              "        \n",
              "  <svg xmlns=\"http://www.w3.org/2000/svg\" height=\"24px\"viewBox=\"0 0 24 24\"\n",
              "       width=\"24px\">\n",
              "    <path d=\"M0 0h24v24H0V0z\" fill=\"none\"/>\n",
              "    <path d=\"M18.56 5.44l.94 2.06.94-2.06 2.06-.94-2.06-.94-.94-2.06-.94 2.06-2.06.94zm-11 1L8.5 8.5l.94-2.06 2.06-.94-2.06-.94L8.5 2.5l-.94 2.06-2.06.94zm10 10l.94 2.06.94-2.06 2.06-.94-2.06-.94-.94-2.06-.94 2.06-2.06.94z\"/><path d=\"M17.41 7.96l-1.37-1.37c-.4-.4-.92-.59-1.43-.59-.52 0-1.04.2-1.43.59L10.3 9.45l-7.72 7.72c-.78.78-.78 2.05 0 2.83L4 21.41c.39.39.9.59 1.41.59.51 0 1.02-.2 1.41-.59l7.78-7.78 2.81-2.81c.8-.78.8-2.07 0-2.86zM5.41 20L4 18.59l7.72-7.72 1.47 1.35L5.41 20z\"/>\n",
              "  </svg>\n",
              "      </button>\n",
              "      \n",
              "  <style>\n",
              "    .colab-df-container {\n",
              "      display:flex;\n",
              "      flex-wrap:wrap;\n",
              "      gap: 12px;\n",
              "    }\n",
              "\n",
              "    .colab-df-convert {\n",
              "      background-color: #E8F0FE;\n",
              "      border: none;\n",
              "      border-radius: 50%;\n",
              "      cursor: pointer;\n",
              "      display: none;\n",
              "      fill: #1967D2;\n",
              "      height: 32px;\n",
              "      padding: 0 0 0 0;\n",
              "      width: 32px;\n",
              "    }\n",
              "\n",
              "    .colab-df-convert:hover {\n",
              "      background-color: #E2EBFA;\n",
              "      box-shadow: 0px 1px 2px rgba(60, 64, 67, 0.3), 0px 1px 3px 1px rgba(60, 64, 67, 0.15);\n",
              "      fill: #174EA6;\n",
              "    }\n",
              "\n",
              "    [theme=dark] .colab-df-convert {\n",
              "      background-color: #3B4455;\n",
              "      fill: #D2E3FC;\n",
              "    }\n",
              "\n",
              "    [theme=dark] .colab-df-convert:hover {\n",
              "      background-color: #434B5C;\n",
              "      box-shadow: 0px 1px 3px 1px rgba(0, 0, 0, 0.15);\n",
              "      filter: drop-shadow(0px 1px 2px rgba(0, 0, 0, 0.3));\n",
              "      fill: #FFFFFF;\n",
              "    }\n",
              "  </style>\n",
              "\n",
              "      <script>\n",
              "        const buttonEl =\n",
              "          document.querySelector('#df-812a980b-00aa-430e-9a26-c64fd360e75d button.colab-df-convert');\n",
              "        buttonEl.style.display =\n",
              "          google.colab.kernel.accessAllowed ? 'block' : 'none';\n",
              "\n",
              "        async function convertToInteractive(key) {\n",
              "          const element = document.querySelector('#df-812a980b-00aa-430e-9a26-c64fd360e75d');\n",
              "          const dataTable =\n",
              "            await google.colab.kernel.invokeFunction('convertToInteractive',\n",
              "                                                     [key], {});\n",
              "          if (!dataTable) return;\n",
              "\n",
              "          const docLinkHtml = 'Like what you see? Visit the ' +\n",
              "            '<a target=\"_blank\" href=https://colab.research.google.com/notebooks/data_table.ipynb>data table notebook</a>'\n",
              "            + ' to learn more about interactive tables.';\n",
              "          element.innerHTML = '';\n",
              "          dataTable['output_type'] = 'display_data';\n",
              "          await google.colab.output.renderOutput(dataTable, element);\n",
              "          const docLink = document.createElement('div');\n",
              "          docLink.innerHTML = docLinkHtml;\n",
              "          element.appendChild(docLink);\n",
              "        }\n",
              "      </script>\n",
              "    </div>\n",
              "  </div>\n",
              "  "
            ]
          },
          "metadata": {},
          "execution_count": 64
        }
      ]
    },
    {
      "cell_type": "markdown",
      "source": [
        "Se corrobora el escalado con la biblioteca de sklearn"
      ],
      "metadata": {
        "id": "aH_TVwJuiZhH"
      }
    },
    {
      "cell_type": "code",
      "source": [
        "scaler = MinMaxScaler()\n",
        "scaler.fit(df[['Pregnancies', 'Glucose','BloodPressure']])"
      ],
      "metadata": {
        "colab": {
          "base_uri": "https://localhost:8080/",
          "height": 75
        },
        "id": "dupCnEH_iZ0B",
        "outputId": "e9a25cfb-f913-4ba0-e7fe-aa97d63c0d65"
      },
      "execution_count": null,
      "outputs": [
        {
          "output_type": "execute_result",
          "data": {
            "text/plain": [
              "MinMaxScaler()"
            ],
            "text/html": [
              "<style>#sk-container-id-1 {color: black;background-color: white;}#sk-container-id-1 pre{padding: 0;}#sk-container-id-1 div.sk-toggleable {background-color: white;}#sk-container-id-1 label.sk-toggleable__label {cursor: pointer;display: block;width: 100%;margin-bottom: 0;padding: 0.3em;box-sizing: border-box;text-align: center;}#sk-container-id-1 label.sk-toggleable__label-arrow:before {content: \"▸\";float: left;margin-right: 0.25em;color: #696969;}#sk-container-id-1 label.sk-toggleable__label-arrow:hover:before {color: black;}#sk-container-id-1 div.sk-estimator:hover label.sk-toggleable__label-arrow:before {color: black;}#sk-container-id-1 div.sk-toggleable__content {max-height: 0;max-width: 0;overflow: hidden;text-align: left;background-color: #f0f8ff;}#sk-container-id-1 div.sk-toggleable__content pre {margin: 0.2em;color: black;border-radius: 0.25em;background-color: #f0f8ff;}#sk-container-id-1 input.sk-toggleable__control:checked~div.sk-toggleable__content {max-height: 200px;max-width: 100%;overflow: auto;}#sk-container-id-1 input.sk-toggleable__control:checked~label.sk-toggleable__label-arrow:before {content: \"▾\";}#sk-container-id-1 div.sk-estimator input.sk-toggleable__control:checked~label.sk-toggleable__label {background-color: #d4ebff;}#sk-container-id-1 div.sk-label input.sk-toggleable__control:checked~label.sk-toggleable__label {background-color: #d4ebff;}#sk-container-id-1 input.sk-hidden--visually {border: 0;clip: rect(1px 1px 1px 1px);clip: rect(1px, 1px, 1px, 1px);height: 1px;margin: -1px;overflow: hidden;padding: 0;position: absolute;width: 1px;}#sk-container-id-1 div.sk-estimator {font-family: monospace;background-color: #f0f8ff;border: 1px dotted black;border-radius: 0.25em;box-sizing: border-box;margin-bottom: 0.5em;}#sk-container-id-1 div.sk-estimator:hover {background-color: #d4ebff;}#sk-container-id-1 div.sk-parallel-item::after {content: \"\";width: 100%;border-bottom: 1px solid gray;flex-grow: 1;}#sk-container-id-1 div.sk-label:hover label.sk-toggleable__label {background-color: #d4ebff;}#sk-container-id-1 div.sk-serial::before {content: \"\";position: absolute;border-left: 1px solid gray;box-sizing: border-box;top: 0;bottom: 0;left: 50%;z-index: 0;}#sk-container-id-1 div.sk-serial {display: flex;flex-direction: column;align-items: center;background-color: white;padding-right: 0.2em;padding-left: 0.2em;position: relative;}#sk-container-id-1 div.sk-item {position: relative;z-index: 1;}#sk-container-id-1 div.sk-parallel {display: flex;align-items: stretch;justify-content: center;background-color: white;position: relative;}#sk-container-id-1 div.sk-item::before, #sk-container-id-1 div.sk-parallel-item::before {content: \"\";position: absolute;border-left: 1px solid gray;box-sizing: border-box;top: 0;bottom: 0;left: 50%;z-index: -1;}#sk-container-id-1 div.sk-parallel-item {display: flex;flex-direction: column;z-index: 1;position: relative;background-color: white;}#sk-container-id-1 div.sk-parallel-item:first-child::after {align-self: flex-end;width: 50%;}#sk-container-id-1 div.sk-parallel-item:last-child::after {align-self: flex-start;width: 50%;}#sk-container-id-1 div.sk-parallel-item:only-child::after {width: 0;}#sk-container-id-1 div.sk-dashed-wrapped {border: 1px dashed gray;margin: 0 0.4em 0.5em 0.4em;box-sizing: border-box;padding-bottom: 0.4em;background-color: white;}#sk-container-id-1 div.sk-label label {font-family: monospace;font-weight: bold;display: inline-block;line-height: 1.2em;}#sk-container-id-1 div.sk-label-container {text-align: center;}#sk-container-id-1 div.sk-container {/* jupyter's `normalize.less` sets `[hidden] { display: none; }` but bootstrap.min.css set `[hidden] { display: none !important; }` so we also need the `!important` here to be able to override the default hidden behavior on the sphinx rendered scikit-learn.org. See: https://github.com/scikit-learn/scikit-learn/issues/21755 */display: inline-block !important;position: relative;}#sk-container-id-1 div.sk-text-repr-fallback {display: none;}</style><div id=\"sk-container-id-1\" class=\"sk-top-container\"><div class=\"sk-text-repr-fallback\"><pre>MinMaxScaler()</pre><b>In a Jupyter environment, please rerun this cell to show the HTML representation or trust the notebook. <br />On GitHub, the HTML representation is unable to render, please try loading this page with nbviewer.org.</b></div><div class=\"sk-container\" hidden><div class=\"sk-item\"><div class=\"sk-estimator sk-toggleable\"><input class=\"sk-toggleable__control sk-hidden--visually\" id=\"sk-estimator-id-1\" type=\"checkbox\" checked><label for=\"sk-estimator-id-1\" class=\"sk-toggleable__label sk-toggleable__label-arrow\">MinMaxScaler</label><div class=\"sk-toggleable__content\"><pre>MinMaxScaler()</pre></div></div></div></div></div>"
            ]
          },
          "metadata": {},
          "execution_count": 65
        }
      ]
    },
    {
      "cell_type": "code",
      "source": [
        "df_scaled = scaler.transform(df[['Pregnancies', 'Glucose','BloodPressure']])\n",
        "df_scaled"
      ],
      "metadata": {
        "colab": {
          "base_uri": "https://localhost:8080/"
        },
        "id": "dPfhtfCXicld",
        "outputId": "a2eb3fbf-92e6-48a2-a60e-9f134ea1f4b4"
      },
      "execution_count": null,
      "outputs": [
        {
          "output_type": "execute_result",
          "data": {
            "text/plain": [
              "array([[0.46153846, 0.58823529, 0.75      ],\n",
              "       [0.07692308, 0.05882353, 0.6875    ],\n",
              "       [0.61538462, 0.88235294, 0.66666667],\n",
              "       [0.07692308, 0.09243697, 0.6875    ],\n",
              "       [0.        , 0.49579832, 0.41666667],\n",
              "       [0.38461538, 0.31932773, 0.77083333],\n",
              "       [0.23076923, 0.        , 0.52083333],\n",
              "       [0.76923077, 0.31092437, 0.        ],\n",
              "       [0.15384615, 1.        , 0.72916667],\n",
              "       [0.61538462, 0.39495798, 1.        ],\n",
              "       [0.30769231, 0.26890756, 0.95833333],\n",
              "       [0.76923077, 0.75630252, 0.77083333],\n",
              "       [0.76923077, 0.51260504, 0.83333333],\n",
              "       [0.07692308, 0.93277311, 0.625     ],\n",
              "       [0.38461538, 0.7394958 , 0.75      ],\n",
              "       [0.53846154, 0.18487395, 0.        ],\n",
              "       [0.        , 0.33613445, 0.875     ],\n",
              "       [0.53846154, 0.24369748, 0.77083333],\n",
              "       [0.07692308, 0.21008403, 0.3125    ],\n",
              "       [0.07692308, 0.31092437, 0.72916667],\n",
              "       [0.23076923, 0.40336134, 0.91666667],\n",
              "       [0.61538462, 0.17647059, 0.875     ],\n",
              "       [0.53846154, 0.99159664, 0.9375    ],\n",
              "       [0.69230769, 0.34453782, 0.83333333],\n",
              "       [0.84615385, 0.54621849, 0.97916667],\n",
              "       [0.76923077, 0.39495798, 0.72916667],\n",
              "       [0.53846154, 0.57983193, 0.79166667],\n",
              "       [0.07692308, 0.15966387, 0.6875    ],\n",
              "       [1.        , 0.56302521, 0.85416667],\n",
              "       [0.38461538, 0.32773109, 0.95833333]])"
            ]
          },
          "metadata": {},
          "execution_count": 66
        }
      ]
    },
    {
      "cell_type": "markdown",
      "source": [
        "**Calculo para las distancias:**\n",
        "<p align = 'justify'>\n",
        "Una forma para calcular el vecino mas cercano es a través de la distancia euclidiana. La formula es la siguiente:\n",
        "</p>\n",
        "\n",
        "<img src=\"https://silvercorp.files.wordpress.com/2016/09/distancia-euclidiana.png?w=604\"></img>"
      ],
      "metadata": {
        "id": "ve9yArF-ihhG"
      }
    },
    {
      "cell_type": "code",
      "source": [
        "'''\n",
        "Se crea un diccionario para guardar el indice del vecino como llave y como valor se guarda la\n",
        "distancia. De tal manera que en la lista llamada distancias, se guardará un diccionario por cada\n",
        "posición y el diccionario almacena las n distancias. De tal forma que la cada una de las posiciones\n",
        "de la lista correponde al indice o el dato al que se le quieren obtener los vecinos.\n",
        "'''\n",
        "def obtenerDistancias(train, test):\n",
        "  distancias = []\n",
        "  for j in test.values:\n",
        "    alldist = {}\n",
        "    for k, i in enumerate(train.values):\n",
        "      distance = math.sqrt((j[0]-i[0])**2 +(j[1]-i[1])**2+(j[2]-i[2])**2) #Formula Euclidiana\n",
        "      alldist[k] = distance\n",
        "    alldist = sorted(alldist.items(), key=lambda x: x[1]) #Se ordenan los datos\n",
        "    distancias.append([alldist[0][0],alldist[1][0],alldist[2][0]])  #Se guardan los tres vecinos mas cercanos\n",
        "  return distancias"
      ],
      "metadata": {
        "id": "p10-9bbWiqwi"
      },
      "execution_count": null,
      "outputs": []
    },
    {
      "cell_type": "code",
      "source": [
        "'''\n",
        "Se calcula la probabilidad para ser de la clase positiva o negativa, de tal manera que\n",
        "el indice k corresponde al indice del dato que se esta estudiando y se determina en el\n",
        "conjunto de datos de entrenamiento los que son 1 o 0, se suman y se divide en 3 al ser\n",
        "la cantidad de vecinos.\n",
        "'''\n",
        "def obtenerProbabilidad(train, vecinos):\n",
        "  probabilidades = {}\n",
        "  for k, i in enumerate(vecinos):\n",
        "    claseP=sum([train.values[i[0]][3]==1, train.values[i[1]][3]==1, train.values[i[2]][3]==1])/3\n",
        "    claseN=sum([train.values[i[0]][3]==0, train.values[i[1]][3]==0, train.values[i[2]][3]==0])/3\n",
        "    probabilidades[k] = [claseN, claseP]\n",
        "  return probabilidades"
      ],
      "metadata": {
        "id": "eT8PpgeYisjB"
      },
      "execution_count": null,
      "outputs": []
    },
    {
      "cell_type": "code",
      "source": [
        "'''\n",
        "Como el nombre lo indica, calcula el accuracy en test y train teniendo en cuenta la\n",
        "formula de (datos correctos / total datos)\n",
        "'''\n",
        "def obtenerAccuracy (train, test):\n",
        "  #Accuracy en test\n",
        "  p = obtenerProbabilidad(train, obtenerDistancias(train, test))\n",
        "  result = [int(prob[1] > 0.5) for prob in p.values()]\n",
        "  correctos = 0\n",
        "  for i in range(len(test.values)):\n",
        "    if(result[i]==test.values[:,3][i]):\n",
        "      correctos += 1\n",
        "  total = len(test.values[:,3])\n",
        "  return correctos/total"
      ],
      "metadata": {
        "id": "sIDoG_1JiuEf"
      },
      "execution_count": null,
      "outputs": []
    },
    {
      "cell_type": "markdown",
      "source": [
        "<p align = 'justify'><FONT SIZE=5><strong>Experimentacion CV = 3</strong></p>"
      ],
      "metadata": {
        "id": "vS6p1inBi1WK"
      }
    },
    {
      "cell_type": "markdown",
      "source": [
        "<li><strong>G1:</strong>Primero 10 datos del dataframe</li>\n",
        "<li><strong>G2:</strong>Los 10 datos del centro del dataframe</li>\n",
        "<li><strong>G3:</strong>Los ultimos 10 datos del dataframe</li>\n",
        "</ul>\n",
        "<p align = 'justify'>Para nuestra primera iteración se tomará como:</p>\n",
        "<p><strong>train: </strong>G1 + G2</p>\n",
        "<p><strong>test: </strong>G3</p>"
      ],
      "metadata": {
        "id": "lIkXdJUwi4A5"
      }
    },
    {
      "cell_type": "code",
      "source": [
        "#Se dividen los datos en train y test\n",
        "X_train = kdf[:20]\n",
        "y_train =  kdf.iloc[:20,3]\n",
        "\n",
        "X_test = kdf[20:]\n",
        "y_test = kdf.iloc[20:,3]"
      ],
      "metadata": {
        "id": "C8LvEwsii62Q"
      },
      "execution_count": null,
      "outputs": []
    },
    {
      "cell_type": "markdown",
      "source": [
        "Los siguientes indices, como se indica, corresponde al indice en donde se encuentra el vecino más cercano en el conjunto de datos de entrenamiento. Si se quiere obtener el valor para las distancias habria que examinar los datos en el diccionario que se encuentra en la función obtenerDistancias, ya explicado anteriormente."
      ],
      "metadata": {
        "id": "F4B0iQb0i-Rn"
      }
    },
    {
      "cell_type": "code",
      "source": [
        "indices = obtenerDistancias(X_train, X_test)\n",
        "indices"
      ],
      "metadata": {
        "colab": {
          "base_uri": "https://localhost:8080/"
        },
        "id": "gm7Uij4ejHOY",
        "outputId": "822abbd5-0505-4369-f980-3777993c1b3e"
      },
      "execution_count": null,
      "outputs": [
        {
          "output_type": "execute_result",
          "data": {
            "text/plain": [
              "[[16, 9, 10],\n",
              " [17, 10, 5],\n",
              " [8, 2, 13],\n",
              " [5, 16, 19],\n",
              " [12, 9, 0],\n",
              " [5, 19, 12],\n",
              " [0, 12, 14],\n",
              " [3, 1, 17],\n",
              " [12, 0, 11],\n",
              " [10, 9, 16]]"
            ]
          },
          "metadata": {},
          "execution_count": 71
        }
      ]
    },
    {
      "cell_type": "markdown",
      "source": [
        "<p align = 'justify'>Paso seguido, se obtienen las probabilidades de que un dato del conjunto de datos de prueba pertenezca a la clase positiva o negativa dependiendo con la categoria que tengan los 3 vecinos más cercanos en el conjunto de dato de entrenamiento. Es por esto, que se le envian los tres parametros a la función. <strong>El parametro llamado indices</strong>, recibe los indices con las distancias más cercanas, de tal manera que al obtener esos indices, se buscan esos datos en el conjunto de entrenamieto. y la posición de esta probabilidad corresponde al indice del conjunto de datos en test.</p>"
      ],
      "metadata": {
        "id": "z1FPy2fwjPQ0"
      }
    },
    {
      "cell_type": "code",
      "source": [
        "p = obtenerProbabilidad(X_train, indices)\n",
        "p\n",
        "#  P. Clase Negativa      P. Clase Positiva"
      ],
      "metadata": {
        "colab": {
          "base_uri": "https://localhost:8080/"
        },
        "id": "nqEvE0q-jZPp",
        "outputId": "7ba93c5d-7ddc-42d9-9632-a1da6fd06694"
      },
      "execution_count": null,
      "outputs": [
        {
          "output_type": "execute_result",
          "data": {
            "text/plain": [
              "{0: [0.3333333333333333, 0.6666666666666666],\n",
              " 1: [0.6666666666666666, 0.3333333333333333],\n",
              " 2: [0.0, 1.0],\n",
              " 3: [0.3333333333333333, 0.6666666666666666],\n",
              " 4: [0.3333333333333333, 0.6666666666666666],\n",
              " 5: [0.6666666666666666, 0.3333333333333333],\n",
              " 6: [0.3333333333333333, 0.6666666666666666],\n",
              " 7: [0.6666666666666666, 0.3333333333333333],\n",
              " 8: [0.3333333333333333, 0.6666666666666666],\n",
              " 9: [0.3333333333333333, 0.6666666666666666]}"
            ]
          },
          "metadata": {},
          "execution_count": 72
        }
      ]
    },
    {
      "cell_type": "markdown",
      "source": [
        "<p align = 'justify'><FONT SIZE=5><strong>Obteniendo el accuracy a mano</strong></p>"
      ],
      "metadata": {
        "id": "cSQ3EqnUja9G"
      }
    },
    {
      "cell_type": "code",
      "source": [
        "print(f\"Accuracy para train: {obtenerAccuracy(X_train, X_train)}\")\n",
        "print(f\"Accuracy para test: {obtenerAccuracy(X_train, X_test)}\")"
      ],
      "metadata": {
        "colab": {
          "base_uri": "https://localhost:8080/"
        },
        "id": "lZJPbatCjcy8",
        "outputId": "ec5f778a-e194-4326-b6a4-7b306fd5cf84"
      },
      "execution_count": null,
      "outputs": [
        {
          "output_type": "stream",
          "name": "stdout",
          "text": [
            "Accuracy para train: 0.65\n",
            "Accuracy para test: 0.6\n"
          ]
        }
      ]
    },
    {
      "cell_type": "markdown",
      "source": [
        "Ahora se validan los datos entrenando el modelo por sklearn. Este proceso no considero que sea necesario explicarlo."
      ],
      "metadata": {
        "id": "nANc35AXjeaZ"
      }
    },
    {
      "cell_type": "code",
      "source": [
        "modelo = KNeighborsClassifier(n_neighbors=3)\n",
        "modelo.fit(X_train[['Pregnancies', 'Glucose','BloodPressure']].values,y_train.values)"
      ],
      "metadata": {
        "colab": {
          "base_uri": "https://localhost:8080/",
          "height": 75
        },
        "id": "iAw5oowoje08",
        "outputId": "d138cd69-7384-4cd6-d387-d58a21350a13"
      },
      "execution_count": null,
      "outputs": [
        {
          "output_type": "execute_result",
          "data": {
            "text/plain": [
              "KNeighborsClassifier(n_neighbors=3)"
            ],
            "text/html": [
              "<style>#sk-container-id-2 {color: black;background-color: white;}#sk-container-id-2 pre{padding: 0;}#sk-container-id-2 div.sk-toggleable {background-color: white;}#sk-container-id-2 label.sk-toggleable__label {cursor: pointer;display: block;width: 100%;margin-bottom: 0;padding: 0.3em;box-sizing: border-box;text-align: center;}#sk-container-id-2 label.sk-toggleable__label-arrow:before {content: \"▸\";float: left;margin-right: 0.25em;color: #696969;}#sk-container-id-2 label.sk-toggleable__label-arrow:hover:before {color: black;}#sk-container-id-2 div.sk-estimator:hover label.sk-toggleable__label-arrow:before {color: black;}#sk-container-id-2 div.sk-toggleable__content {max-height: 0;max-width: 0;overflow: hidden;text-align: left;background-color: #f0f8ff;}#sk-container-id-2 div.sk-toggleable__content pre {margin: 0.2em;color: black;border-radius: 0.25em;background-color: #f0f8ff;}#sk-container-id-2 input.sk-toggleable__control:checked~div.sk-toggleable__content {max-height: 200px;max-width: 100%;overflow: auto;}#sk-container-id-2 input.sk-toggleable__control:checked~label.sk-toggleable__label-arrow:before {content: \"▾\";}#sk-container-id-2 div.sk-estimator input.sk-toggleable__control:checked~label.sk-toggleable__label {background-color: #d4ebff;}#sk-container-id-2 div.sk-label input.sk-toggleable__control:checked~label.sk-toggleable__label {background-color: #d4ebff;}#sk-container-id-2 input.sk-hidden--visually {border: 0;clip: rect(1px 1px 1px 1px);clip: rect(1px, 1px, 1px, 1px);height: 1px;margin: -1px;overflow: hidden;padding: 0;position: absolute;width: 1px;}#sk-container-id-2 div.sk-estimator {font-family: monospace;background-color: #f0f8ff;border: 1px dotted black;border-radius: 0.25em;box-sizing: border-box;margin-bottom: 0.5em;}#sk-container-id-2 div.sk-estimator:hover {background-color: #d4ebff;}#sk-container-id-2 div.sk-parallel-item::after {content: \"\";width: 100%;border-bottom: 1px solid gray;flex-grow: 1;}#sk-container-id-2 div.sk-label:hover label.sk-toggleable__label {background-color: #d4ebff;}#sk-container-id-2 div.sk-serial::before {content: \"\";position: absolute;border-left: 1px solid gray;box-sizing: border-box;top: 0;bottom: 0;left: 50%;z-index: 0;}#sk-container-id-2 div.sk-serial {display: flex;flex-direction: column;align-items: center;background-color: white;padding-right: 0.2em;padding-left: 0.2em;position: relative;}#sk-container-id-2 div.sk-item {position: relative;z-index: 1;}#sk-container-id-2 div.sk-parallel {display: flex;align-items: stretch;justify-content: center;background-color: white;position: relative;}#sk-container-id-2 div.sk-item::before, #sk-container-id-2 div.sk-parallel-item::before {content: \"\";position: absolute;border-left: 1px solid gray;box-sizing: border-box;top: 0;bottom: 0;left: 50%;z-index: -1;}#sk-container-id-2 div.sk-parallel-item {display: flex;flex-direction: column;z-index: 1;position: relative;background-color: white;}#sk-container-id-2 div.sk-parallel-item:first-child::after {align-self: flex-end;width: 50%;}#sk-container-id-2 div.sk-parallel-item:last-child::after {align-self: flex-start;width: 50%;}#sk-container-id-2 div.sk-parallel-item:only-child::after {width: 0;}#sk-container-id-2 div.sk-dashed-wrapped {border: 1px dashed gray;margin: 0 0.4em 0.5em 0.4em;box-sizing: border-box;padding-bottom: 0.4em;background-color: white;}#sk-container-id-2 div.sk-label label {font-family: monospace;font-weight: bold;display: inline-block;line-height: 1.2em;}#sk-container-id-2 div.sk-label-container {text-align: center;}#sk-container-id-2 div.sk-container {/* jupyter's `normalize.less` sets `[hidden] { display: none; }` but bootstrap.min.css set `[hidden] { display: none !important; }` so we also need the `!important` here to be able to override the default hidden behavior on the sphinx rendered scikit-learn.org. See: https://github.com/scikit-learn/scikit-learn/issues/21755 */display: inline-block !important;position: relative;}#sk-container-id-2 div.sk-text-repr-fallback {display: none;}</style><div id=\"sk-container-id-2\" class=\"sk-top-container\"><div class=\"sk-text-repr-fallback\"><pre>KNeighborsClassifier(n_neighbors=3)</pre><b>In a Jupyter environment, please rerun this cell to show the HTML representation or trust the notebook. <br />On GitHub, the HTML representation is unable to render, please try loading this page with nbviewer.org.</b></div><div class=\"sk-container\" hidden><div class=\"sk-item\"><div class=\"sk-estimator sk-toggleable\"><input class=\"sk-toggleable__control sk-hidden--visually\" id=\"sk-estimator-id-2\" type=\"checkbox\" checked><label for=\"sk-estimator-id-2\" class=\"sk-toggleable__label sk-toggleable__label-arrow\">KNeighborsClassifier</label><div class=\"sk-toggleable__content\"><pre>KNeighborsClassifier(n_neighbors=3)</pre></div></div></div></div></div>"
            ]
          },
          "metadata": {},
          "execution_count": 74
        }
      ]
    },
    {
      "cell_type": "code",
      "source": [
        "lista = []\n",
        "for i in X_test.values:\n",
        "  print(modelo.predict_proba([i[:3]]))"
      ],
      "metadata": {
        "colab": {
          "base_uri": "https://localhost:8080/"
        },
        "id": "jVPVq-WijhoF",
        "outputId": "7e24c2ec-a32d-4c68-dfdb-8b45de17e888"
      },
      "execution_count": null,
      "outputs": [
        {
          "output_type": "stream",
          "name": "stdout",
          "text": [
            "[[0.33333333 0.66666667]]\n",
            "[[0.66666667 0.33333333]]\n",
            "[[0. 1.]]\n",
            "[[0.33333333 0.66666667]]\n",
            "[[0.33333333 0.66666667]]\n",
            "[[0.66666667 0.33333333]]\n",
            "[[0.33333333 0.66666667]]\n",
            "[[0.66666667 0.33333333]]\n",
            "[[0.33333333 0.66666667]]\n",
            "[[0.33333333 0.66666667]]\n"
          ]
        }
      ]
    },
    {
      "cell_type": "code",
      "source": [
        "y_train_predict = modelo.predict(X_train[['Pregnancies', 'Glucose','BloodPressure']].values)\n",
        "y_test_predict = modelo.predict(X_test[['Pregnancies', 'Glucose','BloodPressure']].values)"
      ],
      "metadata": {
        "id": "GrEyx9_VjjGH"
      },
      "execution_count": null,
      "outputs": []
    },
    {
      "cell_type": "code",
      "source": [
        "accTrain = accuracy_score(y_train, y_train_predict)\n",
        "accTest = accuracy_score(y_test, y_test_predict)"
      ],
      "metadata": {
        "id": "Iv91B-sOjkEt"
      },
      "execution_count": null,
      "outputs": []
    },
    {
      "cell_type": "code",
      "source": [
        "print(\"El accuracy para el conjunto de datos de train es de: \", accTrain)\n",
        "print(\"El accuracy para el conjunto de datos de test es de: \", accTest)"
      ],
      "metadata": {
        "colab": {
          "base_uri": "https://localhost:8080/"
        },
        "id": "WoCduKH6jlO7",
        "outputId": "abf4a691-0674-4681-fb26-fb2274af156c"
      },
      "execution_count": null,
      "outputs": [
        {
          "output_type": "stream",
          "name": "stdout",
          "text": [
            "El accuracy para el conjunto de datos de train es de:  0.65\n",
            "El accuracy para el conjunto de datos de test es de:  0.6\n"
          ]
        }
      ]
    },
    {
      "cell_type": "markdown",
      "source": [
        "<li><strong>G1:</strong>Primero 10 datos del dataframe</li>\n",
        "<li><strong>G2:</strong>Los 10 datos del centro del dataframe</li>\n",
        "<li><strong>G3:</strong>Los ultimos 10 datos del dataframe</li>\n",
        "</ul>\n",
        "<p align = 'justify'>Para nuestra segunda iteración se tomará como:</p>\n",
        "<p><strong>train: </strong>G1 + G3</p>\n",
        "<p><strong>test: </strong>G2</p>"
      ],
      "metadata": {
        "id": "mGkr4R5njnce"
      }
    },
    {
      "cell_type": "code",
      "source": [
        "X_traink2 = pd.concat([kdf[:10],kdf[20:]])\n",
        "y_traink2 =  pd.concat([kdf[:10]['Outcome'],kdf[20:]['Outcome']])\n",
        "\n",
        "X_testk2 = kdf[10:20]\n",
        "y_testk2 = kdf.iloc[10:20]['Outcome']"
      ],
      "metadata": {
        "id": "FSXPbaaBjqEO"
      },
      "execution_count": null,
      "outputs": []
    },
    {
      "cell_type": "code",
      "source": [
        "indices = obtenerDistancias(X_traink2, X_testk2)\n",
        "indices"
      ],
      "metadata": {
        "colab": {
          "base_uri": "https://localhost:8080/"
        },
        "id": "H6cW26Xnjtar",
        "outputId": "fa78f685-6c83-46cb-c477-448223893669"
      },
      "execution_count": null,
      "outputs": [
        {
          "output_type": "execute_result",
          "data": {
            "text/plain": [
              "[[19, 11, 13],\n",
              " [2, 0, 16],\n",
              " [18, 16, 0],\n",
              " [2, 8, 12],\n",
              " [0, 2, 16],\n",
              " [7, 6, 4],\n",
              " [10, 19, 13],\n",
              " [5, 11, 13],\n",
              " [6, 7, 4],\n",
              " [5, 13, 15]]"
            ]
          },
          "metadata": {},
          "execution_count": 80
        }
      ]
    },
    {
      "cell_type": "code",
      "source": [
        "obtenerProbabilidad(X_traink2, indices)"
      ],
      "metadata": {
        "colab": {
          "base_uri": "https://localhost:8080/"
        },
        "id": "EYq5joH7jvBU",
        "outputId": "4c8bf8f0-4aca-429d-a334-993b3f699284"
      },
      "execution_count": null,
      "outputs": [
        {
          "output_type": "execute_result",
          "data": {
            "text/plain": [
              "{0: [0.6666666666666666, 0.3333333333333333],\n",
              " 1: [0.0, 1.0],\n",
              " 2: [0.3333333333333333, 0.6666666666666666],\n",
              " 3: [0.0, 1.0],\n",
              " 4: [0.0, 1.0],\n",
              " 5: [0.3333333333333333, 0.6666666666666666],\n",
              " 6: [0.6666666666666666, 0.3333333333333333],\n",
              " 7: [0.6666666666666666, 0.3333333333333333],\n",
              " 8: [0.3333333333333333, 0.6666666666666666],\n",
              " 9: [0.3333333333333333, 0.6666666666666666]}"
            ]
          },
          "metadata": {},
          "execution_count": 81
        }
      ]
    },
    {
      "cell_type": "markdown",
      "source": [
        "<p align = 'justify'><FONT SIZE=5><strong>Obteniendo el accuracy a mano</strong></p>"
      ],
      "metadata": {
        "id": "mBQ_VFEcjwmn"
      }
    },
    {
      "cell_type": "code",
      "source": [
        "print(f\"Accuracy para train: {obtenerAccuracy(X_traink2, X_traink2)}\")\n",
        "print(f\"Accuracy para test: {obtenerAccuracy(X_traink2, X_testk2)}\")"
      ],
      "metadata": {
        "colab": {
          "base_uri": "https://localhost:8080/"
        },
        "id": "do6GxmtNjyV7",
        "outputId": "2073afc0-b135-4569-832e-3dd4e0adfb96"
      },
      "execution_count": null,
      "outputs": [
        {
          "output_type": "stream",
          "name": "stdout",
          "text": [
            "Accuracy para train: 0.75\n",
            "Accuracy para test: 0.6\n"
          ]
        }
      ]
    },
    {
      "cell_type": "code",
      "source": [
        "modelo.fit(X_traink2[['Pregnancies', 'Glucose','BloodPressure']].values,y_traink2.values)"
      ],
      "metadata": {
        "colab": {
          "base_uri": "https://localhost:8080/",
          "height": 75
        },
        "id": "aHFPnE5Qjz6D",
        "outputId": "0ac93d38-8ee4-4e33-9cc7-0e38a01f4f6f"
      },
      "execution_count": null,
      "outputs": [
        {
          "output_type": "execute_result",
          "data": {
            "text/plain": [
              "KNeighborsClassifier(n_neighbors=3)"
            ],
            "text/html": [
              "<style>#sk-container-id-3 {color: black;background-color: white;}#sk-container-id-3 pre{padding: 0;}#sk-container-id-3 div.sk-toggleable {background-color: white;}#sk-container-id-3 label.sk-toggleable__label {cursor: pointer;display: block;width: 100%;margin-bottom: 0;padding: 0.3em;box-sizing: border-box;text-align: center;}#sk-container-id-3 label.sk-toggleable__label-arrow:before {content: \"▸\";float: left;margin-right: 0.25em;color: #696969;}#sk-container-id-3 label.sk-toggleable__label-arrow:hover:before {color: black;}#sk-container-id-3 div.sk-estimator:hover label.sk-toggleable__label-arrow:before {color: black;}#sk-container-id-3 div.sk-toggleable__content {max-height: 0;max-width: 0;overflow: hidden;text-align: left;background-color: #f0f8ff;}#sk-container-id-3 div.sk-toggleable__content pre {margin: 0.2em;color: black;border-radius: 0.25em;background-color: #f0f8ff;}#sk-container-id-3 input.sk-toggleable__control:checked~div.sk-toggleable__content {max-height: 200px;max-width: 100%;overflow: auto;}#sk-container-id-3 input.sk-toggleable__control:checked~label.sk-toggleable__label-arrow:before {content: \"▾\";}#sk-container-id-3 div.sk-estimator input.sk-toggleable__control:checked~label.sk-toggleable__label {background-color: #d4ebff;}#sk-container-id-3 div.sk-label input.sk-toggleable__control:checked~label.sk-toggleable__label {background-color: #d4ebff;}#sk-container-id-3 input.sk-hidden--visually {border: 0;clip: rect(1px 1px 1px 1px);clip: rect(1px, 1px, 1px, 1px);height: 1px;margin: -1px;overflow: hidden;padding: 0;position: absolute;width: 1px;}#sk-container-id-3 div.sk-estimator {font-family: monospace;background-color: #f0f8ff;border: 1px dotted black;border-radius: 0.25em;box-sizing: border-box;margin-bottom: 0.5em;}#sk-container-id-3 div.sk-estimator:hover {background-color: #d4ebff;}#sk-container-id-3 div.sk-parallel-item::after {content: \"\";width: 100%;border-bottom: 1px solid gray;flex-grow: 1;}#sk-container-id-3 div.sk-label:hover label.sk-toggleable__label {background-color: #d4ebff;}#sk-container-id-3 div.sk-serial::before {content: \"\";position: absolute;border-left: 1px solid gray;box-sizing: border-box;top: 0;bottom: 0;left: 50%;z-index: 0;}#sk-container-id-3 div.sk-serial {display: flex;flex-direction: column;align-items: center;background-color: white;padding-right: 0.2em;padding-left: 0.2em;position: relative;}#sk-container-id-3 div.sk-item {position: relative;z-index: 1;}#sk-container-id-3 div.sk-parallel {display: flex;align-items: stretch;justify-content: center;background-color: white;position: relative;}#sk-container-id-3 div.sk-item::before, #sk-container-id-3 div.sk-parallel-item::before {content: \"\";position: absolute;border-left: 1px solid gray;box-sizing: border-box;top: 0;bottom: 0;left: 50%;z-index: -1;}#sk-container-id-3 div.sk-parallel-item {display: flex;flex-direction: column;z-index: 1;position: relative;background-color: white;}#sk-container-id-3 div.sk-parallel-item:first-child::after {align-self: flex-end;width: 50%;}#sk-container-id-3 div.sk-parallel-item:last-child::after {align-self: flex-start;width: 50%;}#sk-container-id-3 div.sk-parallel-item:only-child::after {width: 0;}#sk-container-id-3 div.sk-dashed-wrapped {border: 1px dashed gray;margin: 0 0.4em 0.5em 0.4em;box-sizing: border-box;padding-bottom: 0.4em;background-color: white;}#sk-container-id-3 div.sk-label label {font-family: monospace;font-weight: bold;display: inline-block;line-height: 1.2em;}#sk-container-id-3 div.sk-label-container {text-align: center;}#sk-container-id-3 div.sk-container {/* jupyter's `normalize.less` sets `[hidden] { display: none; }` but bootstrap.min.css set `[hidden] { display: none !important; }` so we also need the `!important` here to be able to override the default hidden behavior on the sphinx rendered scikit-learn.org. See: https://github.com/scikit-learn/scikit-learn/issues/21755 */display: inline-block !important;position: relative;}#sk-container-id-3 div.sk-text-repr-fallback {display: none;}</style><div id=\"sk-container-id-3\" class=\"sk-top-container\"><div class=\"sk-text-repr-fallback\"><pre>KNeighborsClassifier(n_neighbors=3)</pre><b>In a Jupyter environment, please rerun this cell to show the HTML representation or trust the notebook. <br />On GitHub, the HTML representation is unable to render, please try loading this page with nbviewer.org.</b></div><div class=\"sk-container\" hidden><div class=\"sk-item\"><div class=\"sk-estimator sk-toggleable\"><input class=\"sk-toggleable__control sk-hidden--visually\" id=\"sk-estimator-id-3\" type=\"checkbox\" checked><label for=\"sk-estimator-id-3\" class=\"sk-toggleable__label sk-toggleable__label-arrow\">KNeighborsClassifier</label><div class=\"sk-toggleable__content\"><pre>KNeighborsClassifier(n_neighbors=3)</pre></div></div></div></div></div>"
            ]
          },
          "metadata": {},
          "execution_count": 83
        }
      ]
    },
    {
      "cell_type": "code",
      "source": [
        "lista = []\n",
        "for i in X_testk2.values:\n",
        "  print(modelo.predict_proba([i[:3]]))"
      ],
      "metadata": {
        "colab": {
          "base_uri": "https://localhost:8080/"
        },
        "id": "4mCxPFKtj1Xq",
        "outputId": "75934092-ac4c-4205-f61f-555a718dfb50"
      },
      "execution_count": null,
      "outputs": [
        {
          "output_type": "stream",
          "name": "stdout",
          "text": [
            "[[0.66666667 0.33333333]]\n",
            "[[0. 1.]]\n",
            "[[0.33333333 0.66666667]]\n",
            "[[0. 1.]]\n",
            "[[0. 1.]]\n",
            "[[0.33333333 0.66666667]]\n",
            "[[0.66666667 0.33333333]]\n",
            "[[0.66666667 0.33333333]]\n",
            "[[0.33333333 0.66666667]]\n",
            "[[0.33333333 0.66666667]]\n"
          ]
        }
      ]
    },
    {
      "cell_type": "code",
      "source": [
        "y_train_predict = modelo.predict(X_traink2[['Pregnancies', 'Glucose','BloodPressure']].values)\n",
        "y_test_predict = modelo.predict(X_testk2[['Pregnancies', 'Glucose','BloodPressure']].values)"
      ],
      "metadata": {
        "id": "3waWVfiXj3W-"
      },
      "execution_count": null,
      "outputs": []
    },
    {
      "cell_type": "code",
      "source": [
        "accTrain = accuracy_score(y_traink2, y_train_predict)\n",
        "accTest = accuracy_score(y_testk2, y_test_predict)"
      ],
      "metadata": {
        "id": "d62sBo4tj4fj"
      },
      "execution_count": null,
      "outputs": []
    },
    {
      "cell_type": "code",
      "source": [
        "print(\"El accuracy para el conjunto de datos de train es de: \", accTrain)\n",
        "print(\"El accuracy para el conjunto de datos de test es de: \", accTest)"
      ],
      "metadata": {
        "colab": {
          "base_uri": "https://localhost:8080/"
        },
        "id": "Btplf7V7j5wM",
        "outputId": "fac9a0f4-a5bf-472c-c44f-fdfbe798b4fc"
      },
      "execution_count": null,
      "outputs": [
        {
          "output_type": "stream",
          "name": "stdout",
          "text": [
            "El accuracy para el conjunto de datos de train es de:  0.75\n",
            "El accuracy para el conjunto de datos de test es de:  0.6\n"
          ]
        }
      ]
    },
    {
      "cell_type": "markdown",
      "source": [
        "<li><strong>G1:</strong>Primero 10 datos del dataframe</li>\n",
        "<li><strong>G2:</strong>Los 10 datos del centro del dataframe</li>\n",
        "<li><strong>G3:</strong>Los ultimos 10 datos del dataframe</li>\n",
        "</ul>\n",
        "<p align = 'justify'>Para nuestra segunda iteración se tomará como:</p>\n",
        "<p><strong>train: </strong>G3 + G2</p>\n",
        "<p><strong>test: </strong>G1</p>"
      ],
      "metadata": {
        "id": "AFAisnmsj71r"
      }
    },
    {
      "cell_type": "code",
      "source": [
        "X_traink3 = kdf[10:30]\n",
        "y_traink3 = kdf.iloc[10:30,3]\n",
        "\n",
        "X_testk3 = kdf[:10]\n",
        "y_testk3 = kdf.iloc[:10,3]"
      ],
      "metadata": {
        "id": "4aBRguLGj9in"
      },
      "execution_count": null,
      "outputs": []
    },
    {
      "cell_type": "code",
      "source": [
        "indices = obtenerDistancias(X_traink3, X_testk3)\n",
        "indices"
      ],
      "metadata": {
        "colab": {
          "base_uri": "https://localhost:8080/"
        },
        "id": "k-Sos6Hxj-rM",
        "outputId": "32e47ab7-93f3-412e-ef61-4d818073daf3"
      },
      "execution_count": null,
      "outputs": [
        {
          "output_type": "execute_result",
          "data": {
            "text/plain": [
              "[[16, 18, 2],\n",
              " [17, 11, 7],\n",
              " [3, 1, 4],\n",
              " [17, 7, 11],\n",
              " [15, 8, 9],\n",
              " [9, 13, 7],\n",
              " [17, 8, 7],\n",
              " [5, 8, 17],\n",
              " [3, 12, 1],\n",
              " [19, 10, 0]]"
            ]
          },
          "metadata": {},
          "execution_count": 89
        }
      ]
    },
    {
      "cell_type": "code",
      "source": [
        "obtenerProbabilidad(X_traink3, indices)"
      ],
      "metadata": {
        "colab": {
          "base_uri": "https://localhost:8080/"
        },
        "id": "Qf1koLiaj_0B",
        "outputId": "7b03b901-6964-4e92-ebd8-61068e894b4b"
      },
      "execution_count": null,
      "outputs": [
        {
          "output_type": "execute_result",
          "data": {
            "text/plain": [
              "{0: [0.6666666666666666, 0.3333333333333333],\n",
              " 1: [0.6666666666666666, 0.3333333333333333],\n",
              " 2: [0.0, 1.0],\n",
              " 3: [0.6666666666666666, 0.3333333333333333],\n",
              " 4: [0.3333333333333333, 0.6666666666666666],\n",
              " 5: [0.0, 1.0],\n",
              " 6: [0.6666666666666666, 0.3333333333333333],\n",
              " 7: [0.6666666666666666, 0.3333333333333333],\n",
              " 8: [0.0, 1.0],\n",
              " 9: [1.0, 0.0]}"
            ]
          },
          "metadata": {},
          "execution_count": 90
        }
      ]
    },
    {
      "cell_type": "markdown",
      "source": [
        "<p align = 'justify'><FONT SIZE=5><strong>Obteniendo el accuracy a mano</strong></p>"
      ],
      "metadata": {
        "id": "LKHosps8kFK9"
      }
    },
    {
      "cell_type": "code",
      "source": [
        "print(f\"Accuracy para train: {obtenerAccuracy(X_traink3, X_traink3)}\")\n",
        "print(f\"Accuracy para test: {obtenerAccuracy(X_traink3, X_testk3)}\")"
      ],
      "metadata": {
        "colab": {
          "base_uri": "https://localhost:8080/"
        },
        "id": "9ojRmDJTkHTe",
        "outputId": "9d992d06-67f5-4e77-83a8-54790b443d27"
      },
      "execution_count": null,
      "outputs": [
        {
          "output_type": "stream",
          "name": "stdout",
          "text": [
            "Accuracy para train: 0.75\n",
            "Accuracy para test: 0.6\n"
          ]
        }
      ]
    },
    {
      "cell_type": "code",
      "source": [
        "modelo.fit(X_traink3[['Pregnancies', 'Glucose','BloodPressure']].values,y_traink3.values)"
      ],
      "metadata": {
        "colab": {
          "base_uri": "https://localhost:8080/",
          "height": 75
        },
        "id": "z6-7yWuUkIYG",
        "outputId": "b993d074-ec85-4e6b-e233-38af346f0730"
      },
      "execution_count": null,
      "outputs": [
        {
          "output_type": "execute_result",
          "data": {
            "text/plain": [
              "KNeighborsClassifier(n_neighbors=3)"
            ],
            "text/html": [
              "<style>#sk-container-id-4 {color: black;background-color: white;}#sk-container-id-4 pre{padding: 0;}#sk-container-id-4 div.sk-toggleable {background-color: white;}#sk-container-id-4 label.sk-toggleable__label {cursor: pointer;display: block;width: 100%;margin-bottom: 0;padding: 0.3em;box-sizing: border-box;text-align: center;}#sk-container-id-4 label.sk-toggleable__label-arrow:before {content: \"▸\";float: left;margin-right: 0.25em;color: #696969;}#sk-container-id-4 label.sk-toggleable__label-arrow:hover:before {color: black;}#sk-container-id-4 div.sk-estimator:hover label.sk-toggleable__label-arrow:before {color: black;}#sk-container-id-4 div.sk-toggleable__content {max-height: 0;max-width: 0;overflow: hidden;text-align: left;background-color: #f0f8ff;}#sk-container-id-4 div.sk-toggleable__content pre {margin: 0.2em;color: black;border-radius: 0.25em;background-color: #f0f8ff;}#sk-container-id-4 input.sk-toggleable__control:checked~div.sk-toggleable__content {max-height: 200px;max-width: 100%;overflow: auto;}#sk-container-id-4 input.sk-toggleable__control:checked~label.sk-toggleable__label-arrow:before {content: \"▾\";}#sk-container-id-4 div.sk-estimator input.sk-toggleable__control:checked~label.sk-toggleable__label {background-color: #d4ebff;}#sk-container-id-4 div.sk-label input.sk-toggleable__control:checked~label.sk-toggleable__label {background-color: #d4ebff;}#sk-container-id-4 input.sk-hidden--visually {border: 0;clip: rect(1px 1px 1px 1px);clip: rect(1px, 1px, 1px, 1px);height: 1px;margin: -1px;overflow: hidden;padding: 0;position: absolute;width: 1px;}#sk-container-id-4 div.sk-estimator {font-family: monospace;background-color: #f0f8ff;border: 1px dotted black;border-radius: 0.25em;box-sizing: border-box;margin-bottom: 0.5em;}#sk-container-id-4 div.sk-estimator:hover {background-color: #d4ebff;}#sk-container-id-4 div.sk-parallel-item::after {content: \"\";width: 100%;border-bottom: 1px solid gray;flex-grow: 1;}#sk-container-id-4 div.sk-label:hover label.sk-toggleable__label {background-color: #d4ebff;}#sk-container-id-4 div.sk-serial::before {content: \"\";position: absolute;border-left: 1px solid gray;box-sizing: border-box;top: 0;bottom: 0;left: 50%;z-index: 0;}#sk-container-id-4 div.sk-serial {display: flex;flex-direction: column;align-items: center;background-color: white;padding-right: 0.2em;padding-left: 0.2em;position: relative;}#sk-container-id-4 div.sk-item {position: relative;z-index: 1;}#sk-container-id-4 div.sk-parallel {display: flex;align-items: stretch;justify-content: center;background-color: white;position: relative;}#sk-container-id-4 div.sk-item::before, #sk-container-id-4 div.sk-parallel-item::before {content: \"\";position: absolute;border-left: 1px solid gray;box-sizing: border-box;top: 0;bottom: 0;left: 50%;z-index: -1;}#sk-container-id-4 div.sk-parallel-item {display: flex;flex-direction: column;z-index: 1;position: relative;background-color: white;}#sk-container-id-4 div.sk-parallel-item:first-child::after {align-self: flex-end;width: 50%;}#sk-container-id-4 div.sk-parallel-item:last-child::after {align-self: flex-start;width: 50%;}#sk-container-id-4 div.sk-parallel-item:only-child::after {width: 0;}#sk-container-id-4 div.sk-dashed-wrapped {border: 1px dashed gray;margin: 0 0.4em 0.5em 0.4em;box-sizing: border-box;padding-bottom: 0.4em;background-color: white;}#sk-container-id-4 div.sk-label label {font-family: monospace;font-weight: bold;display: inline-block;line-height: 1.2em;}#sk-container-id-4 div.sk-label-container {text-align: center;}#sk-container-id-4 div.sk-container {/* jupyter's `normalize.less` sets `[hidden] { display: none; }` but bootstrap.min.css set `[hidden] { display: none !important; }` so we also need the `!important` here to be able to override the default hidden behavior on the sphinx rendered scikit-learn.org. See: https://github.com/scikit-learn/scikit-learn/issues/21755 */display: inline-block !important;position: relative;}#sk-container-id-4 div.sk-text-repr-fallback {display: none;}</style><div id=\"sk-container-id-4\" class=\"sk-top-container\"><div class=\"sk-text-repr-fallback\"><pre>KNeighborsClassifier(n_neighbors=3)</pre><b>In a Jupyter environment, please rerun this cell to show the HTML representation or trust the notebook. <br />On GitHub, the HTML representation is unable to render, please try loading this page with nbviewer.org.</b></div><div class=\"sk-container\" hidden><div class=\"sk-item\"><div class=\"sk-estimator sk-toggleable\"><input class=\"sk-toggleable__control sk-hidden--visually\" id=\"sk-estimator-id-4\" type=\"checkbox\" checked><label for=\"sk-estimator-id-4\" class=\"sk-toggleable__label sk-toggleable__label-arrow\">KNeighborsClassifier</label><div class=\"sk-toggleable__content\"><pre>KNeighborsClassifier(n_neighbors=3)</pre></div></div></div></div></div>"
            ]
          },
          "metadata": {},
          "execution_count": 92
        }
      ]
    },
    {
      "cell_type": "code",
      "source": [
        "lista = []\n",
        "for i in X_testk3.values:\n",
        "  print(modelo.predict_proba([i[:3]]))"
      ],
      "metadata": {
        "colab": {
          "base_uri": "https://localhost:8080/"
        },
        "id": "a2D1amHJkJfM",
        "outputId": "59027139-fb50-4c62-c1fe-91330b1f3878"
      },
      "execution_count": null,
      "outputs": [
        {
          "output_type": "stream",
          "name": "stdout",
          "text": [
            "[[0.66666667 0.33333333]]\n",
            "[[0.66666667 0.33333333]]\n",
            "[[0. 1.]]\n",
            "[[0.66666667 0.33333333]]\n",
            "[[0.33333333 0.66666667]]\n",
            "[[0. 1.]]\n",
            "[[0.66666667 0.33333333]]\n",
            "[[0.66666667 0.33333333]]\n",
            "[[0. 1.]]\n",
            "[[0.66666667 0.33333333]]\n"
          ]
        }
      ]
    },
    {
      "cell_type": "code",
      "source": [
        "y_train_predict = modelo.predict(X_traink3[['Pregnancies', 'Glucose','BloodPressure']].values)\n",
        "y_test_predict = modelo.predict(X_testk3[['Pregnancies', 'Glucose','BloodPressure']].values)"
      ],
      "metadata": {
        "id": "V-U56IC5kKzR"
      },
      "execution_count": null,
      "outputs": []
    },
    {
      "cell_type": "code",
      "source": [
        "accTrain = accuracy_score(y_traink3, y_train_predict)\n",
        "accTest = accuracy_score(y_testk3, y_test_predict)"
      ],
      "metadata": {
        "id": "i0g11-fdkL4g"
      },
      "execution_count": null,
      "outputs": []
    },
    {
      "cell_type": "code",
      "source": [
        "print(\"El accuracy para el conjunto de datos de train es de: \", accTrain)\n",
        "print(\"El accuracy para el conjunto de datos de test es de: \", accTest)"
      ],
      "metadata": {
        "colab": {
          "base_uri": "https://localhost:8080/"
        },
        "id": "YunlHv-KkNHR",
        "outputId": "71ba0d39-da70-472e-ddd2-a852251b75e5"
      },
      "execution_count": null,
      "outputs": [
        {
          "output_type": "stream",
          "name": "stdout",
          "text": [
            "El accuracy para el conjunto de datos de train es de:  0.75\n",
            "El accuracy para el conjunto de datos de test es de:  0.6\n"
          ]
        }
      ]
    },
    {
      "cell_type": "markdown",
      "source": [
        "<FONT FACE='times new roman'>\n",
        "<h1><b>Punto E</b></h1>\n",
        "<p align='justify'>\n",
        "<FONT SIZE = 4>\n",
        "Corroborar los resultados con SKlearn.(2 puntos)\n",
        "</p>"
      ],
      "metadata": {
        "id": "gcNv1LYjWYoD"
      }
    },
    {
      "cell_type": "markdown",
      "source": [
        "# **Corroborando los datos con Sklearn para KNN**"
      ],
      "metadata": {
        "id": "aHVdl_XKkYyb"
      }
    },
    {
      "cell_type": "markdown",
      "source": [
        "<p align = 'justify'>Igual que el procedimiento anterior, se procede a realizar el escalado de los datos, con el fin de que el algoritmo nos funcione apropiadamente.</p>"
      ],
      "metadata": {
        "id": "37TJVg0qkbBx"
      }
    },
    {
      "cell_type": "code",
      "source": [
        "XK = df[['Pregnancies', 'Glucose','BloodPressure']]\n",
        "\n",
        "# Varible a predecir\n",
        "yk = df['Outcome']"
      ],
      "metadata": {
        "id": "5eFoxZpokcce"
      },
      "execution_count": null,
      "outputs": []
    },
    {
      "cell_type": "code",
      "source": [
        "scaler = MinMaxScaler()\n",
        "scaler.fit(XK)"
      ],
      "metadata": {
        "colab": {
          "base_uri": "https://localhost:8080/",
          "height": 75
        },
        "id": "bUvUH8WTkds6",
        "outputId": "da6f9768-ebea-4f08-e730-4274fb7f3bf0"
      },
      "execution_count": null,
      "outputs": [
        {
          "output_type": "execute_result",
          "data": {
            "text/plain": [
              "MinMaxScaler()"
            ],
            "text/html": [
              "<style>#sk-container-id-5 {color: black;background-color: white;}#sk-container-id-5 pre{padding: 0;}#sk-container-id-5 div.sk-toggleable {background-color: white;}#sk-container-id-5 label.sk-toggleable__label {cursor: pointer;display: block;width: 100%;margin-bottom: 0;padding: 0.3em;box-sizing: border-box;text-align: center;}#sk-container-id-5 label.sk-toggleable__label-arrow:before {content: \"▸\";float: left;margin-right: 0.25em;color: #696969;}#sk-container-id-5 label.sk-toggleable__label-arrow:hover:before {color: black;}#sk-container-id-5 div.sk-estimator:hover label.sk-toggleable__label-arrow:before {color: black;}#sk-container-id-5 div.sk-toggleable__content {max-height: 0;max-width: 0;overflow: hidden;text-align: left;background-color: #f0f8ff;}#sk-container-id-5 div.sk-toggleable__content pre {margin: 0.2em;color: black;border-radius: 0.25em;background-color: #f0f8ff;}#sk-container-id-5 input.sk-toggleable__control:checked~div.sk-toggleable__content {max-height: 200px;max-width: 100%;overflow: auto;}#sk-container-id-5 input.sk-toggleable__control:checked~label.sk-toggleable__label-arrow:before {content: \"▾\";}#sk-container-id-5 div.sk-estimator input.sk-toggleable__control:checked~label.sk-toggleable__label {background-color: #d4ebff;}#sk-container-id-5 div.sk-label input.sk-toggleable__control:checked~label.sk-toggleable__label {background-color: #d4ebff;}#sk-container-id-5 input.sk-hidden--visually {border: 0;clip: rect(1px 1px 1px 1px);clip: rect(1px, 1px, 1px, 1px);height: 1px;margin: -1px;overflow: hidden;padding: 0;position: absolute;width: 1px;}#sk-container-id-5 div.sk-estimator {font-family: monospace;background-color: #f0f8ff;border: 1px dotted black;border-radius: 0.25em;box-sizing: border-box;margin-bottom: 0.5em;}#sk-container-id-5 div.sk-estimator:hover {background-color: #d4ebff;}#sk-container-id-5 div.sk-parallel-item::after {content: \"\";width: 100%;border-bottom: 1px solid gray;flex-grow: 1;}#sk-container-id-5 div.sk-label:hover label.sk-toggleable__label {background-color: #d4ebff;}#sk-container-id-5 div.sk-serial::before {content: \"\";position: absolute;border-left: 1px solid gray;box-sizing: border-box;top: 0;bottom: 0;left: 50%;z-index: 0;}#sk-container-id-5 div.sk-serial {display: flex;flex-direction: column;align-items: center;background-color: white;padding-right: 0.2em;padding-left: 0.2em;position: relative;}#sk-container-id-5 div.sk-item {position: relative;z-index: 1;}#sk-container-id-5 div.sk-parallel {display: flex;align-items: stretch;justify-content: center;background-color: white;position: relative;}#sk-container-id-5 div.sk-item::before, #sk-container-id-5 div.sk-parallel-item::before {content: \"\";position: absolute;border-left: 1px solid gray;box-sizing: border-box;top: 0;bottom: 0;left: 50%;z-index: -1;}#sk-container-id-5 div.sk-parallel-item {display: flex;flex-direction: column;z-index: 1;position: relative;background-color: white;}#sk-container-id-5 div.sk-parallel-item:first-child::after {align-self: flex-end;width: 50%;}#sk-container-id-5 div.sk-parallel-item:last-child::after {align-self: flex-start;width: 50%;}#sk-container-id-5 div.sk-parallel-item:only-child::after {width: 0;}#sk-container-id-5 div.sk-dashed-wrapped {border: 1px dashed gray;margin: 0 0.4em 0.5em 0.4em;box-sizing: border-box;padding-bottom: 0.4em;background-color: white;}#sk-container-id-5 div.sk-label label {font-family: monospace;font-weight: bold;display: inline-block;line-height: 1.2em;}#sk-container-id-5 div.sk-label-container {text-align: center;}#sk-container-id-5 div.sk-container {/* jupyter's `normalize.less` sets `[hidden] { display: none; }` but bootstrap.min.css set `[hidden] { display: none !important; }` so we also need the `!important` here to be able to override the default hidden behavior on the sphinx rendered scikit-learn.org. See: https://github.com/scikit-learn/scikit-learn/issues/21755 */display: inline-block !important;position: relative;}#sk-container-id-5 div.sk-text-repr-fallback {display: none;}</style><div id=\"sk-container-id-5\" class=\"sk-top-container\"><div class=\"sk-text-repr-fallback\"><pre>MinMaxScaler()</pre><b>In a Jupyter environment, please rerun this cell to show the HTML representation or trust the notebook. <br />On GitHub, the HTML representation is unable to render, please try loading this page with nbviewer.org.</b></div><div class=\"sk-container\" hidden><div class=\"sk-item\"><div class=\"sk-estimator sk-toggleable\"><input class=\"sk-toggleable__control sk-hidden--visually\" id=\"sk-estimator-id-5\" type=\"checkbox\" checked><label for=\"sk-estimator-id-5\" class=\"sk-toggleable__label sk-toggleable__label-arrow\">MinMaxScaler</label><div class=\"sk-toggleable__content\"><pre>MinMaxScaler()</pre></div></div></div></div></div>"
            ]
          },
          "metadata": {},
          "execution_count": 98
        }
      ]
    },
    {
      "cell_type": "code",
      "source": [
        "df_scaled = scaler.transform(XK)\n",
        "df_scaled"
      ],
      "metadata": {
        "colab": {
          "base_uri": "https://localhost:8080/"
        },
        "id": "P6kjGY5Lkert",
        "outputId": "df26b27e-1062-4ed6-a7d6-04baa706d491"
      },
      "execution_count": null,
      "outputs": [
        {
          "output_type": "execute_result",
          "data": {
            "text/plain": [
              "array([[0.46153846, 0.58823529, 0.75      ],\n",
              "       [0.07692308, 0.05882353, 0.6875    ],\n",
              "       [0.61538462, 0.88235294, 0.66666667],\n",
              "       [0.07692308, 0.09243697, 0.6875    ],\n",
              "       [0.        , 0.49579832, 0.41666667],\n",
              "       [0.38461538, 0.31932773, 0.77083333],\n",
              "       [0.23076923, 0.        , 0.52083333],\n",
              "       [0.76923077, 0.31092437, 0.        ],\n",
              "       [0.15384615, 1.        , 0.72916667],\n",
              "       [0.61538462, 0.39495798, 1.        ],\n",
              "       [0.30769231, 0.26890756, 0.95833333],\n",
              "       [0.76923077, 0.75630252, 0.77083333],\n",
              "       [0.76923077, 0.51260504, 0.83333333],\n",
              "       [0.07692308, 0.93277311, 0.625     ],\n",
              "       [0.38461538, 0.7394958 , 0.75      ],\n",
              "       [0.53846154, 0.18487395, 0.        ],\n",
              "       [0.        , 0.33613445, 0.875     ],\n",
              "       [0.53846154, 0.24369748, 0.77083333],\n",
              "       [0.07692308, 0.21008403, 0.3125    ],\n",
              "       [0.07692308, 0.31092437, 0.72916667],\n",
              "       [0.23076923, 0.40336134, 0.91666667],\n",
              "       [0.61538462, 0.17647059, 0.875     ],\n",
              "       [0.53846154, 0.99159664, 0.9375    ],\n",
              "       [0.69230769, 0.34453782, 0.83333333],\n",
              "       [0.84615385, 0.54621849, 0.97916667],\n",
              "       [0.76923077, 0.39495798, 0.72916667],\n",
              "       [0.53846154, 0.57983193, 0.79166667],\n",
              "       [0.07692308, 0.15966387, 0.6875    ],\n",
              "       [1.        , 0.56302521, 0.85416667],\n",
              "       [0.38461538, 0.32773109, 0.95833333]])"
            ]
          },
          "metadata": {},
          "execution_count": 99
        }
      ]
    },
    {
      "cell_type": "code",
      "source": [
        "kf_cv = KFold(n_splits=3, shuffle=False)\n",
        "cross_v=cross_validate(KNeighborsClassifier(n_neighbors=3),\n",
        "                   XK,yk,\n",
        "                   cv=kf_cv.split(df[['Pregnancies', 'Glucose','BloodPressure']]),\n",
        "                   return_estimator=True,\n",
        "                   scoring=[\"accuracy\"],\n",
        "                   return_train_score=True,\n",
        "                   )"
      ],
      "metadata": {
        "id": "SLFxe5kvkf-x"
      },
      "execution_count": null,
      "outputs": []
    },
    {
      "cell_type": "code",
      "source": [
        "cross_v"
      ],
      "metadata": {
        "colab": {
          "base_uri": "https://localhost:8080/"
        },
        "id": "ZOZFvZ1Ukhqt",
        "outputId": "206f7245-fa55-4d25-dbd1-a96c406f5588"
      },
      "execution_count": null,
      "outputs": [
        {
          "output_type": "execute_result",
          "data": {
            "text/plain": [
              "{'fit_time': array([0.00371313, 0.00345254, 0.00367379]),\n",
              " 'score_time': array([0.00440788, 0.00486422, 0.00476885]),\n",
              " 'estimator': [KNeighborsClassifier(n_neighbors=3),\n",
              "  KNeighborsClassifier(n_neighbors=3),\n",
              "  KNeighborsClassifier(n_neighbors=3)],\n",
              " 'test_accuracy': array([0.6, 0.6, 0.6]),\n",
              " 'train_accuracy': array([0.75, 0.75, 0.65])}"
            ]
          },
          "metadata": {},
          "execution_count": 101
        }
      ]
    },
    {
      "cell_type": "markdown",
      "source": [
        "Como se puede observar, en test y train obtenemos lo mismo que el proceso realizado a mano."
      ],
      "metadata": {
        "id": "GeDfqMhUkjdN"
      }
    },
    {
      "cell_type": "markdown",
      "source": [
        "<FONT FACE='times new roman'>\n",
        "<h1><b>Parte 2</b></h1>\n",
        "<p align='justify'>\n",
        "<FONT SIZE = 4>\n",
        "Utilizando el dataset de Grades, construir un modelo con sklearn que prediga la nota final(G3) de un estudiante. Utilizar sólo las variables numéricas(seleccionar las que considere más importantes). No utilizar las columnas G1 y G2. Probar árboles de decisión y KNN. Utilizar validación cruzada de 5.\n",
        "</p>"
      ],
      "metadata": {
        "id": "kYDOZdJhKDXX"
      }
    },
    {
      "cell_type": "code",
      "source": [
        "dfGrades = pd.read_csv(\"https://raw.githubusercontent.com/CamiloHedzz/imagesColab/main/school_grades_dataset.csv\")\n",
        "dfGrades"
      ],
      "metadata": {
        "colab": {
          "base_uri": "https://localhost:8080/",
          "height": 424
        },
        "id": "CxiQII_knlWL",
        "outputId": "c6350356-06b3-4137-90df-bc55dbaf7a6e"
      },
      "execution_count": null,
      "outputs": [
        {
          "output_type": "execute_result",
          "data": {
            "text/plain": [
              "    school sex  age address famsize Pstatus  Medu  Fedu      Mjob      Fjob  \\\n",
              "0       GP   F   18       U     GT3       A     4     4   at_home   teacher   \n",
              "1       GP   F   17       U     GT3       T     1     1   at_home     other   \n",
              "2       GP   F   15       U     LE3       T     1     1   at_home     other   \n",
              "3       GP   F   15       U     GT3       T     4     2    health  services   \n",
              "4       GP   F   16       U     GT3       T     3     3     other     other   \n",
              "..     ...  ..  ...     ...     ...     ...   ...   ...       ...       ...   \n",
              "644     MS   F   19       R     GT3       T     2     3  services     other   \n",
              "645     MS   F   18       U     LE3       T     3     1   teacher  services   \n",
              "646     MS   F   18       U     GT3       T     1     1     other     other   \n",
              "647     MS   M   17       U     LE3       T     3     1  services  services   \n",
              "648     MS   M   18       R     LE3       T     3     2  services     other   \n",
              "\n",
              "     ... famrel freetime  goout  Dalc  Walc health absences  G1  G2  G3  \n",
              "0    ...      4        3      4     1     1      3        4   0  11  11  \n",
              "1    ...      5        3      3     1     1      3        2   9  11  11  \n",
              "2    ...      4        3      2     2     3      3        6  12  13  12  \n",
              "3    ...      3        2      2     1     1      5        0  14  14  14  \n",
              "4    ...      4        3      2     1     2      5        0  11  13  13  \n",
              "..   ...    ...      ...    ...   ...   ...    ...      ...  ..  ..  ..  \n",
              "644  ...      5        4      2     1     2      5        4  10  11  10  \n",
              "645  ...      4        3      4     1     1      1        4  15  15  16  \n",
              "646  ...      1        1      1     1     1      5        6  11  12   9  \n",
              "647  ...      2        4      5     3     4      2        6  10  10  10  \n",
              "648  ...      4        4      1     3     4      5        4  10  11  11  \n",
              "\n",
              "[649 rows x 33 columns]"
            ],
            "text/html": [
              "\n",
              "  <div id=\"df-a2ef8c41-a701-40b1-b1a9-ec317dbe9948\">\n",
              "    <div class=\"colab-df-container\">\n",
              "      <div>\n",
              "<style scoped>\n",
              "    .dataframe tbody tr th:only-of-type {\n",
              "        vertical-align: middle;\n",
              "    }\n",
              "\n",
              "    .dataframe tbody tr th {\n",
              "        vertical-align: top;\n",
              "    }\n",
              "\n",
              "    .dataframe thead th {\n",
              "        text-align: right;\n",
              "    }\n",
              "</style>\n",
              "<table border=\"1\" class=\"dataframe\">\n",
              "  <thead>\n",
              "    <tr style=\"text-align: right;\">\n",
              "      <th></th>\n",
              "      <th>school</th>\n",
              "      <th>sex</th>\n",
              "      <th>age</th>\n",
              "      <th>address</th>\n",
              "      <th>famsize</th>\n",
              "      <th>Pstatus</th>\n",
              "      <th>Medu</th>\n",
              "      <th>Fedu</th>\n",
              "      <th>Mjob</th>\n",
              "      <th>Fjob</th>\n",
              "      <th>...</th>\n",
              "      <th>famrel</th>\n",
              "      <th>freetime</th>\n",
              "      <th>goout</th>\n",
              "      <th>Dalc</th>\n",
              "      <th>Walc</th>\n",
              "      <th>health</th>\n",
              "      <th>absences</th>\n",
              "      <th>G1</th>\n",
              "      <th>G2</th>\n",
              "      <th>G3</th>\n",
              "    </tr>\n",
              "  </thead>\n",
              "  <tbody>\n",
              "    <tr>\n",
              "      <th>0</th>\n",
              "      <td>GP</td>\n",
              "      <td>F</td>\n",
              "      <td>18</td>\n",
              "      <td>U</td>\n",
              "      <td>GT3</td>\n",
              "      <td>A</td>\n",
              "      <td>4</td>\n",
              "      <td>4</td>\n",
              "      <td>at_home</td>\n",
              "      <td>teacher</td>\n",
              "      <td>...</td>\n",
              "      <td>4</td>\n",
              "      <td>3</td>\n",
              "      <td>4</td>\n",
              "      <td>1</td>\n",
              "      <td>1</td>\n",
              "      <td>3</td>\n",
              "      <td>4</td>\n",
              "      <td>0</td>\n",
              "      <td>11</td>\n",
              "      <td>11</td>\n",
              "    </tr>\n",
              "    <tr>\n",
              "      <th>1</th>\n",
              "      <td>GP</td>\n",
              "      <td>F</td>\n",
              "      <td>17</td>\n",
              "      <td>U</td>\n",
              "      <td>GT3</td>\n",
              "      <td>T</td>\n",
              "      <td>1</td>\n",
              "      <td>1</td>\n",
              "      <td>at_home</td>\n",
              "      <td>other</td>\n",
              "      <td>...</td>\n",
              "      <td>5</td>\n",
              "      <td>3</td>\n",
              "      <td>3</td>\n",
              "      <td>1</td>\n",
              "      <td>1</td>\n",
              "      <td>3</td>\n",
              "      <td>2</td>\n",
              "      <td>9</td>\n",
              "      <td>11</td>\n",
              "      <td>11</td>\n",
              "    </tr>\n",
              "    <tr>\n",
              "      <th>2</th>\n",
              "      <td>GP</td>\n",
              "      <td>F</td>\n",
              "      <td>15</td>\n",
              "      <td>U</td>\n",
              "      <td>LE3</td>\n",
              "      <td>T</td>\n",
              "      <td>1</td>\n",
              "      <td>1</td>\n",
              "      <td>at_home</td>\n",
              "      <td>other</td>\n",
              "      <td>...</td>\n",
              "      <td>4</td>\n",
              "      <td>3</td>\n",
              "      <td>2</td>\n",
              "      <td>2</td>\n",
              "      <td>3</td>\n",
              "      <td>3</td>\n",
              "      <td>6</td>\n",
              "      <td>12</td>\n",
              "      <td>13</td>\n",
              "      <td>12</td>\n",
              "    </tr>\n",
              "    <tr>\n",
              "      <th>3</th>\n",
              "      <td>GP</td>\n",
              "      <td>F</td>\n",
              "      <td>15</td>\n",
              "      <td>U</td>\n",
              "      <td>GT3</td>\n",
              "      <td>T</td>\n",
              "      <td>4</td>\n",
              "      <td>2</td>\n",
              "      <td>health</td>\n",
              "      <td>services</td>\n",
              "      <td>...</td>\n",
              "      <td>3</td>\n",
              "      <td>2</td>\n",
              "      <td>2</td>\n",
              "      <td>1</td>\n",
              "      <td>1</td>\n",
              "      <td>5</td>\n",
              "      <td>0</td>\n",
              "      <td>14</td>\n",
              "      <td>14</td>\n",
              "      <td>14</td>\n",
              "    </tr>\n",
              "    <tr>\n",
              "      <th>4</th>\n",
              "      <td>GP</td>\n",
              "      <td>F</td>\n",
              "      <td>16</td>\n",
              "      <td>U</td>\n",
              "      <td>GT3</td>\n",
              "      <td>T</td>\n",
              "      <td>3</td>\n",
              "      <td>3</td>\n",
              "      <td>other</td>\n",
              "      <td>other</td>\n",
              "      <td>...</td>\n",
              "      <td>4</td>\n",
              "      <td>3</td>\n",
              "      <td>2</td>\n",
              "      <td>1</td>\n",
              "      <td>2</td>\n",
              "      <td>5</td>\n",
              "      <td>0</td>\n",
              "      <td>11</td>\n",
              "      <td>13</td>\n",
              "      <td>13</td>\n",
              "    </tr>\n",
              "    <tr>\n",
              "      <th>...</th>\n",
              "      <td>...</td>\n",
              "      <td>...</td>\n",
              "      <td>...</td>\n",
              "      <td>...</td>\n",
              "      <td>...</td>\n",
              "      <td>...</td>\n",
              "      <td>...</td>\n",
              "      <td>...</td>\n",
              "      <td>...</td>\n",
              "      <td>...</td>\n",
              "      <td>...</td>\n",
              "      <td>...</td>\n",
              "      <td>...</td>\n",
              "      <td>...</td>\n",
              "      <td>...</td>\n",
              "      <td>...</td>\n",
              "      <td>...</td>\n",
              "      <td>...</td>\n",
              "      <td>...</td>\n",
              "      <td>...</td>\n",
              "      <td>...</td>\n",
              "    </tr>\n",
              "    <tr>\n",
              "      <th>644</th>\n",
              "      <td>MS</td>\n",
              "      <td>F</td>\n",
              "      <td>19</td>\n",
              "      <td>R</td>\n",
              "      <td>GT3</td>\n",
              "      <td>T</td>\n",
              "      <td>2</td>\n",
              "      <td>3</td>\n",
              "      <td>services</td>\n",
              "      <td>other</td>\n",
              "      <td>...</td>\n",
              "      <td>5</td>\n",
              "      <td>4</td>\n",
              "      <td>2</td>\n",
              "      <td>1</td>\n",
              "      <td>2</td>\n",
              "      <td>5</td>\n",
              "      <td>4</td>\n",
              "      <td>10</td>\n",
              "      <td>11</td>\n",
              "      <td>10</td>\n",
              "    </tr>\n",
              "    <tr>\n",
              "      <th>645</th>\n",
              "      <td>MS</td>\n",
              "      <td>F</td>\n",
              "      <td>18</td>\n",
              "      <td>U</td>\n",
              "      <td>LE3</td>\n",
              "      <td>T</td>\n",
              "      <td>3</td>\n",
              "      <td>1</td>\n",
              "      <td>teacher</td>\n",
              "      <td>services</td>\n",
              "      <td>...</td>\n",
              "      <td>4</td>\n",
              "      <td>3</td>\n",
              "      <td>4</td>\n",
              "      <td>1</td>\n",
              "      <td>1</td>\n",
              "      <td>1</td>\n",
              "      <td>4</td>\n",
              "      <td>15</td>\n",
              "      <td>15</td>\n",
              "      <td>16</td>\n",
              "    </tr>\n",
              "    <tr>\n",
              "      <th>646</th>\n",
              "      <td>MS</td>\n",
              "      <td>F</td>\n",
              "      <td>18</td>\n",
              "      <td>U</td>\n",
              "      <td>GT3</td>\n",
              "      <td>T</td>\n",
              "      <td>1</td>\n",
              "      <td>1</td>\n",
              "      <td>other</td>\n",
              "      <td>other</td>\n",
              "      <td>...</td>\n",
              "      <td>1</td>\n",
              "      <td>1</td>\n",
              "      <td>1</td>\n",
              "      <td>1</td>\n",
              "      <td>1</td>\n",
              "      <td>5</td>\n",
              "      <td>6</td>\n",
              "      <td>11</td>\n",
              "      <td>12</td>\n",
              "      <td>9</td>\n",
              "    </tr>\n",
              "    <tr>\n",
              "      <th>647</th>\n",
              "      <td>MS</td>\n",
              "      <td>M</td>\n",
              "      <td>17</td>\n",
              "      <td>U</td>\n",
              "      <td>LE3</td>\n",
              "      <td>T</td>\n",
              "      <td>3</td>\n",
              "      <td>1</td>\n",
              "      <td>services</td>\n",
              "      <td>services</td>\n",
              "      <td>...</td>\n",
              "      <td>2</td>\n",
              "      <td>4</td>\n",
              "      <td>5</td>\n",
              "      <td>3</td>\n",
              "      <td>4</td>\n",
              "      <td>2</td>\n",
              "      <td>6</td>\n",
              "      <td>10</td>\n",
              "      <td>10</td>\n",
              "      <td>10</td>\n",
              "    </tr>\n",
              "    <tr>\n",
              "      <th>648</th>\n",
              "      <td>MS</td>\n",
              "      <td>M</td>\n",
              "      <td>18</td>\n",
              "      <td>R</td>\n",
              "      <td>LE3</td>\n",
              "      <td>T</td>\n",
              "      <td>3</td>\n",
              "      <td>2</td>\n",
              "      <td>services</td>\n",
              "      <td>other</td>\n",
              "      <td>...</td>\n",
              "      <td>4</td>\n",
              "      <td>4</td>\n",
              "      <td>1</td>\n",
              "      <td>3</td>\n",
              "      <td>4</td>\n",
              "      <td>5</td>\n",
              "      <td>4</td>\n",
              "      <td>10</td>\n",
              "      <td>11</td>\n",
              "      <td>11</td>\n",
              "    </tr>\n",
              "  </tbody>\n",
              "</table>\n",
              "<p>649 rows × 33 columns</p>\n",
              "</div>\n",
              "      <button class=\"colab-df-convert\" onclick=\"convertToInteractive('df-a2ef8c41-a701-40b1-b1a9-ec317dbe9948')\"\n",
              "              title=\"Convert this dataframe to an interactive table.\"\n",
              "              style=\"display:none;\">\n",
              "        \n",
              "  <svg xmlns=\"http://www.w3.org/2000/svg\" height=\"24px\"viewBox=\"0 0 24 24\"\n",
              "       width=\"24px\">\n",
              "    <path d=\"M0 0h24v24H0V0z\" fill=\"none\"/>\n",
              "    <path d=\"M18.56 5.44l.94 2.06.94-2.06 2.06-.94-2.06-.94-.94-2.06-.94 2.06-2.06.94zm-11 1L8.5 8.5l.94-2.06 2.06-.94-2.06-.94L8.5 2.5l-.94 2.06-2.06.94zm10 10l.94 2.06.94-2.06 2.06-.94-2.06-.94-.94-2.06-.94 2.06-2.06.94z\"/><path d=\"M17.41 7.96l-1.37-1.37c-.4-.4-.92-.59-1.43-.59-.52 0-1.04.2-1.43.59L10.3 9.45l-7.72 7.72c-.78.78-.78 2.05 0 2.83L4 21.41c.39.39.9.59 1.41.59.51 0 1.02-.2 1.41-.59l7.78-7.78 2.81-2.81c.8-.78.8-2.07 0-2.86zM5.41 20L4 18.59l7.72-7.72 1.47 1.35L5.41 20z\"/>\n",
              "  </svg>\n",
              "      </button>\n",
              "      \n",
              "  <style>\n",
              "    .colab-df-container {\n",
              "      display:flex;\n",
              "      flex-wrap:wrap;\n",
              "      gap: 12px;\n",
              "    }\n",
              "\n",
              "    .colab-df-convert {\n",
              "      background-color: #E8F0FE;\n",
              "      border: none;\n",
              "      border-radius: 50%;\n",
              "      cursor: pointer;\n",
              "      display: none;\n",
              "      fill: #1967D2;\n",
              "      height: 32px;\n",
              "      padding: 0 0 0 0;\n",
              "      width: 32px;\n",
              "    }\n",
              "\n",
              "    .colab-df-convert:hover {\n",
              "      background-color: #E2EBFA;\n",
              "      box-shadow: 0px 1px 2px rgba(60, 64, 67, 0.3), 0px 1px 3px 1px rgba(60, 64, 67, 0.15);\n",
              "      fill: #174EA6;\n",
              "    }\n",
              "\n",
              "    [theme=dark] .colab-df-convert {\n",
              "      background-color: #3B4455;\n",
              "      fill: #D2E3FC;\n",
              "    }\n",
              "\n",
              "    [theme=dark] .colab-df-convert:hover {\n",
              "      background-color: #434B5C;\n",
              "      box-shadow: 0px 1px 3px 1px rgba(0, 0, 0, 0.15);\n",
              "      filter: drop-shadow(0px 1px 2px rgba(0, 0, 0, 0.3));\n",
              "      fill: #FFFFFF;\n",
              "    }\n",
              "  </style>\n",
              "\n",
              "      <script>\n",
              "        const buttonEl =\n",
              "          document.querySelector('#df-a2ef8c41-a701-40b1-b1a9-ec317dbe9948 button.colab-df-convert');\n",
              "        buttonEl.style.display =\n",
              "          google.colab.kernel.accessAllowed ? 'block' : 'none';\n",
              "\n",
              "        async function convertToInteractive(key) {\n",
              "          const element = document.querySelector('#df-a2ef8c41-a701-40b1-b1a9-ec317dbe9948');\n",
              "          const dataTable =\n",
              "            await google.colab.kernel.invokeFunction('convertToInteractive',\n",
              "                                                     [key], {});\n",
              "          if (!dataTable) return;\n",
              "\n",
              "          const docLinkHtml = 'Like what you see? Visit the ' +\n",
              "            '<a target=\"_blank\" href=https://colab.research.google.com/notebooks/data_table.ipynb>data table notebook</a>'\n",
              "            + ' to learn more about interactive tables.';\n",
              "          element.innerHTML = '';\n",
              "          dataTable['output_type'] = 'display_data';\n",
              "          await google.colab.output.renderOutput(dataTable, element);\n",
              "          const docLink = document.createElement('div');\n",
              "          docLink.innerHTML = docLinkHtml;\n",
              "          element.appendChild(docLink);\n",
              "        }\n",
              "      </script>\n",
              "    </div>\n",
              "  </div>\n",
              "  "
            ]
          },
          "metadata": {},
          "execution_count": 102
        }
      ]
    },
    {
      "cell_type": "code",
      "source": [
        "#Se seleccionan aquellas variables que utiles\n",
        "x =  dfGrades.iloc[:,23:30]\n",
        "y = dfGrades[\"G3\"]"
      ],
      "metadata": {
        "id": "rBXcqYUannXW"
      },
      "execution_count": null,
      "outputs": []
    },
    {
      "cell_type": "markdown",
      "source": [
        "# **Método por arboles de decision**"
      ],
      "metadata": {
        "id": "NF13xcw6nokZ"
      }
    },
    {
      "cell_type": "code",
      "source": [
        "crossGradeTree  = cross_validate(DecisionTreeRegressor(),\n",
        "                   x, y, cv=5,\n",
        "                   return_estimator=True,\n",
        "                   scoring=\"neg_mean_squared_error\",\n",
        "                   return_train_score=True,\n",
        "                   )\n"
      ],
      "metadata": {
        "id": "G8gFvtmCnpoo"
      },
      "execution_count": null,
      "outputs": []
    },
    {
      "cell_type": "code",
      "source": [
        "crossGradeTree"
      ],
      "metadata": {
        "colab": {
          "base_uri": "https://localhost:8080/"
        },
        "id": "MHU73sp5nqtq",
        "outputId": "15d8305e-c5d9-43ff-b8ec-701d972265f7"
      },
      "execution_count": null,
      "outputs": [
        {
          "output_type": "execute_result",
          "data": {
            "text/plain": [
              "{'fit_time': array([0.009902  , 0.01001978, 0.00589705, 0.00494981, 0.00557256]),\n",
              " 'score_time': array([0.00341654, 0.00256968, 0.00295901, 0.00216222, 0.00227928]),\n",
              " 'estimator': [DecisionTreeRegressor(),\n",
              "  DecisionTreeRegressor(),\n",
              "  DecisionTreeRegressor(),\n",
              "  DecisionTreeRegressor(),\n",
              "  DecisionTreeRegressor()],\n",
              " 'test_score': array([-15.29807692, -16.41538462, -22.77692308, -19.63076923,\n",
              "        -31.89922481]),\n",
              " 'train_score': array([-0.61303789, -0.58975594, -0.43962749, -0.64836224, -0.26810897])}"
            ]
          },
          "metadata": {},
          "execution_count": 105
        }
      ]
    },
    {
      "cell_type": "code",
      "source": [
        "print(\"Accuracy en test para cada cv:\", crossGradeTree['test_score'])\n",
        "print(\"Accuracy en train para cada cv:\", crossGradeTree['train_score'])"
      ],
      "metadata": {
        "colab": {
          "base_uri": "https://localhost:8080/"
        },
        "id": "hsA1BuKjnr4r",
        "outputId": "d7c5f8ce-f16e-4b42-a819-ecf006247e4f"
      },
      "execution_count": null,
      "outputs": [
        {
          "output_type": "stream",
          "name": "stdout",
          "text": [
            "Accuracy en test para cada cv: [-15.29807692 -16.41538462 -22.77692308 -19.63076923 -31.89922481]\n",
            "Accuracy en train para cada cv: [-0.61303789 -0.58975594 -0.43962749 -0.64836224 -0.26810897]\n"
          ]
        }
      ]
    },
    {
      "cell_type": "markdown",
      "source": [
        "**El modelo no es optimo.**"
      ],
      "metadata": {
        "id": "eqxsgSimntYZ"
      }
    },
    {
      "cell_type": "markdown",
      "source": [
        "# **Método por KNN**"
      ],
      "metadata": {
        "id": "xEYYVesSnu0e"
      }
    },
    {
      "cell_type": "markdown",
      "source": [
        "Se escalan los datos:"
      ],
      "metadata": {
        "id": "QJWFs4T9nw0p"
      }
    },
    {
      "cell_type": "code",
      "source": [
        "scaler = MinMaxScaler()\n",
        "scaler.fit(x)"
      ],
      "metadata": {
        "colab": {
          "base_uri": "https://localhost:8080/",
          "height": 75
        },
        "id": "w2HBAW0jny50",
        "outputId": "1cf98011-e988-4444-ddc7-79aa8e089177"
      },
      "execution_count": null,
      "outputs": [
        {
          "output_type": "execute_result",
          "data": {
            "text/plain": [
              "MinMaxScaler()"
            ],
            "text/html": [
              "<style>#sk-container-id-6 {color: black;background-color: white;}#sk-container-id-6 pre{padding: 0;}#sk-container-id-6 div.sk-toggleable {background-color: white;}#sk-container-id-6 label.sk-toggleable__label {cursor: pointer;display: block;width: 100%;margin-bottom: 0;padding: 0.3em;box-sizing: border-box;text-align: center;}#sk-container-id-6 label.sk-toggleable__label-arrow:before {content: \"▸\";float: left;margin-right: 0.25em;color: #696969;}#sk-container-id-6 label.sk-toggleable__label-arrow:hover:before {color: black;}#sk-container-id-6 div.sk-estimator:hover label.sk-toggleable__label-arrow:before {color: black;}#sk-container-id-6 div.sk-toggleable__content {max-height: 0;max-width: 0;overflow: hidden;text-align: left;background-color: #f0f8ff;}#sk-container-id-6 div.sk-toggleable__content pre {margin: 0.2em;color: black;border-radius: 0.25em;background-color: #f0f8ff;}#sk-container-id-6 input.sk-toggleable__control:checked~div.sk-toggleable__content {max-height: 200px;max-width: 100%;overflow: auto;}#sk-container-id-6 input.sk-toggleable__control:checked~label.sk-toggleable__label-arrow:before {content: \"▾\";}#sk-container-id-6 div.sk-estimator input.sk-toggleable__control:checked~label.sk-toggleable__label {background-color: #d4ebff;}#sk-container-id-6 div.sk-label input.sk-toggleable__control:checked~label.sk-toggleable__label {background-color: #d4ebff;}#sk-container-id-6 input.sk-hidden--visually {border: 0;clip: rect(1px 1px 1px 1px);clip: rect(1px, 1px, 1px, 1px);height: 1px;margin: -1px;overflow: hidden;padding: 0;position: absolute;width: 1px;}#sk-container-id-6 div.sk-estimator {font-family: monospace;background-color: #f0f8ff;border: 1px dotted black;border-radius: 0.25em;box-sizing: border-box;margin-bottom: 0.5em;}#sk-container-id-6 div.sk-estimator:hover {background-color: #d4ebff;}#sk-container-id-6 div.sk-parallel-item::after {content: \"\";width: 100%;border-bottom: 1px solid gray;flex-grow: 1;}#sk-container-id-6 div.sk-label:hover label.sk-toggleable__label {background-color: #d4ebff;}#sk-container-id-6 div.sk-serial::before {content: \"\";position: absolute;border-left: 1px solid gray;box-sizing: border-box;top: 0;bottom: 0;left: 50%;z-index: 0;}#sk-container-id-6 div.sk-serial {display: flex;flex-direction: column;align-items: center;background-color: white;padding-right: 0.2em;padding-left: 0.2em;position: relative;}#sk-container-id-6 div.sk-item {position: relative;z-index: 1;}#sk-container-id-6 div.sk-parallel {display: flex;align-items: stretch;justify-content: center;background-color: white;position: relative;}#sk-container-id-6 div.sk-item::before, #sk-container-id-6 div.sk-parallel-item::before {content: \"\";position: absolute;border-left: 1px solid gray;box-sizing: border-box;top: 0;bottom: 0;left: 50%;z-index: -1;}#sk-container-id-6 div.sk-parallel-item {display: flex;flex-direction: column;z-index: 1;position: relative;background-color: white;}#sk-container-id-6 div.sk-parallel-item:first-child::after {align-self: flex-end;width: 50%;}#sk-container-id-6 div.sk-parallel-item:last-child::after {align-self: flex-start;width: 50%;}#sk-container-id-6 div.sk-parallel-item:only-child::after {width: 0;}#sk-container-id-6 div.sk-dashed-wrapped {border: 1px dashed gray;margin: 0 0.4em 0.5em 0.4em;box-sizing: border-box;padding-bottom: 0.4em;background-color: white;}#sk-container-id-6 div.sk-label label {font-family: monospace;font-weight: bold;display: inline-block;line-height: 1.2em;}#sk-container-id-6 div.sk-label-container {text-align: center;}#sk-container-id-6 div.sk-container {/* jupyter's `normalize.less` sets `[hidden] { display: none; }` but bootstrap.min.css set `[hidden] { display: none !important; }` so we also need the `!important` here to be able to override the default hidden behavior on the sphinx rendered scikit-learn.org. See: https://github.com/scikit-learn/scikit-learn/issues/21755 */display: inline-block !important;position: relative;}#sk-container-id-6 div.sk-text-repr-fallback {display: none;}</style><div id=\"sk-container-id-6\" class=\"sk-top-container\"><div class=\"sk-text-repr-fallback\"><pre>MinMaxScaler()</pre><b>In a Jupyter environment, please rerun this cell to show the HTML representation or trust the notebook. <br />On GitHub, the HTML representation is unable to render, please try loading this page with nbviewer.org.</b></div><div class=\"sk-container\" hidden><div class=\"sk-item\"><div class=\"sk-estimator sk-toggleable\"><input class=\"sk-toggleable__control sk-hidden--visually\" id=\"sk-estimator-id-6\" type=\"checkbox\" checked><label for=\"sk-estimator-id-6\" class=\"sk-toggleable__label sk-toggleable__label-arrow\">MinMaxScaler</label><div class=\"sk-toggleable__content\"><pre>MinMaxScaler()</pre></div></div></div></div></div>"
            ]
          },
          "metadata": {},
          "execution_count": 107
        }
      ]
    },
    {
      "cell_type": "code",
      "source": [
        "df_scaled = scaler.transform(x)\n",
        "df_scaled"
      ],
      "metadata": {
        "colab": {
          "base_uri": "https://localhost:8080/"
        },
        "id": "6N5Yy1Ymnzvo",
        "outputId": "1a17bcc7-44a9-4fdb-cb20-b02202289596"
      },
      "execution_count": null,
      "outputs": [
        {
          "output_type": "execute_result",
          "data": {
            "text/plain": [
              "array([[0.75  , 0.5   , 0.75  , ..., 0.    , 0.5   , 0.125 ],\n",
              "       [1.    , 0.5   , 0.5   , ..., 0.    , 0.5   , 0.0625],\n",
              "       [0.75  , 0.5   , 0.25  , ..., 0.5   , 0.5   , 0.1875],\n",
              "       ...,\n",
              "       [0.    , 0.    , 0.    , ..., 0.    , 1.    , 0.1875],\n",
              "       [0.25  , 0.75  , 1.    , ..., 0.75  , 0.25  , 0.1875],\n",
              "       [0.75  , 0.75  , 0.    , ..., 0.75  , 1.    , 0.125 ]])"
            ]
          },
          "metadata": {},
          "execution_count": 108
        }
      ]
    },
    {
      "cell_type": "markdown",
      "source": [
        "Se realiza la validación cruzada:"
      ],
      "metadata": {
        "id": "WJa-ZtuPn1Gr"
      }
    },
    {
      "cell_type": "code",
      "source": [
        "crossGradeK = cross_validate(KNeighborsRegressor(),\n",
        "                   df_scaled, y, cv=5,\n",
        "                   return_estimator=True,\n",
        "                   scoring=\"neg_mean_squared_error\",\n",
        "                   return_train_score=True,\n",
        "                   )"
      ],
      "metadata": {
        "id": "tYkGr0yrn2vs"
      },
      "execution_count": null,
      "outputs": []
    },
    {
      "cell_type": "code",
      "source": [
        "crossGradeK"
      ],
      "metadata": {
        "colab": {
          "base_uri": "https://localhost:8080/"
        },
        "id": "VV7S2iuUn32l",
        "outputId": "36295560-ca05-46b2-abc5-b50c90572520"
      },
      "execution_count": null,
      "outputs": [
        {
          "output_type": "execute_result",
          "data": {
            "text/plain": [
              "{'fit_time': array([0.00209451, 0.00301123, 0.00167608, 0.00180364, 0.00182128]),\n",
              " 'score_time': array([0.0038662 , 0.00348091, 0.00305915, 0.00317931, 0.00309777]),\n",
              " 'estimator': [KNeighborsRegressor(),\n",
              "  KNeighborsRegressor(),\n",
              "  KNeighborsRegressor(),\n",
              "  KNeighborsRegressor(),\n",
              "  KNeighborsRegressor()],\n",
              " 'test_score': array([ -6.47538462,  -8.69784615,  -9.27784615, -11.39076923,\n",
              "        -23.91131783]),\n",
              " 'train_score': array([-8.41456647, -7.95375723, -7.77703276, -7.46196532, -5.30976923])}"
            ]
          },
          "metadata": {},
          "execution_count": 110
        }
      ]
    },
    {
      "cell_type": "code",
      "source": [
        "print(\"Accuracy en test para cada cv:\", crossGradeK['test_score'])\n",
        "print(\"Accuracy en train para cada cv:\", crossGradeK['train_score'])"
      ],
      "metadata": {
        "colab": {
          "base_uri": "https://localhost:8080/"
        },
        "id": "sVyw2bojn5cd",
        "outputId": "e9824551-2df1-4cd8-cd77-23e775bd41ed"
      },
      "execution_count": null,
      "outputs": [
        {
          "output_type": "stream",
          "name": "stdout",
          "text": [
            "Accuracy en test para cada cv: [ -6.47538462  -8.69784615  -9.27784615 -11.39076923 -23.91131783]\n",
            "Accuracy en train para cada cv: [-8.41456647 -7.95375723 -7.77703276 -7.46196532 -5.30976923]\n"
          ]
        }
      ]
    },
    {
      "cell_type": "markdown",
      "source": [
        "**El modelo no es optimo.**"
      ],
      "metadata": {
        "id": "2oygRqAXn7aA"
      }
    }
  ]
}